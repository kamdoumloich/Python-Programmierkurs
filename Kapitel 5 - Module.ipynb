{
 "cells": [
  {
   "cell_type": "markdown",
   "metadata": {},
   "source": [
    "- module\n",
    "- scoping rules"
   ]
  },
  {
   "cell_type": "markdown",
   "metadata": {},
   "source": [
    "# Das erste Modul\n",
    "\n",
    "Für das Arbeiten der Module müssen wir die Jupyternotebooks erst einmal hinter uns lassen und stattdessen direkt mit dem Interpreter beschäftigen. Was wir bisher über den Interpreter gelernt haben ist:\n",
    "- Der Interpreter kann Befehle interaktiv ausführen.\n",
    "- Man kann auch ganze Dateien als Übergabeparameter ausführen. \n",
    "- Im Hintergrund von Jupyter Notebooks läuft ein Interpreter, so dass sich alle Zellen den gleichen Interpreter teilen.\n",
    "- Zugewiesene Variablen bleiben bis zum Beenden des Interpreters gültig.\n",
    "\n",
    "Was wir bisher noch nicht haben, ist ein Konzept für die Wiederverwendung von Funktionen. Zur Wiederholung hier die Funktion zum Berechnen der Quadratwurzel aus Kapitel 4."
   ]
  },
  {
   "cell_type": "code",
   "execution_count": 1,
   "metadata": {},
   "outputs": [],
   "source": [
    "def my_sqrt(x):\n",
    "    \"\"\"Returns the square root of x\"\"\"\n",
    "    guess = 1\n",
    "    while(abs(guess*guess-x)>0.0001):\n",
    "        guess = (1/2)*(guess+x/guess)\n",
    "    return guess"
   ]
  },
  {
   "cell_type": "markdown",
   "metadata": {},
   "source": [
    "Mit unserem wisherigen wissen müsste man diese Funktion immer direkt im Interpreter ausführen, bevor man Sie benutzen kann. Auch wenn das mit einer einzigen Funktion noch praktikabel erscheint, skaliert dies nicht mehr, wenn viele Funktionen oder Klassen wiederverwendet werden sollen. Die Dateien würden schnell riesig werden. Für die Wartbarkeit wäre dieses aus *Copy & Paste* basierende Programmieren auch ein Alptraum. Stellen Sie sich vor, sie verwenden die Wurzelfunktion in 100 Programmen. Um etwas an dieser Funktion zu ändern, müssten Sie diese in allen 100 Programmen ändern. Das ist weder handhabbar, noch sinnvoll. An dieser Stelle treten die Module auf den Plan. \n",
    "\n",
    "Mit Hilfe von Modulen ist es möglich Funktionen in Dateien zu definieren, und in anderen Pythonskripten zu importieren. Hierzu muss man zuerst eine Datei anlegen, welche die zu importierenden Funktionen zur Verfügung stellt. "
   ]
  },
  {
   "cell_type": "code",
   "execution_count": 6,
   "metadata": {},
   "outputs": [
    {
     "name": "stdout",
     "output_type": "stream",
     "text": [
      "def my_sqrt(x):\r\n",
      "    \"\"\"Returns the square root of x\"\"\"\r\n",
      "    guess = 1\r\n",
      "    while(abs(guess*guess-x)>0.0001):\r\n",
      "        guess = (1/2)*(guess+x/guess)\r\n",
      "    return guess"
     ]
    }
   ],
   "source": [
    "%cat sqrt.py # a \"magic\" that prints the contents of the sqrt.py"
   ]
  },
  {
   "cell_type": "markdown",
   "metadata": {},
   "source": [
    "Den Inhalt dieser Datei kann man jetzt als Modul in anderen Dateien laden. Damit dies im Jupyter Notebook Reibungslos funktioniert, muss zunächst die folgende Zelle ausgeführt werden. Am Ende des Kaptitels wird genauer auf die bedeutung dieser Zelle und selbstgeschriebenen Modulen in Jupyter Notebooks eingegangen. TODO: LINK"
   ]
  },
  {
   "cell_type": "code",
   "execution_count": 2,
   "metadata": {},
   "outputs": [],
   "source": [
    "import os\n",
    "import sys\n",
    "sys.path.append(os.getcwd())"
   ]
  },
  {
   "cell_type": "markdown",
   "metadata": {},
   "source": [
    "Um die ```my_sqrt``` Funktion jetzt in anderen Dateien benutzen zu können, muss man Sie importieren. Hierzu gibt es in Python das Schlüsselwort```import```. Lädt man unser ```sqrt``` Modul, "
   ]
  },
  {
   "cell_type": "code",
   "execution_count": 5,
   "metadata": {},
   "outputs": [
    {
     "data": {
      "text/plain": [
       "6.480740727643494"
      ]
     },
     "execution_count": 5,
     "metadata": {},
     "output_type": "execute_result"
    }
   ],
   "source": [
    "import sqrt      # executes the sqrt.py file in the current interpreter to load the my_sqrt function\n",
    "\n",
    "sqrt.my_sqrt(42) # uses the funtion from the sqrt module"
   ]
  },
  {
   "cell_type": "code",
   "execution_count": null,
   "metadata": {},
   "outputs": [],
   "source": []
  }
 ],
 "metadata": {
  "kernelspec": {
   "display_name": "Python 3",
   "language": "python",
   "name": "python3"
  },
  "language_info": {
   "codemirror_mode": {
    "name": "ipython",
    "version": 3
   },
   "file_extension": ".py",
   "mimetype": "text/x-python",
   "name": "python",
   "nbconvert_exporter": "python",
   "pygments_lexer": "ipython3",
   "version": "3.6.6"
  }
 },
 "nbformat": 4,
 "nbformat_minor": 2
}
