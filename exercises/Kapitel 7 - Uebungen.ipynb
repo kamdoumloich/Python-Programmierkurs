{
 "cells": [
  {
   "cell_type": "markdown",
   "metadata": {},
   "source": [
    "# Übungen zu Kapitel 7\n",
    "\n",
    "Das Ziel dieser Übungen ist es das Verständnis der Python Klassenbibliothek zu vertiefen. \n",
    "\n",
    "## 7.1) Reguläre Ausdrücke\n",
    "\n",
    "Nutzen Sie einen regulären Ausdruck um zu überprüfen, ob bei einer Zeichenkette folgende Bedingungen erfüllt sind:\n",
    "- Beginnt mit einem Großbuchstaben\n",
    "- Nach jedem Leerzeichen kommt ein Großbuchstabe oder eine Ziffer\n",
    "- Besteht nur aus den Buchstaben A-Z groß und klein geschrieben, aus Ziffern, und aus Leerzeichen."
   ]
  },
  {
   "cell_type": "markdown",
   "metadata": {},
   "source": [
    "## 7.2) Zeitmessungen\n",
    "\n",
    "Gegeben ist die folgende Liste: ```[85, 55, 19, 91, 65, 63, 49, 70, 96, 16, 44, 23, 24, 94, 80, 21,  2, 46, 27, 42,  8, 26,  4, 43, 76, 29, 84, 25, 35, 77, 31, 41, 53, 51, 60,  1, 15, 34, 61, 72, 58, 36, 39, 48, 47, 30,  3, 11, 69, 88, 82, 64, 97, 33, 83, 37, 92, 45, 93,  6, 32, 17, 10, 50, 18, 14, 95, 99, 62, 40, 100, 74,  9, 78, 22,  5, 71, 81, 79, 66, 20, 86, 38, 52, 75,  7, 56, 12, 57, 28, 13, 87, 90, 68, 73, 59, 98, 67, 54, 89]```\n",
    "\n",
    "Messen Sie die Zeit, die für die Sortierung der Liste benötigt wird, einmal in dem sie ```sort``` Funktion von Python benutzen, und einmal in dem Sie alle Elemente der Liste ihrem Suchbaum hinzufügen und sich die Elemente des Baums dann als sortierte Liste zurückgeben lassen. "
   ]
  },
  {
   "cell_type": "markdown",
   "metadata": {},
   "source": [
    "## 7.3) Logging\n",
    "\n",
    "Erweitern Sie den binären Suchbaum durch das Mitloggen von Informationen über die Benutzung:\n",
    "- Auf dem DEBUG level sollte jedes hinzufügen oder entfernen von Elementen protokoliert werden. \n",
    "- Auf dem INFO level sollte es Informationen geben, falls sich die Tiefe des Baums ändert, jeweils mit der aktuellen neuen Tiefe. Die Tiefe ist definiert als der maximale Abstand eines Knotens von der Wurzel. Der Beispielbaum aus Kapitel 4 hat eine Tiefe von 2. \n",
    "- Auf dem WARNING level sollte es hinweise geben, falls Elemente nicht neu hinzugefügt werden, da Sie bereits im Baum enthalten sind.\n",
    "- Auf dem ERROR level sollte es vor dem werfen von Exceptions weitere Informationen geben."
   ]
  },
  {
   "cell_type": "markdown",
   "metadata": {},
   "source": [
    "## 7.4) Zufälliger Baum\n",
    "\n",
    "Erstellen Sie einen Suchbaum mit 1000 zufälligen Zahlen. Wie Tief ist der Baum? Entspricht das ihrer Erwartung?"
   ]
  }
 ],
 "metadata": {
  "kernelspec": {
   "display_name": "Python 3",
   "language": "python",
   "name": "python3"
  },
  "language_info": {
   "codemirror_mode": {
    "name": "ipython",
    "version": 3
   },
   "file_extension": ".py",
   "mimetype": "text/x-python",
   "name": "python",
   "nbconvert_exporter": "python",
   "pygments_lexer": "ipython3",
   "version": "3.6.7"
  }
 },
 "nbformat": 4,
 "nbformat_minor": 2
}
