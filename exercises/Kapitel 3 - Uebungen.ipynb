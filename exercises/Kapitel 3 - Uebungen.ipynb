{
 "cells": [
  {
   "cell_type": "markdown",
   "metadata": {},
   "source": [
    "# Übungen zu Kapitel 3\n",
    "\n",
    "Das Ziel dieser Übungen ist es das Verständnis von Bedingungen und Schleifen zu vertiefen.\n",
    "\n",
    "## 3.1) Iterieren über Sequenztypen\n",
    "\n",
    "Iterieren Sie über das folgende Dictionary und geben Sie den Schlüssel und den jeweiligen Wert auf zwei Nachkommastellen genau aus: ```{\"pi\": 3.14159265359, \"e\": 2.7182818284, \"phi\": 1.6180339887}```"
   ]
  },
  {
   "cell_type": "markdown",
   "metadata": {},
   "source": [
    "## 3.2) Gegeben sind zwei Listen: [1, 1, 2, 3, 5, 8] und [1, 2, 3, 4, 5].\n",
    "\n",
    "Geben Sie aus:\n",
    "- Welche Zahlen sich in beiden Listen befinden.\n",
    "- Welche Zahlen sich in beiden Listen an der selben Position befinden, inlusive der Position."
   ]
  },
  {
   "cell_type": "markdown",
   "metadata": {},
   "source": [
    "## 3.3) Fibunacci Zahlen\n",
    "\n",
    "Geben Sie die ersten 20 Fibunacci Zahlen aus."
   ]
  },
  {
   "cell_type": "markdown",
   "metadata": {},
   "source": [
    "## 3.4) Fizz Buzz\n",
    "\n",
    "Schreiben Sie ein Programm, das die Zahlen von 1 bis 100 ausgibt. Bei jeder Zahl, die durch 5 teilbar ist, soll statt der Zahl \"fizz\" ausgegeben werden und bei jeder Zahl, die durch 7 teilbar ist, soll statt der Zahl \"buzz\" ausgegeben werden. Wenn die Zahl sowohl durch 7 als auch durch 5 teilbar ist, soll statt der Zahl \"fizzbuzz\" ausgegeben werden. "
   ]
  }
 ],
 "metadata": {
  "kernelspec": {
   "display_name": "Python 3",
   "language": "python",
   "name": "python3"
  },
  "language_info": {
   "codemirror_mode": {
    "name": "ipython",
    "version": 3
   },
   "file_extension": ".py",
   "mimetype": "text/x-python",
   "name": "python",
   "nbconvert_exporter": "python",
   "pygments_lexer": "ipython3",
   "version": "3.6.7"
  }
 },
 "nbformat": 4,
 "nbformat_minor": 2
}
