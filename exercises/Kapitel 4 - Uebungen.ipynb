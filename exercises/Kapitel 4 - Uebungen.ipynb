{
 "cells": [
  {
   "cell_type": "markdown",
   "metadata": {},
   "source": [
    "# Übungen zu Kapitel 4\n",
    "\n",
    "Das Ziel dieser Übungen ist es das Verständnis von Funktionen und Klassen zu vertiefen.\n",
    "\n",
    "## 4.1) Größter Gemeinsamer Teiler\n",
    "\n",
    "Schreiben Sie eine Funktion, die den größten gemeinsamen Teiler zweier Zahlen berechnet."
   ]
  },
  {
   "cell_type": "markdown",
   "metadata": {},
   "source": [
    "## 4.2) Dokumentation und Default Parameter\n",
    "\n",
    "Ergänzen Sie die Funktion zum Berechnen des größten gemeinsamen Teilers um einen passenden Docstring. Fügen Sie außerdem einen Parameter hinzu, der steuert ob die Zwischenschritte der Berechnung des Algorithmus ausgegeben werden. Standardmäßig sollten die Zwischenschritte nicht ausgegeben werden."
   ]
  },
  {
   "cell_type": "markdown",
   "metadata": {},
   "source": [
    "## 4.3) Binärer Suchbaum\n",
    "\n",
    "Schreiben Sie eine Klasse für einen binären Suchbaum. Ein binärer Suchbaum ist eine Graph, in dem Daten sortiert gespeichert werden. Ausgehend von einer Wurzelknoten (*root*), hat jeder Knoten im Graph zwei Kindknoten: ein \"linkes Kind\" und ein \"rechtes Kind\".  Die Kinder können ebenfalls wieder Kinder haben, etc. Den linken, bzw. rechten Knoten und alle Kinder nennt man linken, bzw. rechten Teilbaum. \n",
    "\n",
    "Jeder Knoten beinhaltet den ein Element des Suchbaums, zum Beispiel eine Zahl. Die Elemente aller Knoten im Linken Teilbaum sind kleiner als das Element des aktuellen Knotens, im rechten sind sie größer. Jedes Element kann maximal einmal vorkommen. Hier ist ein Beispiel für einen kleinen Suchbaum.\n",
    "\n",
    "```\n",
    "     5\n",
    "    / \\\n",
    "   3   8\n",
    "  / \\\n",
    " 1   4\n",
    "```\n",
    "\n",
    "Diese Aufgabe ist deutlich komplexer als die bisherigen Aufgaben und unterteilt sich daher in mehrere Teilaufgaben. \n",
    "\n",
    "### 4.3.1) Grundgerüst\n",
    "\n",
    "Erstellen Sie das Grundgerüst für die Klasse des Suchbaums. Der Baum soll die folgenden Methoden unterstützen:\n",
    "- Hinzufügen einzelner Elemente\n",
    "- Entfernen einzelner Elemente\n",
    "- Ausgabe als String\n",
    "- Hinzufügen aller Elemente eines Sequenztyps (z.B. Liste, Menge)\n",
    "- Entfernen aller Elemente eines Sequenztyps (z.B. Liste, Menge)\n",
    "- (Lesbare) Ausgabe des Baums als Zeichenkette\n",
    "- Rückgabe aller Elemente des Baums als sortierte Liste\n",
    "\n",
    "Nutzen sie Magic Functions, wo Ihnen dies sinnvoll erscheint. Sie müssen nicht zwingend von beliebigen Python Objekten als Element ausgehen. Sie können annehmen, dass es sich um Zahlen handelt.\n",
    "\n",
    "### 4.3.2) Hinzufügen von Elementen\n",
    "\n",
    "Implementieren Sie den Suchbaum soweit, das alle Funktionen zum Hinzufügen von Zahlen vorhanden sind.\n",
    "\n",
    "### 4.3.3) Ausgaben\n",
    "\n",
    "Implementieren Sie die Funktionalitäten zur Ausgabe des Baums als Zeichenkette und zur Rückgabe aller Elemente als sortierte Liste.\n",
    "\n",
    "### 4.3.4) Entfernen von Elementen\n",
    "\n",
    "Implementieren Sie alle Funktionen zum Entfernen von Elementen.\n",
    "\n",
    "### 4.4.4) Dokumentation\n",
    "\n",
    "Erstellen Sie Docstrings für alle Methoden und die Klasse selbst."
   ]
  }
 ],
 "metadata": {
  "kernelspec": {
   "display_name": "Python 3",
   "language": "python",
   "name": "python3"
  },
  "language_info": {
   "codemirror_mode": {
    "name": "ipython",
    "version": 3
   },
   "file_extension": ".py",
   "mimetype": "text/x-python",
   "name": "python",
   "nbconvert_exporter": "python",
   "pygments_lexer": "ipython3",
   "version": "3.6.7"
  }
 },
 "nbformat": 4,
 "nbformat_minor": 2
}
