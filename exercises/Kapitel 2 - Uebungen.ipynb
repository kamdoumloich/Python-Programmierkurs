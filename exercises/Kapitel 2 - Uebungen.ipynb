{
 "cells": [
  {
   "cell_type": "markdown",
   "metadata": {},
   "source": [
    "# Übungen zu Kapitel 2\n",
    "\n",
    "Das Ziel dieser Übungen ist das Verständnis der grundlegenden Datenstrukturen zu vertiefen.\n",
    "\n",
    "## 2.1) Slicing von Zeichenketten\n",
    "\n",
    "Erstellen Sie eine Zeichenkette mit dem kompletten ABC in Großbuchtaben. Erstellen Sie hieraus eine neue Zeichenkette, die die folgenden Buchstabend enthält:\n",
    "- Den Zweiten.\n",
    "- Die Buchstaben 5-7.\n",
    "- Die Buchstaben 16-22.\n",
    "- Den Vorletzten."
   ]
  },
  {
   "cell_type": "markdown",
   "metadata": {},
   "source": [
    "## 2.2) Formattierte Ausgaben\n",
    "\n",
    "Erstellen Sie eine Variable mit der Zahl 2,7182818284. Geben Sie diese Variable auf 4 Nachkommastellen genau aus. Geben Sie außerdem die beiden folgenden Zeichenketten rechtsbündig in einer Zeile der Länge 30 aus:\n",
    "- \"Stringformatierung\"\n",
    "- \"ist praktisch.\""
   ]
  },
  {
   "cell_type": "markdown",
   "metadata": {},
   "source": [
    "## 2.3) Einfacher Umgang mit Listen\n",
    "\n",
    "Erstellen Sie eine Liste, die die Worte dieser Aufgabenstellung als Elemente beinhaltet. Geben Sie die Länge der Liste aus. Überprüfen Sie, ob das Wort \"Element\" in der Liste auftaucht."
   ]
  },
  {
   "cell_type": "markdown",
   "metadata": {},
   "source": [
    "## 2.4) Manipulieren von Listen\n",
    "\n",
    "Erstellen Sie ein leere Liste und fügen Sie dann die Zahlen 2, 3, 5, 7, 9, 11, 13, 14, 15 hinzu. Entfernen Sie dann die Zahl 9 über ihren Wert, die Zahl 14 über den Index und die Zahl 15, in dem Sie das letzte Element entfernen."
   ]
  },
  {
   "cell_type": "markdown",
   "metadata": {},
   "source": [
    "## 2.5) Deduplikiation von Listenelementen\n",
    "\n",
    "Geben Sie jedes verschiedene Element der folgenden Liste aus: ```[1, 1, 2, 2, 3, 3, 4, 4, 6, 6, 8, 8, \"hello\", \"hello]```"
   ]
  },
  {
   "cell_type": "markdown",
   "metadata": {},
   "source": [
    "## 2.6) Zippen von Listen\n",
    "\n",
    "Gegeben sind die beiden folgenden Listen: [\"one\", \"two\", \"three\", \"four\", \"five\", \"six\", \"seven\"] und [1, 2, 3, 4, 5, 6, 7]. Recherchieren Sie das Schlüsselwort ```zip``` und erstellen Sie ein Dictionary wo die erste Liste die Schlüssel und die zweite Liste die Werte sind. "
   ]
  },
  {
   "cell_type": "markdown",
   "metadata": {},
   "source": [
    "## 2.7) Swaping mit Tupeln\n",
    "\n",
    "Erstellen Sie die Variable a=1 und b=2. Überlegen Sie, wie sie Tupel benutzen können um die Werte in den Variablen a und b zu vertauschen. "
   ]
  }
 ],
 "metadata": {
  "kernelspec": {
   "display_name": "Python 3",
   "language": "python",
   "name": "python3"
  },
  "language_info": {
   "codemirror_mode": {
    "name": "ipython",
    "version": 3
   },
   "file_extension": ".py",
   "mimetype": "text/x-python",
   "name": "python",
   "nbconvert_exporter": "python",
   "pygments_lexer": "ipython3",
   "version": "3.6.7"
  }
 },
 "nbformat": 4,
 "nbformat_minor": 2
}
