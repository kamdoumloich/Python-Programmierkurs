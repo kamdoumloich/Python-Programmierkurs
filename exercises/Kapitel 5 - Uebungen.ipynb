{
 "cells": [
  {
   "cell_type": "markdown",
   "metadata": {},
   "source": [
    "# Übungen zu Kapitel 5\n",
    "\n",
    "Das Ziel dieser Übungen ist es das Verständnis von Modulen und Packages in Python zu vertiefen. \n",
    "\n",
    "\n",
    "\n",
    "## 5.1) Initialisierung\n",
    "\n",
    "Erstellen Sie die Grundstruktur für ein (noch) leeres Python Package. Fügen Sie den Pfad zu diesem Package dem Pythonpfad hinzu. "
   ]
  },
  {
   "cell_type": "markdown",
   "metadata": {},
   "source": [
    "## 5.2) Module\n",
    "\n",
    "Legen Sie in diesem Package zwei Module an:\n",
    "- Das erste Modul sollte die Klasse für den binären Suchbaum beinhalten\n",
    "- Das zweite Modul sollte die Funktion für den größten gemeinsamen Teiler, sowie eine Funktion, die die ersten $n$ Fibunacci Zahlen als Liste zurück gibt, enthalten. "
   ]
  },
  {
   "cell_type": "markdown",
   "metadata": {},
   "source": [
    "## 5.3) Importieren\n",
    "\n",
    "Importieren Sie das erste Modul komplett und testen Sie ob der Suchbaum wie erwartet funktioniert. Importieren Sie vom zweiten modul nur die Funktion zum Berechnen der Fibunacci zahlen und testen Sie ob diese wie erwartet funktioniert."
   ]
  }
 ],
 "metadata": {
  "kernelspec": {
   "display_name": "Python 3",
   "language": "python",
   "name": "python3"
  },
  "language_info": {
   "codemirror_mode": {
    "name": "ipython",
    "version": 3
   },
   "file_extension": ".py",
   "mimetype": "text/x-python",
   "name": "python",
   "nbconvert_exporter": "python",
   "pygments_lexer": "ipython3",
   "version": "3.6.7"
  }
 },
 "nbformat": 4,
 "nbformat_minor": 2
}
