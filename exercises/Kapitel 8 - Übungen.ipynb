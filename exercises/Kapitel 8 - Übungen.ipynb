{
 "cells": [
  {
   "cell_type": "markdown",
   "metadata": {},
   "source": [
    "# Übungen zu Kapitel 8\n",
    "\n",
    "Das Ziel dieser Übungen ist es ihr Verständnis des Packages ```numpy```, ```pandas```, ```matplotlib```, und ```networkx``` zu vertiefen. \n",
    "\n",
    "\n",
    "## 8.1) Hauptkomponentenanalyse\n",
    "\n",
    "Hauptkomponentenanalyse, auch PCA genannt, ist ein Verfahren welches häufig zur Dimensionsreduktion benutzt wird. Hierbei werden Matrizen so transformiert, das möglichst viel Information bereits in wenigen Dimensionen vorhanden ist. Um für eine Matrix $A$ eine Hauptkomponentenanalyse durchzuführen müssen Sie:\n",
    "- Die Spalten der Matrix $A$ so skalieren, dass der Erwartungswerts 0 ist ($A_0$). \n",
    "- Die Kovarianzmatrix $Cov_A$ von $A_0$ berechnen. \n",
    "- Die Eigenwerte und Eigenvektoren von $Cov_A$ berechnen. Die Eigenvektoren müssen Anhand ihrer Eigenwerte absteigend sortiert werden, so dass jeder Vektor die Spalte einer Matrix $Eig$ ist. \n",
    "- Durch Matrixmultiplikation von $Eig$ und $A_0$ erhält man die Hauptkomponenten von $A$.\n",
    "\n",
    "Alle diese Schritte werden von ```numpy``` unterstützt.\n",
    "\n",
    "### 8.1.1) CSV mit ```numpy``` lesen\n",
    "\n",
    "Lesen sie die Datei ```data.csv``` als ```numpy``` Matrix ein.\n",
    "\n",
    "### 8.1.2) Reskalieren\n",
    "\n",
    "Reskalieren Sie die Matrix, so dass der Erwartungswert für jede Spalte 0 ist. Sie können jede Spalte unabhängig voneinander reskalieren.\n",
    "\n",
    "### 8.1.3) Kovarianz und Eigenvektoren\n",
    "\n",
    "Nutzen ```numpy``` um die Kovarianzmatrix, die Eigenwerte, und die Eigenvektoren zu berechnen.\n",
    "\n",
    "### 8.1.4) Transfomieren der Matrix\n",
    "\n",
    "Sortieren Sie die Eigenvektoren um die Matrix $Eig$ aufzustellen und transformieren Sie die skalierte Matrix. "
   ]
  },
  {
   "cell_type": "markdown",
   "metadata": {},
   "source": [
    "## 8.2) Von numpy zu Pandas\n",
    "\n",
    "### 8.2.1) Erstellen von Dataframes\n",
    "\n",
    "Erstellen Sie zwei Dataframes:\n",
    "- In dem Sie die ```data.csv``` Datei direkt als Dataframe einlesen.\n",
    "- Aus der durch Matrix mit den Hauptkomponenten von A\n",
    "\n",
    "### 8.2.2) Visualisieren von Daten\n",
    "\n",
    "Nutzen Sie die Funktionen zur Visualiserung von Pandas um einen \"Pairwise Scatterplot\" von beiden Matrizen zu erstellen. Was sind die Unterschiede?"
   ]
  },
  {
   "cell_type": "markdown",
   "metadata": {},
   "source": [
    "## 8.3) Grafiken mit Matplotlib\n",
    "\n",
    "Erstellen Sie für die Daten in der ersten Spalte der Datei ```data.csv``` ein Histogram. Die Grafik sollte sowohl einen (sinnvollen) Titel, sowie Achsenbeschriftungen enthalten. "
   ]
  },
  {
   "cell_type": "markdown",
   "metadata": {},
   "source": [
    "## 8.4) Grafiken mit Teilgraphen\n",
    "\n",
    "Recherchieren Sie wie sie eine Grafik mit mehreren Teilgraphen mit Matplotlib erstellen können. Erstellen Sie dann eine Grafik mit vier Teilgraphen. Die Teilgraphen sollen hierbei ein Scatterplots der ersten Spalte der Datei ```data.csv``` gegen die vier Spalten der Hauptkomponentenmatrix sein. "
   ]
  },
  {
   "cell_type": "markdown",
   "metadata": {},
   "source": [
    "## 8.5) Der Suchbaum als Graph\n",
    "\n",
    "Erweitern Sie ihren binären Suchbaum um die möglichkeit, den Baum als Graph modelliert mit ```networkx``` zurückzugeben. Nutzen Sie dann die Die Funktionen von ```networkx``` um den Baum graphisch anzuzeigen."
   ]
  }
 ],
 "metadata": {
  "kernelspec": {
   "display_name": "Python 3",
   "language": "python",
   "name": "python3"
  },
  "language_info": {
   "codemirror_mode": {
    "name": "ipython",
    "version": 3
   },
   "file_extension": ".py",
   "mimetype": "text/x-python",
   "name": "python",
   "nbconvert_exporter": "python",
   "pygments_lexer": "ipython3",
   "version": "3.6.7"
  }
 },
 "nbformat": 4,
 "nbformat_minor": 2
}
