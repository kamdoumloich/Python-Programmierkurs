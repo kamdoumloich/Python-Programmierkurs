{
 "cells": [
  {
   "cell_type": "markdown",
   "metadata": {},
   "source": [
    "# Übungen zu Kapitel 1\n",
    "\n",
    "Das Ziel dieser Übungen ist es, Sie mit der Umgebung, in der man mit Python arbeitet, vertraut zu machen. Führen Sie die folgenden Aufgaben daher auf drei Arten durch:\n",
    "- Im Jupyter Notebook\n",
    "- Im Interpreter\n",
    "- Als Programm in einer Datei, die dem Interpreter übergeben wird.\n",
    "\n",
    "## 1.1) Hello Exercise\n",
    "\n",
    "Geben Sie die Zeile \"Hello Exercise\" aus. "
   ]
  },
  {
   "cell_type": "markdown",
   "metadata": {},
   "source": [
    "## 1.2) Einfache Ausdrücke und Typumwandlungen\n",
    "\n",
    "Hängen Sie die Zahl 42 and die Zeichenkette \"Die Antwort: \" an. "
   ]
  },
  {
   "cell_type": "markdown",
   "metadata": {},
   "source": [
    "## 1.3) Eingaben und Ausdrücke\n",
    "\n",
    "Lesen sie zwei ganze Zahlen ein. Geben sie aus ob: \n",
    "- Beide Zahlen gleich sind. \n",
    "- Ob die erste Zahl größer als die zweite Zahl ist.\n",
    "- Ob die erste Zahl eine ganze Zahl ist. \n",
    "- Ob die zweite Zahl keine ganze Zahl ist."
   ]
  }
 ],
 "metadata": {
  "kernelspec": {
   "display_name": "Python 3",
   "language": "python",
   "name": "python3"
  },
  "language_info": {
   "codemirror_mode": {
    "name": "ipython",
    "version": 3
   },
   "file_extension": ".py",
   "mimetype": "text/x-python",
   "name": "python",
   "nbconvert_exporter": "python",
   "pygments_lexer": "ipython3",
   "version": "3.6.7"
  }
 },
 "nbformat": 4,
 "nbformat_minor": 2
}
