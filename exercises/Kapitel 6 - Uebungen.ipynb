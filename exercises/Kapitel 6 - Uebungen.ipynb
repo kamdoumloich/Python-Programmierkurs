{
 "cells": [
  {
   "cell_type": "markdown",
   "metadata": {},
   "source": [
    "# Übungen zu Kapitel 6\n",
    "\n",
    "Das Ziel dieser Übungen ist es das Verständnis von Exceptions und Dateioperationen zu vertiefen.\n",
    "\n",
    "## 6.1) Erweitern des Suchbaums\n",
    "\n",
    "Erweitern Sie die Funktionen des Binären Suchbaums so, dass alle Elemente den gleichen Typ haben müssen. Der Erwartete Typ wird durch das erste Element, was hinzugefügt wird, bestimmt. Werfen Sie geeignte Exceptions, wenn ein unerwarter Typ auftritt. "
   ]
  },
  {
   "cell_type": "markdown",
   "metadata": {},
   "source": [
    "## 6.2) Abfangen von Exceptions\n",
    "\n",
    "Benutzen Sie den Suchbaum auf invalide Art und Weise. Fangen sie die Exceptions ab und geben Sie passende Fehlermeldungen aus, ohne dass es zum Absturz kommt. "
   ]
  },
  {
   "cell_type": "markdown",
   "metadata": {},
   "source": [
    "## 6.3) Schreiben des Baums. \n",
    "\n",
    "Erweitern Sie den binären Suchbaum, so dass er als Zeichenkette gut lesbar in eine Datei ausgegeben wird."
   ]
  }
 ],
 "metadata": {
  "kernelspec": {
   "display_name": "Python 3",
   "language": "python",
   "name": "python3"
  },
  "language_info": {
   "codemirror_mode": {
    "name": "ipython",
    "version": 3
   },
   "file_extension": ".py",
   "mimetype": "text/x-python",
   "name": "python",
   "nbconvert_exporter": "python",
   "pygments_lexer": "ipython3",
   "version": "3.6.7"
  }
 },
 "nbformat": 4,
 "nbformat_minor": 2
}
