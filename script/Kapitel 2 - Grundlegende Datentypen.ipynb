{
 "cells": [
  {
   "cell_type": "markdown",
   "metadata": {},
   "source": [
    "# Inhalt\n",
    "\n",
    "Das zweite Kapitel geht auf die von Python zur Verfügung gestellten Datentypen ein und deckt die folgenden Konzepte ab:\n",
    "- NoneType\n",
    "- Details zu Zeichenketten\n",
    "- Listen\n",
    "- Tupel\n",
    "- Mengen\n",
    "- Dictionaries\n",
    "\n",
    "# Datentypen\n",
    "\n",
    "Datentypen sind die Grundlage zur Verarbeitung und Speicherung von Informationen in Computerprogrammen. In Python unterscheidet man zwischen skalaren Datentypen und nicht-skalaren Datentypen (Objekte). Skalare Datentypen speichern lediglich eine bestimmte Art von Information, Objekte haben eine interne Struktur und stellen häufig auch Methoden zum Arbeiten mit den Daten zur Verfügung. Eine großer Vorteil von Python ist, dass die Sprache von Haus aus einige sehr mächtige Datentypen mitbringt. Dadurch lassen sich viele Probleme bereits ohne die Nutzung von zusätzlichen Bibliotheksfunktionen (Kapitel 5) lösen. \n",
    "\n",
    "# Der NoneType\n",
    "\n",
    "Ein wichtiges, wenn auch nicht immer ganz intuitives Konzept, in der Programmierung sind Datentypen. In Java gibt es zum Beispiel ```null```. In Python gibt es hierfür den ```NoneType``` der als einzigen möglichen Wert ```None``` hat. ```None``` wird zum Beispiel als Rückgabewert von Funktionen und Methoden benutzt, wenn es keinen \"echten\" Rückgabewert gibt, zum Beispiel weil etwas nicht gefunden wurde, oder weil es einfach keinen logischen Rückgabewert gibt. Der Rückgabewert der ```print()``` Funktion ist zum Beispiel ```None```. Um zu Überprüfen ob etwas ```None``` ist, benutzt ist ```is None```, um sicher zu gehen das etwas nicht ```None``` ist, nutzt man ```is not None```."
   ]
  },
  {
   "cell_type": "code",
   "execution_count": 1,
   "metadata": {},
   "outputs": [
    {
     "name": "stdout",
     "output_type": "stream",
     "text": [
      "Hello World!\n",
      "True\n",
      "Hello World!\n",
      "False\n"
     ]
    }
   ],
   "source": [
    "print(print(\"Hello World!\") is None)\n",
    "print(print(\"Hello World!\") is not None)"
   ]
  },
  {
   "cell_type": "markdown",
   "metadata": {},
   "source": [
    "# Sequenzen\n",
    "\n",
    "In Python spielen Sequnzen eine zentrale Rolle. Sequenzen sind, vereinfacht gesagt, Aneinanderreihungen von Objekten. Sequenzdatentypen sind alle Datentypen, die aus einer Aneinanderreihungen von Objekten bestehen. Dies können zum Beispiel Aneinanderreihungen von Zeichen sein um eine Zeichenkette zu bilden oder von beliebigen Objekten in einer Liste. Alle Sequenzen haben Gemeinsam, dass man über sie *iterieren* kann, dass heißt von einem Objekt zum nächsten gehen. Im folgenden Betrachten wir Zeichenketten als Sequenzen und führen mit Listen, Tupeln, und Mengen noch weitere Sequenzen als Datentypen ein.  \n",
    "\n",
    "# Details zu Zeichenketten\n",
    "\n",
    "## Indexzugriffe und Slicing\n",
    "\n",
    "Bisher haben wir Zeichenketten immer als ganzes betrachtet. Man kann jedoch auch auf die einzelnen Zeichen zugreifen. Hierfür verwendet man Indexzugriffe, die in Python mit Hilfe von eckigen Klammern durchgeführt werden. Der Index des ersten Elements in Python is 0. "
   ]
  },
  {
   "cell_type": "code",
   "execution_count": 2,
   "metadata": {},
   "outputs": [
    {
     "name": "stdout",
     "output_type": "stream",
     "text": [
      "H\n",
      "d\n"
     ]
    }
   ],
   "source": [
    "my_string = \"Hello World!\"\n",
    "print(my_string[0])  # prints the first character of the string\n",
    "print(my_string[10]) # prints the 10th character of the string"
   ]
  },
  {
   "cell_type": "markdown",
   "metadata": {},
   "source": [
    "Probiert man auf einen Index zuzugreifen, den es nicht gibt, bekommt man eine Fehlermeldung. "
   ]
  },
  {
   "cell_type": "code",
   "execution_count": 3,
   "metadata": {},
   "outputs": [
    {
     "ename": "IndexError",
     "evalue": "string index out of range",
     "output_type": "error",
     "traceback": [
      "\u001b[0;31m---------------------------------------------------------------------------\u001b[0m",
      "\u001b[0;31mIndexError\u001b[0m                                Traceback (most recent call last)",
      "\u001b[0;32m<ipython-input-3-6f18cd1d5ba2>\u001b[0m in \u001b[0;36m<module>\u001b[0;34m()\u001b[0m\n\u001b[0;32m----> 1\u001b[0;31m \u001b[0mmy_string\u001b[0m\u001b[0;34m[\u001b[0m\u001b[0;36m20\u001b[0m\u001b[0;34m]\u001b[0m\u001b[0;34m\u001b[0m\u001b[0m\n\u001b[0m",
      "\u001b[0;31mIndexError\u001b[0m: string index out of range"
     ]
    }
   ],
   "source": [
    "my_string[20]"
   ]
  },
  {
   "cell_type": "markdown",
   "metadata": {},
   "source": [
    "Man kann in Python auch negative Indizes verwenden. Hiermit greift man \"von hinten\" auf den String zu. -1 ist also das letzte Zeichen, -2 das vorletzte, etc."
   ]
  },
  {
   "cell_type": "code",
   "execution_count": 4,
   "metadata": {},
   "outputs": [
    {
     "name": "stdout",
     "output_type": "stream",
     "text": [
      "!\n",
      "l\n"
     ]
    }
   ],
   "source": [
    "print(my_string[-1])  # prints the last character of the string\n",
    "print(my_string[-10]) # prints the 10th character from the end of the string"
   ]
  },
  {
   "cell_type": "markdown",
   "metadata": {},
   "source": [
    "Für Zugriffe auf Teile von Zeichenketten gibt es das Konzept des *slicing* in Python. Hierzu wird der Doppelpunkt als Operator verwendet ```<start_index>:<end_index>```. Der Startindex ist Teil des Slices (inclusive), der Endindex ist nicht Teil des Slices (exclusive). Lässt man den Start- oder Endindex weg, wird der Anfang, bzw. das Ende des Strings genommen. "
   ]
  },
  {
   "cell_type": "code",
   "execution_count": 5,
   "metadata": {},
   "outputs": [
    {
     "name": "stdout",
     "output_type": "stream",
     "text": [
      "Hello\n",
      "World\n",
      "Hello\n",
      "World!\n",
      "Hello World!\n"
     ]
    }
   ],
   "source": [
    "print(my_string[0:5])  # substring with the characters between index 0 (inclusive) and index 5 (exclusive)\n",
    "print(my_string[6:11]) # substring with the characters between index 6 (inclusive) and index 11 (exclusive)\n",
    "print(my_string[:5])   # substring with the characters from the start of string until index 5 (exclusive)\n",
    "print(my_string[6:])   # substring with the characters from index 6 (inclusive) until the end of the string\n",
    "print(my_string[:])    # complete string"
   ]
  },
  {
   "cell_type": "markdown",
   "metadata": {},
   "source": [
    "Zeichenketten sind unveränderbar (immutable). Das bedeutet, das man eine bestehende Zeichenkette nicht direkt verändern kann. Probiert man es dennoch, bekommt man eine Fehlermeldung."
   ]
  },
  {
   "cell_type": "code",
   "execution_count": 6,
   "metadata": {},
   "outputs": [
    {
     "ename": "TypeError",
     "evalue": "'str' object does not support item assignment",
     "output_type": "error",
     "traceback": [
      "\u001b[0;31m---------------------------------------------------------------------------\u001b[0m",
      "\u001b[0;31mTypeError\u001b[0m                                 Traceback (most recent call last)",
      "\u001b[0;32m<ipython-input-6-bc74b02a765a>\u001b[0m in \u001b[0;36m<module>\u001b[0;34m()\u001b[0m\n\u001b[0;32m----> 1\u001b[0;31m \u001b[0mmy_string\u001b[0m\u001b[0;34m[\u001b[0m\u001b[0;36m0\u001b[0m\u001b[0;34m]\u001b[0m \u001b[0;34m=\u001b[0m \u001b[0;34m\"h\"\u001b[0m\u001b[0;34m\u001b[0m\u001b[0m\n\u001b[0m",
      "\u001b[0;31mTypeError\u001b[0m: 'str' object does not support item assignment"
     ]
    }
   ],
   "source": [
    "my_string[0] = \"h\""
   ]
  },
  {
   "cell_type": "markdown",
   "metadata": {},
   "source": [
    "Die Länge einer Zeichenkette kann man mit ```len(string)``` bestimmen. "
   ]
  },
  {
   "cell_type": "code",
   "execution_count": 7,
   "metadata": {},
   "outputs": [
    {
     "name": "stdout",
     "output_type": "stream",
     "text": [
      "12\n"
     ]
    }
   ],
   "source": [
    "print(len(my_string))"
   ]
  },
  {
   "cell_type": "markdown",
   "metadata": {},
   "source": [
    "## Formattierte Strings\n",
    "\n",
    "Für Ausgaben ist es häufig wichtig Informationen in Zeichenketten aufzuarbeiten. Oben haben wir bereits gesehen, wie man durch Operatoren Zahlen und andere Strings aneinander anhängen kann. Auch wenn dies in einfachen Fällen ausreichend ist, stößt man schnell an die Grenzen, bzw. hat sehr viel Aufwand. Für \"hübsche\" formatierte Zeichenketten gibt es in Python verschiedene Möglichkeiten. \n",
    "\n",
    "### format()\n",
    "\n",
    "In Python gibt es die [Format Specification Mini-Language](https://docs.python.org/3/library/string.html#formatspec) zur Definition von formatierten Zeichenketten. Hierzu wird die ```format()``` Methode von ```str``` benutzt. Durch geschweifte Klammern ```{}``` markierte Bereiche werden dann durch formatierte Strings von Objekten ersetzen."
   ]
  },
  {
   "cell_type": "code",
   "execution_count": 3,
   "metadata": {},
   "outputs": [
    {
     "name": "stdout",
     "output_type": "stream",
     "text": [
      "pi = 3.14159265359\n",
      "pi = 3.14159265359 (approximation of pi)\n",
      "pi = 3.14159265359\n"
     ]
    }
   ],
   "source": [
    "print(\"{0} = {1}\".format(\"pi\", 3.14159265359))                            # format string with index\n",
    "print(\"{0} = {1} (approximation of {0})\".format(\"pi\", 3.14159265359))     # same index can be used multiple times\n",
    "print(\"{pi_str} = {pi_value}\".format(pi_str=\"pi\",pi_value=3.14159265359)) # format string with names"
   ]
  },
  {
   "cell_type": "markdown",
   "metadata": {},
   "source": [
    "Die Möglichkeiten von ```format()``` gehen weit über das reine einsetzen von Werten hinaus. Insbesondere lässt sich die Art, wie eine Zahl dargestellt werden soll, einstellen. Zum Beispiel lässt sich definieren, wie viele Nachkommastellen eine Zahl hat, wie Vorzeichen angezeigt werden, und ob eine wissenschaftliche Darstellung mit Hilfe eines Exponenten benutzt werden soll. Dies wird über eine Formatbeschreibung gemacht, die man mit einem ```:``` nach dem index, bzw. dem Namen des Parameters anhängt."
   ]
  },
  {
   "cell_type": "code",
   "execution_count": 9,
   "metadata": {},
   "outputs": [
    {
     "name": "stdout",
     "output_type": "stream",
     "text": [
      "pi = 3.142\n",
      "pi = 3.14159\n",
      "1.000000e+07\n"
     ]
    }
   ],
   "source": [
    "print(\"{0} = {1:.3f}\".format(\"pi\", 3.14159265359)) # .2f specifies that three digits after the comma are displayed (rounded)\n",
    "print(\"{0} = {1:.5f}\".format(\"pi\", 3.14159265359)) # .5f specifies that five digits after the comma are displayed (rounded)\n",
    "print(\"{0:e}\".format(10000000))                    # specifies that scientific notation is used"
   ]
  },
  {
   "cell_type": "markdown",
   "metadata": {},
   "source": [
    "### Formattierte Stringliterale\n",
    "\n",
    "Ein sehr neues Feature (Python 3.6) sind formattierte Stringliterale. Hierbei handelt es sich um \"Zeichenketten mit Platzhaltern\". Hiermit ist es möglich die Werte von variablen dynamisch in Zeichenketten einzubetten. Man definiert, dass es sich um ein formattiertes Stringliteral, in dem man ```f``` (bzw. ```F```) der Zeichenkette voran stellt. Durch geschweifte Klammern ```{}``` markiert man Bereiche, die durch Variablen ersetzt werden. Die Definition von Ersetzungen und der Formattierung ist die gleiche, wie bei [format()](#string.format())."
   ]
  },
  {
   "cell_type": "code",
   "execution_count": 10,
   "metadata": {},
   "outputs": [
    {
     "name": "stdout",
     "output_type": "stream",
     "text": [
      "Hello World!\n"
     ]
    }
   ],
   "source": [
    "value = \"World\"\n",
    "formated_string = f\"Hello {value}!\" # formated string literal where {value} will be replaced by the content of the variable value\n",
    "print(formated_string)"
   ]
  },
  {
   "cell_type": "markdown",
   "metadata": {},
   "source": [
    "### printf-style Formatstrings\n",
    "\n",
    "Python unterstützt auch [formatierte Strings in einer ähnlichen Syntax wie man sie von printf](https://docs.python.org/3/library/stdtypes.html#printf-style-string-formatting) aus der Sprache C kennt. Für diese Art formatierung hängt man die Objekte mit einem ```%``` an einen Zeichenkette an. Der Vorteil dieser Syntax ist, dass derartige Formatstrings weit verbreitet sind. Der Nachteil ist, dass man die Parameter weder benennen kann, noch über ihren Namen oder Index mehrfach verwenden kann. "
   ]
  },
  {
   "cell_type": "code",
   "execution_count": 11,
   "metadata": {},
   "outputs": [
    {
     "name": "stdout",
     "output_type": "stream",
     "text": [
      "pi = 3.142\n",
      "pi = 3.142\n"
     ]
    }
   ],
   "source": [
    "print(\"pi = %.3f\" % 3.14159265359)         # uses % notation in strings as is known from printf\n",
    "print(\"%s = %.3f\" % (\"pi\", 3.14159265359)) # use () in case mutliple objects are used"
   ]
  },
  {
   "cell_type": "markdown",
   "metadata": {},
   "source": [
    "## Weitere wichtige Methoden für Strings\n",
    "\n",
    "Zeichenketten in Python sind Objekte, das heißt es gibt Methoden, die direkt auf den Strings aufgerufen werden können um mit ihnen zu arbeiten. Hier sind einige Beispiele für hilfreiche Methoden. Eine vollständige Referenz finden Sie in der [Python Dokumentation](https://docs.python.org/3/library/stdtypes.html#string-methods)."
   ]
  },
  {
   "cell_type": "code",
   "execution_count": 4,
   "metadata": {},
   "outputs": [
    {
     "name": "stdout",
     "output_type": "stream",
     "text": [
      "True\n",
      "False\n",
      "HELLO WORLD!\n",
      "hello world!\n",
      "                  Hello World!\n",
      "Hello World!\n",
      "False\n"
     ]
    }
   ],
   "source": [
    "my_string = \"Hello World!\"\n",
    "print(my_string.startswith(\"Hello\")) # startswith tests if a string starts with another string\n",
    "print(my_string.endswith(\"World\"))   # endswith tests if a string ends with another string\n",
    "print(my_string.upper())             # upper makes all characters upper case\n",
    "print(my_string.lower())             # lower makes all characters lower case\n",
    "print(my_string.rjust(30))           # rjust right-adjusts string by adding spaces (ljust also available)\n",
    "print(my_string.rjust(30).strip())   # strip removes all leading and trailing whitepaces\n",
    "print(my_string.isnumeric())         # isnumeric checks if a string is a number (also available: isalpha, isalnum, isdigit, ...)"
   ]
  },
  {
   "cell_type": "markdown",
   "metadata": {},
   "source": [
    "# Listen\n",
    "\n",
    "Der Datentyp ```List``` speichert eine sortierte Sequenz von Objekten in Python. Listen werden mit Hilfe von eckigen Klammern ```[]``` definiert. Man kann auf jedes Element einer Liste mit Hilfe des Indexes und ```[]``` zugreifen, genau wie auf die einzelnen Zeichen von Zeichenketten, inklusive Zugriff durch Slicing. "
   ]
  },
  {
   "cell_type": "code",
   "execution_count": 13,
   "metadata": {},
   "outputs": [
    {
     "name": "stdout",
     "output_type": "stream",
     "text": [
      "['Hello', 'World', '!']\n",
      "Hello\n",
      "World\n",
      "!\n",
      "!\n",
      "World\n",
      "Hello\n",
      "['World', '!']\n"
     ]
    }
   ],
   "source": [
    "my_list = [\"Hello\",\"World\",\"!\"]\n",
    "print(my_list)\n",
    "print(my_list[0])\n",
    "print(my_list[1])\n",
    "print(my_list[2])\n",
    "print(my_list[-1])\n",
    "print(my_list[-2])\n",
    "print(my_list[-3])\n",
    "print(my_list[1:3])"
   ]
  },
  {
   "cell_type": "markdown",
   "metadata": {},
   "source": [
    "Die Anzahl der Elemente in einer Liste kann man mit ```len``` bestimmen."
   ]
  },
  {
   "cell_type": "code",
   "execution_count": 14,
   "metadata": {},
   "outputs": [
    {
     "name": "stdout",
     "output_type": "stream",
     "text": [
      "3\n"
     ]
    }
   ],
   "source": [
    "print(len(my_list))"
   ]
  },
  {
   "cell_type": "markdown",
   "metadata": {},
   "source": [
    "Will man wissen ob sich ein Objekt in einer Liste befindet, kann man den ```in``` Operator benutzen, um zu überprüfen ob ein Objekt sich nicht in einer Liste befindet nutzt man ```not in```."
   ]
  },
  {
   "cell_type": "code",
   "execution_count": 15,
   "metadata": {},
   "outputs": [
    {
     "name": "stdout",
     "output_type": "stream",
     "text": [
      "True\n",
      "True\n"
     ]
    }
   ],
   "source": [
    "print(\"Hello\" in my_list)\n",
    "print(\"hi\" not in my_list)"
   ]
  },
  {
   "cell_type": "markdown",
   "metadata": {},
   "source": [
    "Im Gegensatz zu Zeichenketten sind Listen sind veränderbar (mutable). Das heißt man kann Elemente durch andere Objekte ersetzen, sowie Elemente hinzufügen und entfernen. Zum Ersetzen kann man einfach per Indexzugriff neue Werte zuweisen. Zum Hinzufügen, beziehungsweise Entfernen von Elementen gibt es bei Listen die Methoden ```append(element)``` und ```insert(index, element)```, beziehungsweise ```remove(element)``` und  ```pop(index)```. Man kann alle Elemente mit der ```clear()``` Mehtode entfernen. Einzelne Elemente können auch mit Hilfe von ```del``` und dem Indexzugriff gelöscht werden."
   ]
  },
  {
   "cell_type": "code",
   "execution_count": 16,
   "metadata": {},
   "outputs": [
    {
     "name": "stdout",
     "output_type": "stream",
     "text": [
      "['Hi', 'World', '!']\n",
      "['Hi', 'World', '!', '!']\n",
      "['Hi', 'beautiful', 'World', '!', '!']\n",
      "['Hi', 'beautiful', '!', '!']\n",
      "['Hi', '!', '!']\n",
      "['Hi', '!']\n",
      "[]\n"
     ]
    }
   ],
   "source": [
    "my_changed_list = [\"Hello\",\"World\",\"!\"]\n",
    "my_changed_list[0] = \"Hi\"              # changes the first element to \"Hi\"\n",
    "print(my_changed_list)\n",
    "my_changed_list.append(\"!\")            # appends a value at the end of the list\n",
    "print(my_changed_list)\n",
    "my_changed_list.insert(1,\"beautiful\")  # inserts a value at the given position of the list, all following elements move back\n",
    "print(my_changed_list)\n",
    "my_changed_list.remove(\"World\")        # removes the first occurence of an element from a list\n",
    "print(my_changed_list)\n",
    "my_changed_list.pop(1)                 # removes an element by using the index\n",
    "print(my_changed_list)\n",
    "del my_changed_list[1]                 # removes an element with del\n",
    "print(my_changed_list)\n",
    "my_changed_list.clear()                # removes all elements\n",
    "print(my_changed_list)"
   ]
  },
  {
   "cell_type": "markdown",
   "metadata": {},
   "source": [
    "Kommt das gleiche Element mehrfach in einer Liste vor, wird nur das erste dieser Elemente von ```remove``` entfernt. Da Listen verändert sind, reicht es nicht eine Liste einfach einer Variable zuzuweisen, um den aktuellen Zustand festzuhalten. Stattdessen muss man hierfür die ```copy()``` Methode benutzen. "
   ]
  },
  {
   "cell_type": "code",
   "execution_count": 17,
   "metadata": {},
   "outputs": [
    {
     "name": "stdout",
     "output_type": "stream",
     "text": [
      "['Hi', 'World', '!']\n",
      "['Hello', 'World', '!']\n"
     ]
    }
   ],
   "source": [
    "my_changed_list = [\"Hello\",\"World\",\"!\"]\n",
    "my_other_reference = my_changed_list    # assign the same list to another variable\n",
    "my_copied_list = my_changed_list.copy() # create a copy of the list\n",
    "my_changed_list[0] = \"Hi\"               # modify my_changed_list\n",
    "print(my_other_reference)               # the reference is changed\n",
    "print(my_copied_list)                   # the copy remains the same"
   ]
  },
  {
   "cell_type": "markdown",
   "metadata": {},
   "source": [
    "Bei der Kopie der Liste handelt es sich um eine *shallow copy*, das heißt es wird lediglich die Liste kopiert, die Elemente der Liste werden nicht ebenfalls kopiert. (Mehr zum Kopieren gibt es in Kapitel 7.)\n",
    "\n",
    "Weitere Methoden zum Arbeiten mit Listen sind ```sort()``` zum Sortieren der Werte, ```reverse()``` um die Reihenfolge der Listenelemente zu invertieren, und ```count(element)``` um zu Zählen wie häufig ein Element in einer Liste vorkommt.\n",
    "\n",
    "# Tupel\n",
    "\n",
    "Vereinfacht gesagt, hat mit mit dem Datentyp ```tuple``` unveränderliche Listen. Die Erstellung von Tupeln ähnelt der Erstellung von Listen, nur das ```()``` genutzt wird."
   ]
  },
  {
   "cell_type": "code",
   "execution_count": 18,
   "metadata": {},
   "outputs": [
    {
     "name": "stdout",
     "output_type": "stream",
     "text": [
      "('Hello', 'World', '!')\n",
      "World\n",
      "True\n",
      "True\n",
      "3\n"
     ]
    }
   ],
   "source": [
    "my_tuple = (\"Hello\", \"World\", \"!\") # creates a new tuple\n",
    "print(my_tuple)\n",
    "print(my_tuple[1])\n",
    "print(\"Hello\" in my_tuple)\n",
    "print(\"Hi\" not in my_tuple)\n",
    "print(len(my_tuple))"
   ]
  },
  {
   "cell_type": "markdown",
   "metadata": {},
   "source": [
    "Eine wichtige Eigentschaft von Tupeln ist  das *packing*, bzw. das *unpacking*. Das packing ist vergleichbar zu Mehrfachzuweisungen, nur dass statt mehreren Variablen nur ein Tupel zugewiesen wird. Beim unpacking passiert das Gegenteil: aus einem Tupel werden mehrere Variablen zugewiesen. "
   ]
  },
  {
   "cell_type": "code",
   "execution_count": 19,
   "metadata": {},
   "outputs": [
    {
     "name": "stdout",
     "output_type": "stream",
     "text": [
      "('Hello', 'World', '!')\n",
      "Hello\n",
      "World\n",
      "!\n"
     ]
    }
   ],
   "source": [
    "my_tuple = \"Hello\",\"World\",\"!\"     # creates a tuple through packing, only works with tuples\n",
    "print(my_tuple)\n",
    "hello,world,exclamation = my_tuple # unpacks the tuple into three variables, also works with lists\n",
    "print(hello)\n",
    "print(world)\n",
    "print(exclamation)"
   ]
  },
  {
   "cell_type": "markdown",
   "metadata": {},
   "source": [
    "Beim unpacking muss man beachten, dass die Anzahl der zugewiesen Variablen der Länge des Tupels entsprechen muss, also jeder Wert im Tupel muss einer Variablen zugewiesen werden. Ansonsten gibt es eine Fehlermeldung. "
   ]
  },
  {
   "cell_type": "code",
   "execution_count": 20,
   "metadata": {},
   "outputs": [
    {
     "ename": "ValueError",
     "evalue": "too many values to unpack (expected 2)",
     "output_type": "error",
     "traceback": [
      "\u001b[0;31m---------------------------------------------------------------------------\u001b[0m",
      "\u001b[0;31mValueError\u001b[0m                                Traceback (most recent call last)",
      "\u001b[0;32m<ipython-input-20-16bcb2031202>\u001b[0m in \u001b[0;36m<module>\u001b[0;34m()\u001b[0m\n\u001b[0;32m----> 1\u001b[0;31m \u001b[0mhello\u001b[0m\u001b[0;34m,\u001b[0m\u001b[0mworld\u001b[0m \u001b[0;34m=\u001b[0m \u001b[0mmy_tuple\u001b[0m \u001b[0;31m# only two variables instead of three --> error\u001b[0m\u001b[0;34m\u001b[0m\u001b[0m\n\u001b[0m",
      "\u001b[0;31mValueError\u001b[0m: too many values to unpack (expected 2)"
     ]
    }
   ],
   "source": [
    "hello,world = my_tuple # only two variables instead of three --> error"
   ]
  },
  {
   "cell_type": "markdown",
   "metadata": {},
   "source": [
    "Das leere Tupel kann man einfach durch leere Klammern ```()``` erstellen. Einelementige Tupel sind jedoch Syntaktisch etwas unschön, da es nicht ausreicht einfach ein Objekt in Klammern zu setzen. Man braucht zusätzlich noch ein Komma am Ende. "
   ]
  },
  {
   "cell_type": "code",
   "execution_count": 21,
   "metadata": {},
   "outputs": [
    {
     "name": "stdout",
     "output_type": "stream",
     "text": [
      "<class 'str'>\n",
      "<class 'tuple'>\n",
      "1\n"
     ]
    }
   ],
   "source": [
    "no_tuple = (\"hello\")\n",
    "print(type(no_tuple))\n",
    "one_element_tuple = (\"hello\",)\n",
    "print(type(one_element_tuple))\n",
    "print(len(one_element_tuple))"
   ]
  },
  {
   "cell_type": "markdown",
   "metadata": {},
   "source": [
    "# Sets\n",
    "\n",
    "Sowohl Listen als auch Tuple können das selbe Objekt mehrfach beinhalten. Mengen haben die Eigenschaft, dass jedes Objekt nur genau einmal enthalten ist und sie dafür, wenn man es nicht explizit fordert, unsortiert sind. In Python gibt es hierfür den Datentyp ```set```. Um eine Menge zu definieren benutzt man entweder ```set()``` oder geschweifte Klammern ```{}```."
   ]
  },
  {
   "cell_type": "code",
   "execution_count": 22,
   "metadata": {},
   "outputs": [
    {
     "name": "stdout",
     "output_type": "stream",
     "text": [
      "{'World', 'Hello', '!'}\n",
      "True\n",
      "True\n",
      "3\n"
     ]
    }
   ],
   "source": [
    "my_set = {\"Hello\", \"Hello\", \"World\", \"!\"}      # creates a new set\n",
    "my_set = set([\"Hello\", \"Hello\", \"World\", \"!\"]) # same as above, but creates the set from a list\n",
    "print(my_set)\n",
    "print(\"Hello\" in my_set)\n",
    "print(\"hi\" not in my_set)\n",
    "print(len(my_set))"
   ]
  },
  {
   "cell_type": "markdown",
   "metadata": {},
   "source": [
    "Sets sind, genau wie Listen, veränderbar. Objekte können mit ```add(element)``` hinzugefügt und mit ```remove(element)```, bzw. ```discard(element)``` entfernt werden. Der unterschied zwischen ```remove``` und ```discard``` ist, dass es bei ```remove```  einen Fehler gibt, wenn es das Objekt nicht in der Menge gibt. Man kann alle Elemente mit ```clear()``` entfernen. "
   ]
  },
  {
   "cell_type": "code",
   "execution_count": 23,
   "metadata": {},
   "outputs": [
    {
     "name": "stdout",
     "output_type": "stream",
     "text": [
      "{'World', 'Hello', 'hi', '!'}\n",
      "{'World', 'hi', '!'}\n",
      "set()\n"
     ]
    }
   ],
   "source": [
    "my_changing_set = {\"Hello\", \"World\", \"!\"}\n",
    "my_changing_set.add(\"hi\")         # adds \"hi\" to the set\n",
    "my_changing_set.add(\"hi\")         # does nothing, \"hi\" already part of the set\n",
    "print(my_changing_set)\n",
    "my_changing_set.remove(\"Hello\")   # removes \"Hello\" from the set\n",
    "print(my_changing_set)\n",
    "my_changing_set.clear()\n",
    "print(my_changing_set)"
   ]
  },
  {
   "cell_type": "code",
   "execution_count": 24,
   "metadata": {},
   "outputs": [
    {
     "ename": "KeyError",
     "evalue": "'does not exist'",
     "output_type": "error",
     "traceback": [
      "\u001b[0;31m---------------------------------------------------------------------------\u001b[0m",
      "\u001b[0;31mKeyError\u001b[0m                                  Traceback (most recent call last)",
      "\u001b[0;32m<ipython-input-24-6c734f3c3596>\u001b[0m in \u001b[0;36m<module>\u001b[0;34m()\u001b[0m\n\u001b[0;32m----> 1\u001b[0;31m \u001b[0mmy_changing_set\u001b[0m\u001b[0;34m.\u001b[0m\u001b[0mremove\u001b[0m\u001b[0;34m(\u001b[0m\u001b[0;34m\"does not exist\"\u001b[0m\u001b[0;34m)\u001b[0m\u001b[0;34m\u001b[0m\u001b[0m\n\u001b[0m",
      "\u001b[0;31mKeyError\u001b[0m: 'does not exist'"
     ]
    }
   ],
   "source": [
    "my_changing_set.remove(\"does not exist\")"
   ]
  },
  {
   "cell_type": "markdown",
   "metadata": {},
   "source": [
    "Da es sich bei beim Datentyp ```set``` um Mengen im Sinne der mathematischen Definition von Mengen handelt, kann man auch Mengenoperationen durchführen. Verfügbar sind die Vereinigung (```union```), Schnittmenge (```difference```), Differenzmenge (```intersection```) und die symmetrische Differenz (```symmetric_difference```). Außerdem kann man überprüfen ob es sich um eine Teilmenge (```issubset```) oder eine Obermenge (```issuperset```) handelt, sowie ob Mengen disjunkt sind (```isdisjunct```). "
   ]
  },
  {
   "cell_type": "code",
   "execution_count": 25,
   "metadata": {},
   "outputs": [
    {
     "name": "stdout",
     "output_type": "stream",
     "text": [
      "{1, 2, 3, 4, 5, 6}\n",
      "{3, 4}\n",
      "{1, 2}\n",
      "{1, 2, 5, 6}\n",
      "False\n",
      "False\n",
      "False\n"
     ]
    }
   ],
   "source": [
    "set1 = {1, 2, 3, 4}\n",
    "set2 = {3, 4, 5, 6}\n",
    "print(set1.union(set2))\n",
    "print(set1.intersection(set2))\n",
    "print(set1.difference(set2))\n",
    "print(set1.symmetric_difference(set2))\n",
    "print(set1.issubset(set2))\n",
    "print(set1.issuperset(set2))\n",
    "print(set1.isdisjoint(set2))"
   ]
  },
  {
   "cell_type": "markdown",
   "metadata": {},
   "source": [
    "Für die meisten Mengenoperatiotionen gibt es auch Operatoren, die man direkt verwenden kann. Hierzu wurde die Ähnlichkeit von Mengenoperationen mit logischen arithmetrischen Operationen genutzt. "
   ]
  },
  {
   "cell_type": "code",
   "execution_count": 26,
   "metadata": {},
   "outputs": [
    {
     "name": "stdout",
     "output_type": "stream",
     "text": [
      "{1, 2, 3, 4, 5, 6}\n",
      "{3, 4}\n",
      "{1, 2}\n",
      "{1, 2, 5, 6}\n",
      "False\n",
      "False\n"
     ]
    }
   ],
   "source": [
    "print(set1 | set2)  # union because of similarity to a logical or\n",
    "print(set1 & set2)  # intersection because of similarity to a logical not\n",
    "print(set1 - set2)  # difference because of similarity to an arithmetic minus\n",
    "print(set1 ^ set2)  # symmetric_difference because of the similarity to a logical xor\n",
    "print(set1 <= set2) # issubset because of the similarity to less than or equal too\n",
    "print(set1 >= set2) # issuperset because of the similartiy to greater than or equal too"
   ]
  },
  {
   "cell_type": "markdown",
   "metadata": {},
   "source": [
    "\n",
    "# Dictionaries\n",
    "\n",
    "Bei Dictionaries handelt es sich um einen Datentypen ```dict``` der Abbildungen von Schlüsseln (*key*) auf Werte (*value*) verwaltet. Zu jedem Schlüssel, kann es nur einen Wert geben. Dictionaries werden, ähnlich wie Mengen, mit Hilfe von ```{}``` definiert. Im Unterschied zu Mengen, müssen Key-Value Paare in der Form ```<key>:<value>``` oder als Tupel ```(key,value)``` angegeben werden. Der Zugriff auf Elemente in Dictionaries erfolgt ähnlich zum Zugriff auf Elemente von Listen mit Hilfe von ```[]```, nur dass statt dem Index der Schlüssel verwendet wird. Da Dictionaries veränderbar sind, kann man auf diese Art auch neue Key-Value Paare in einem Dict hinzufügen, bzw. bestehende Einträge aktualisieren. "
   ]
  },
  {
   "cell_type": "code",
   "execution_count": 27,
   "metadata": {},
   "outputs": [
    {
     "name": "stdout",
     "output_type": "stream",
     "text": [
      "{'pi': 3.14159265359, 'c': 299792458}\n",
      "3.14159265359\n",
      "299792458\n",
      "{'pi': 3.14, 'c': 299792458, 'e': 1.602e-19}\n",
      "True\n",
      "True\n",
      "3\n"
     ]
    }
   ],
   "source": [
    "my_dict = {\"pi\": 3.14159265359, \"c\": 299792458}\n",
    "print(my_dict)\n",
    "print(my_dict[\"pi\"])\n",
    "print(my_dict[\"c\"])\n",
    "my_dict[\"e\"] = 1.602e-19\n",
    "my_dict[\"pi\"] = 3.14\n",
    "print(my_dict)\n",
    "print(\"pi\" in my_dict)\n",
    "print(\"mu0\" not in my_dict)\n",
    "print(len(my_dict))"
   ]
  },
  {
   "cell_type": "markdown",
   "metadata": {},
   "source": [
    "Probiert man auf einen Schlüssel zuzugreifen, den es in dem Dictionary nicht gibt, gibt es eine Fehlermeldung. "
   ]
  },
  {
   "cell_type": "code",
   "execution_count": 28,
   "metadata": {},
   "outputs": [
    {
     "ename": "KeyError",
     "evalue": "'mu0'",
     "output_type": "error",
     "traceback": [
      "\u001b[0;31m---------------------------------------------------------------------------\u001b[0m",
      "\u001b[0;31mKeyError\u001b[0m                                  Traceback (most recent call last)",
      "\u001b[0;32m<ipython-input-28-f6674219b2a4>\u001b[0m in \u001b[0;36m<module>\u001b[0;34m()\u001b[0m\n\u001b[0;32m----> 1\u001b[0;31m \u001b[0mmy_dict\u001b[0m\u001b[0;34m[\u001b[0m\u001b[0;34m\"mu0\"\u001b[0m\u001b[0;34m]\u001b[0m\u001b[0;34m\u001b[0m\u001b[0m\n\u001b[0m",
      "\u001b[0;31mKeyError\u001b[0m: 'mu0'"
     ]
    }
   ],
   "source": [
    "my_dict[\"mu0\"]"
   ]
  },
  {
   "cell_type": "markdown",
   "metadata": {},
   "source": [
    "Mit Hilfe der Methoden ```items()```, ```keys()``` und ```values()``` bekommt man einen *View* auf alle Key-Value Paare als Tupel, alle Schlüssel, beziehungsweise alle Werte. Aus einem View kann man zum Beispiel eine Liste erstellen oder über die Elemente mit einer Schleife iterieren (siehe Kapitel 3). Views sind dynamisch, das heißt sie Spiegeln immer den aktuellen Zustand des Dictionaries wieder. "
   ]
  },
  {
   "cell_type": "code",
   "execution_count": 29,
   "metadata": {},
   "outputs": [
    {
     "name": "stdout",
     "output_type": "stream",
     "text": [
      "dict_keys(['pi', 'c', 'e'])\n",
      "['pi', 'c', 'e']\n",
      "dict_keys(['pi', 'c', 'e', 'h'])\n"
     ]
    }
   ],
   "source": [
    "key_view = my_dict.keys()\n",
    "print(key_view)\n",
    "print(list(key_view))\n",
    "my_dict[\"h\"] = 6.626e-34\n",
    "print(key_view)"
   ]
  },
  {
   "cell_type": "markdown",
   "metadata": {},
   "source": [
    "Mit Hilfe der ```pop(key, default)``` Methode kann man Elemente aus einem Dict entfernen. Die Methode hat den Wert des Entfernten Key-Value Paars als Rückgabewert. Ist kein Eintrag zu dem Schlüssel im Dict vorhanden, wird der im ```default``` Parameter angegebene Wert zurück gegeben. Man nutzt ```None``` als ```default```, wenn man Schlüssel entfernen möchte, bei denen man nicht sicher ist, ob diese existieren. "
   ]
  },
  {
   "cell_type": "code",
   "execution_count": 30,
   "metadata": {},
   "outputs": [
    {
     "name": "stdout",
     "output_type": "stream",
     "text": [
      "3.14\n",
      "{'c': 299792458, 'e': 1.602e-19, 'h': 6.626e-34}\n",
      "None\n"
     ]
    }
   ],
   "source": [
    "print(my_dict.pop(\"pi\", None)) # removes pi from dict and returns the value\n",
    "print(my_dict)\n",
    "print(my_dict.pop(\"pi\", None)) # pi not in dict anymore, returns None"
   ]
  },
  {
   "cell_type": "markdown",
   "metadata": {},
   "source": [
    "Der ```default``` Parameter von ```pop``` ist optional. Lässt man ihn weg, gibt es eine Fehlermeldung, wenn ein Schlüssel nicht existiert. "
   ]
  },
  {
   "cell_type": "code",
   "execution_count": 31,
   "metadata": {},
   "outputs": [
    {
     "ename": "KeyError",
     "evalue": "'pi'",
     "output_type": "error",
     "traceback": [
      "\u001b[0;31m---------------------------------------------------------------------------\u001b[0m",
      "\u001b[0;31mKeyError\u001b[0m                                  Traceback (most recent call last)",
      "\u001b[0;32m<ipython-input-31-1b1e0df03b1c>\u001b[0m in \u001b[0;36m<module>\u001b[0;34m()\u001b[0m\n\u001b[0;32m----> 1\u001b[0;31m \u001b[0mprint\u001b[0m\u001b[0;34m(\u001b[0m\u001b[0mmy_dict\u001b[0m\u001b[0;34m.\u001b[0m\u001b[0mpop\u001b[0m\u001b[0;34m(\u001b[0m\u001b[0;34m\"pi\"\u001b[0m\u001b[0;34m)\u001b[0m\u001b[0;34m)\u001b[0m\u001b[0;34m\u001b[0m\u001b[0m\n\u001b[0m",
      "\u001b[0;31mKeyError\u001b[0m: 'pi'"
     ]
    }
   ],
   "source": [
    "print(my_dict.pop(\"pi\"))"
   ]
  },
  {
   "cell_type": "markdown",
   "metadata": {},
   "source": [
    "Man kann auch ```del``` benutzen um Elemente aus einem Dictionary zu löschen. Da man jedoch keinen Default angeben kann, ist ```pop``` in der Regel die bessere Variante."
   ]
  }
 ],
 "metadata": {
  "kernelspec": {
   "display_name": "Python 3",
   "language": "python",
   "name": "python3"
  },
  "language_info": {
   "codemirror_mode": {
    "name": "ipython",
    "version": 3
   },
   "file_extension": ".py",
   "mimetype": "text/x-python",
   "name": "python",
   "nbconvert_exporter": "python",
   "pygments_lexer": "ipython3",
   "version": "3.6.7"
  }
 },
 "nbformat": 4,
 "nbformat_minor": 2
}
