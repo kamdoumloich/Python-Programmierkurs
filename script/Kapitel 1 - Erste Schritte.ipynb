{
 "cells": [
  {
   "cell_type": "markdown",
   "metadata": {},
   "source": [
    "# Inhalt\n",
    "\n",
    "Das erste Kapitel dient dem Einstieg in die Programmiersprache Python und deckt die folgenden Konzepte ab:\n",
    "- Intepreter\n",
    "- Kommentare\n",
    "- Ausdrücke und Variablen\n",
    "- Eingaben von der Kommandozeile\n",
    "\n",
    "\n",
    "# Hello World!\n",
    "\n",
    "Im Gegensatz zu Sprachen wie Java und C genügt für ein \"Hello World!\" mit Python eine einzelne Zeile Quelltext. Die ```print()``` Funktion schreibt Ausgaben auf die Standard-Ausgabe des Systems. Zeichenketten werden mit Anführungszeichen (```\"```) oder Hochkommas definiert (```'```). "
   ]
  },
  {
   "cell_type": "code",
   "execution_count": 1,
   "metadata": {},
   "outputs": [
    {
     "name": "stdout",
     "output_type": "stream",
     "text": [
      "Hello World!\n"
     ]
    }
   ],
   "source": [
    "print(\"Hello World!\")"
   ]
  },
  {
   "cell_type": "markdown",
   "metadata": {},
   "source": [
    "Der Inhalt der obigen *Zelle* wird vom Python Interpreter ausgeführt. Die Ausgabe wird direkt unterhalb der Zelle angezeigt. Man erreicht etwas ähnliches, wenn man einfach nur den String ```\"Hello World!\"``` eingibt."
   ]
  },
  {
   "cell_type": "code",
   "execution_count": 2,
   "metadata": {},
   "outputs": [
    {
     "data": {
      "text/plain": [
       "'Hello World'"
      ]
     },
     "execution_count": 2,
     "metadata": {},
     "output_type": "execute_result"
    }
   ],
   "source": [
    "\"Hello World\""
   ]
  },
  {
   "cell_type": "markdown",
   "metadata": {},
   "source": [
    "Der Unterschied ist, dass jetzt Out[ ] am Beginn der Ausgabe steht. Das bedeutet, dass es sich lediglich um die Rückmeldung des Interpreters handelt, nicht jedoch um eine echte Ausgabe. Die Rückmeldung des Interpreters ist oft nicht sichtbar. In Jupyter Notebooks wird zum Beispiel immer nur die Rückmeldung des letzten Befehls ausgegeben. Wenn Sie sichergehen wollen, dass etwas ausgegeben wird, benutzen Sie daher den ```print``` Befehl. "
   ]
  },
  {
   "cell_type": "code",
   "execution_count": 3,
   "metadata": {},
   "outputs": [
    {
     "name": "stdout",
     "output_type": "stream",
     "text": [
      "Hello World!\n",
      "Hello World!\n"
     ]
    }
   ],
   "source": [
    "print(\"Hello World!\")\n",
    "print(\"Hello World!\")"
   ]
  },
  {
   "cell_type": "code",
   "execution_count": 4,
   "metadata": {},
   "outputs": [
    {
     "data": {
      "text/plain": [
       "'Hello World'"
      ]
     },
     "execution_count": 4,
     "metadata": {},
     "output_type": "execute_result"
    }
   ],
   "source": [
    "\"Hello World\"\n",
    "\"Hello World\""
   ]
  },
  {
   "cell_type": "markdown",
   "metadata": {},
   "source": [
    "# Der Interpreter\n",
    "\n",
    "Die Umgebung, in der dieses Vorlesungsskript zur Verfügung gestellt wird, ist ein sogenanntes *Jupyter Notebook*. Hierbei handelt es sich um eine interaktive Webanwendung, die unter anderem eine Programmierumgebung für Python bereit stellt. Zur eigentlichen Ausführung des Quelltextes wird der Python *Interpreter* benutzt. Ein Interpreter ist ein Programm, welches Quelltext einliest und - nach Prüfung von Syntax und Semantik - sofort ausführt, ohne ein Maschinenprogramm zu erzeugen. Bei interpretierten Sprachen wie Python, kann man daher den Quelltext direkt ausführen. Es muss nicht erst ein Compiler aufgerufen werden, der ausführbare Programme erstellt. Im Jupyter Notebook läuft der Interpreter im Hintergrund, es handelt es sich hierbei um den *Kernel*. Welcher Kernel benutzt wird, wird oben rechts angezeigt. \n",
    "\n",
    "![kernel](../images/kernel.png)\n",
    "\n",
    "Man kann den Interpreter auch direkt auf der Kommandozeile ausführen und Pythonquelltext eingeben. Sofern Python installiert ist, kann man einfach mit dem Befehl ```python3``` den Interpreter starten. Im Interpreter kann Quelltext eingegeben und ausgeführt werden. \n",
    "\n",
    "![interpreter](../images/helloworld_bash.png)\n",
    "\n",
    "Da man in der Regel mehr als nur einzelne Befehle ausführen möchte, kann der Interpreter auch Dateien einlesen und den kompletten Quelltext innerhalb der Datei ausführen. Hierzu übergibt man dem Interpreter einfach die Datei als Kommandozeilenparameter. Die übliche Dateiendung von Pythonquelltext ist ```.py```. \n",
    "\n",
    "![script](../images/helloworld_script.png)\n",
    "\n",
    "Für die ersten drei Kapitel sind Jupyter Notebooks vollkommen ausreichen. Danach werden wir uns im Zusammenhang mit Modulen wieder näher mit dem Interpreter befassen. \n",
    "\n",
    "# Kommentare\n",
    "\n",
    "Kommentare sind Teile von Quelltext, die ignoriert werden, also für die Ausführung nicht relevant sind. Hierdurch sind Beschreibungen im Quelltext möglich. In Python werden Kommentare mit ```#``` eingeleitet. Der Text nach dem ```#``` wird vom Interpreter ignoriert. "
   ]
  },
  {
   "cell_type": "code",
   "execution_count": 5,
   "metadata": {},
   "outputs": [],
   "source": [
    "# Everything after a hash is a comment\n",
    "# Comments are ignored by the interpreter"
   ]
  },
  {
   "cell_type": "markdown",
   "metadata": {},
   "source": [
    "Führt man die obige Zelle aus, enthält man keine Ausgabe, da Kommentare ignoriert werden. Kommentare mit ```#``` sind vergleichbar zu Kommentaren mit ```//``` in Java. In Java gibt es auch noch die Möglichkeit mehrzeilige Kommentare zu definieren (```/* ... */```). Ein vergleichbares Sprachkonstrukt gibt es in Python nicht. Da mehrzeilige Kommentare jedoch an einigen Stellen wichtig sind, zum Beispiel um Programmierschnittstellen zu beschreiben, gibt es ein übliches Hilfskonstrukt in Python. Mit ```'''...'''``` kann man mehrzeilige Strings in Python definieren. Wenn diese Strings für sich stehen, führen Sie zu keinen Änderungen im Programmablauf, sie \"stören\" also nicht. Daher eignen sie sich um Behelfsweise als mehrzeilige Kommentare benutzt zu werden. Da der String jedoch vom Interpreter nicht komplett ignoriert wird, gibt es eine Ausgabe."
   ]
  },
  {
   "cell_type": "code",
   "execution_count": 6,
   "metadata": {},
   "outputs": [
    {
     "data": {
      "text/plain": [
       "'\\nMultiline comments are usually defined like this.\\nHOWEVER! This is NOT really a comment, this is a string.\\n'"
      ]
     },
     "execution_count": 6,
     "metadata": {},
     "output_type": "execute_result"
    }
   ],
   "source": [
    "'''\n",
    "Multiline comments are usually defined like this.\n",
    "HOWEVER! This is NOT really a comment, this is a string.\n",
    "'''"
   ]
  },
  {
   "cell_type": "markdown",
   "metadata": {},
   "source": [
    "# Numerische Daten\n",
    "\n",
    "Zahlen können in Python auf unterschiedliche Art und Weise dargestellt werden. Die beiden wichtigsten Varianten sind:\n",
    "- ```int``` für ganze Zahlen. Der Datenbereich ist beliebig. \n",
    "- ```float``` für Gleitkommazahlen. Die Zahlen sind üblicherweise als ```double``` Werte in [C++ implementiert](https://de.wikibooks.org/wiki/C%2B%2B-Programmierung/_Einf%C3%BChrung_in_C%2B%2B/_Variablen,_Konstanten_und_ihre_Datentypen#Gleitkommazahlen).\n",
    "Mit Hilfe der ```type``` Funktion kann man den Datentypen bestimmen. "
   ]
  },
  {
   "cell_type": "code",
   "execution_count": 7,
   "metadata": {},
   "outputs": [
    {
     "name": "stdout",
     "output_type": "stream",
     "text": [
      "<class 'int'>\n",
      "<class 'float'>\n"
     ]
    }
   ],
   "source": [
    "print(type(42))  # integer 42\n",
    "print(type(4.2)) # floating point number 4.2"
   ]
  },
  {
   "cell_type": "markdown",
   "metadata": {},
   "source": [
    "Bei Bedarf kann man auch Daten von einem Typ in einen anderen Konvertieren. Mit Hilfe der Funktionen ```int()``` und ```float()``` kann man zum Beispiel zwischen Gleitkommazahlen in ganze Zahlen umwandeln, bzw. umgekehrt. Typumwandlungen werden üblicherweise *cast* genannt. Wenn man eine Gleitkommazahl in eine ganze Zahl konvertiert, werden alle Nachkommastellen ignoriert, die Zahl wird also abschnitten und nicht gerundet. "
   ]
  },
  {
   "cell_type": "code",
   "execution_count": 8,
   "metadata": {},
   "outputs": [
    {
     "name": "stdout",
     "output_type": "stream",
     "text": [
      "4\n",
      "42.0\n"
     ]
    }
   ],
   "source": [
    "print(int(4.2))  # casts the floating point number 4.2 into an integer 4. \n",
    "print(float(42)) # casts the integer 42 to the floating point number 42.0"
   ]
  },
  {
   "cell_type": "markdown",
   "metadata": {},
   "source": [
    "Es gibt auch einen Datentyp ```complex``` für komplexe Zahlen, auf den hier nicht näher eingangen wird.\n",
    "\n",
    "# Zeichenketten (Strings)\n",
    "\n",
    "Zeichenketten werden in der Programmierung üblicherweise als *string* bezeichnet und in Python durch den Datentyp ```str``` zur Verfügung gestellt. In diesem Kapitel wurden Zeichenketten bereits rudimentär zu Beginn behandelt. In diesem Abschnitt wird etwas genauer auf Zeichenketten eingegangen. Zur Definition kann man ```\"``` und ```'``` für einzeilige Stringdefinition benutzen, bzw. ```\"\"\"``` und ```'''``` für mehrzeilige Stringdefinitionen."
   ]
  },
  {
   "cell_type": "code",
   "execution_count": 9,
   "metadata": {},
   "outputs": [
    {
     "name": "stdout",
     "output_type": "stream",
     "text": [
      "String 1\n",
      "String 2\n",
      "String 3\n",
      "String 4\n"
     ]
    }
   ],
   "source": [
    "print(\"String 1\")\n",
    "print('String 2')\n",
    "print('''String 3\n",
    "String 4''')"
   ]
  },
  {
   "cell_type": "markdown",
   "metadata": {},
   "source": [
    "Will man innerhalb eines Strings Anführungszeichen oder Hochkommas benutzen, so muss man sie eventuell *escapen*, das heißt mit einem ```\\``` einleiten um dem String mitzuteilen, dass ein besonderes Zeichen kommt."
   ]
  },
  {
   "cell_type": "code",
   "execution_count": 10,
   "metadata": {},
   "outputs": [
    {
     "name": "stdout",
     "output_type": "stream",
     "text": [
      "String with \"\n",
      "String with '\n"
     ]
    }
   ],
   "source": [
    "print(\"String with \\\"\") # must escape \"\n",
    "print('String with \\'') # must escape '"
   ]
  },
  {
   "cell_type": "markdown",
   "metadata": {},
   "source": [
    "Dies kann man jedoch häufig umgehen, da man nur das zur Stringdefinition benutzte Zeichen escapen muss."
   ]
  },
  {
   "cell_type": "code",
   "execution_count": 11,
   "metadata": {
    "scrolled": true
   },
   "outputs": [
    {
     "name": "stdout",
     "output_type": "stream",
     "text": [
      "String with \"\n",
      "String with '\n"
     ]
    }
   ],
   "source": [
    "print('String with \"') # \" does not need to be escaped because ' is used to define the string\n",
    "print(\"String with '\") # same as above"
   ]
  },
  {
   "cell_type": "markdown",
   "metadata": {},
   "source": [
    "Bei Mehrzeiligen Strings ist es ähnlich, hier muss man lediglich drauf achten nicht drei Hochkommas in folge zu haben.  "
   ]
  },
  {
   "cell_type": "code",
   "execution_count": 12,
   "metadata": {},
   "outputs": [
    {
     "name": "stdout",
     "output_type": "stream",
     "text": [
      "String with \" and '', but ''' \n"
     ]
    }
   ],
   "source": [
    "print('''String with \" and '', but \\''' ''') # if we use multiline strings, we only have to escape if we have three ' in a row "
   ]
  },
  {
   "cell_type": "markdown",
   "metadata": {},
   "source": [
    "Durch escapen kann man nicht nur Anführungszeichen und Hochkommas nutzen, sondern auch andere Sonderzeichen. Am wichtigsten sind:\n",
    " - ```\\n``` für eine neue Zeile.\n",
    " - ```\\t``` für einen Tabulator."
   ]
  },
  {
   "cell_type": "code",
   "execution_count": 13,
   "metadata": {},
   "outputs": [
    {
     "name": "stdout",
     "output_type": "stream",
     "text": [
      "Hello\n",
      "World!\n",
      "Hello\tWorld!\n"
     ]
    }
   ],
   "source": [
    "print(\"Hello\\nWorld!\")\n",
    "print(\"Hello\\tWorld!\")"
   ]
  },
  {
   "cell_type": "markdown",
   "metadata": {},
   "source": [
    "# Wahrheitswerte (Boolean)\n",
    "\n",
    "Wahrheitswerte sind die Grundlage von logischen Entscheidungen in Computerprogrammen, zum Beispiel um den Kontrollfluss zu steuern (Kapitel 3). Der Datentyp für Wahrheitswerte in Python heißt ```bool``` und kann die logischen Werte ```True``` und ```False``` annehmen. "
   ]
  },
  {
   "cell_type": "code",
   "execution_count": 1,
   "metadata": {},
   "outputs": [
    {
     "name": "stdout",
     "output_type": "stream",
     "text": [
      "<class 'bool'>\n",
      "<class 'bool'>\n"
     ]
    }
   ],
   "source": [
    "print(type(True))  # boolean value for true expressions\n",
    "print(type(False)) # boolean value for false expressions"
   ]
  },
  {
   "cell_type": "markdown",
   "metadata": {},
   "source": [
    "# Ausdrücke (Expressions)\n",
    "\n",
    "Ausdrücke in Programmiersprachen sind dazu da, Objekte mit Hilfe von Operatoren zu bearbeiten und zu verbinden. Jeder Ausdruck liefert einen Wert zurück, der einen Typ hat. Die Syntax für einfache Ausdrücke in Python ist ```<object> <operator> <object>```. Hier sind einige Beispiele für Ausdrücke."
   ]
  },
  {
   "cell_type": "code",
   "execution_count": 2,
   "metadata": {},
   "outputs": [
    {
     "name": "stdout",
     "output_type": "stream",
     "text": [
      "6\n",
      "2\n",
      "8\n",
      "2.0\n",
      "16\n",
      "2\n",
      "string string 2\n",
      "stringstringstring\n",
      "string 1\n",
      "False\n",
      "True\n",
      "False\n",
      "True\n"
     ]
    }
   ],
   "source": [
    "# common expressions for numeric value\n",
    "print(4+2)  # adds two numeric values\n",
    "print(4-2)  # substracts two values\n",
    "print(4*2)  # multiplies two values\n",
    "print(4/2)  # divides two values --> result is a floating point number!\n",
    "print(4**2) # takes four to the power of two, i.e., the square of four\n",
    "print(5%3)  # the remainder of the first number when divided by the second number\n",
    "\n",
    "# common expressions for strings\n",
    "print(\"string\"+\" string 2\") # concatenates two strings\n",
    "print(\"string\"*3)           # this actually works and concatenates the string three times with itself\n",
    "print(\"string \" + str(1))   # to concatenate other data types to strings they must be cast first\n",
    "\n",
    "# common expressions for and with booleans\n",
    "print(True and False) # logical and between two booleans: true if both are true\n",
    "print(True or False)  # logical or between two booleans: true at least if one is true\n",
    "print(not True)       # negation\n",
    "print(5<10)           # logical comparisons of numbers (<, <=, >, >=, ==)"
   ]
  },
  {
   "cell_type": "markdown",
   "metadata": {},
   "source": [
    "Operatoren werden immer in einer bestimmten Reihenfolge ausgewertet. Die Reihenfolge in welcher Operatoren ausgewertet werden, kann man der [offizellen Pythondokumentation entnehmen](https://docs.python.org/3/reference/expressions.html#operator-precedence).  So hat der ```*``` Operator zum Beispiel vorrang vor dem ```+``` Operator. Bei arithmetrischen und logischen Operationen kann man dies, wie man es aus der Mathematik kennt, mit Hilfe von ```()``` beeinflussen."
   ]
  },
  {
   "cell_type": "code",
   "execution_count": 16,
   "metadata": {},
   "outputs": [
    {
     "name": "stdout",
     "output_type": "stream",
     "text": [
      "18\n",
      "6\n"
     ]
    }
   ],
   "source": [
    "print(2+4*4)\n",
    "print((2+4))"
   ]
  },
  {
   "cell_type": "markdown",
   "metadata": {},
   "source": [
    "# Variablen\n",
    "\n",
    "Variablen sind ein Kernkonzept der Programmierung und erlauben es Werte an Namen zu binden. In Python werden Variablen mit dem ```=``` Operator zugewiesen. Die den Variablen zugewiesenen Werte können einfach über ihren Namen wieder benutzt werden, zum Beispiel um Funktionen aufzurufen, Ausdrücke zu definieren, oder den Wert einer anderen Variablen zuzuweisen. Variablen haben auch immer einen Typ, der von dem referenzierten Objekt abhängt."
   ]
  },
  {
   "cell_type": "code",
   "execution_count": 17,
   "metadata": {},
   "outputs": [
    {
     "name": "stdout",
     "output_type": "stream",
     "text": [
      "3.14\n",
      "<class 'float'>\n",
      "9.8596\n",
      "3.14159\n",
      "3.14\n"
     ]
    }
   ],
   "source": [
    "pi = 3.14       # stores the floating point number 3.14 in the variable pi\n",
    "print(pi)       # retrieves the value of pi and prints it\n",
    "print(type(pi)) # the type of the variable pi, i.e., the type of the data that pi references\n",
    "print(pi*pi)    # multiplies pi with itself\n",
    "other_pi = pi   # creates a copy of pi in the variable other_pi\n",
    "pi = 3.14159    # overwrites the value of pi\n",
    "print(pi)       # pi contains the new value\n",
    "print(other_pi) # other_pi still contains the old value"
   ]
  },
  {
   "cell_type": "markdown",
   "metadata": {},
   "source": [
    "Es ist in Python möglich mehrere Variablen gleichzeitig zuzuweisen. Hierfür trennt man sowohl die Namen, als auch die Werte, mit Kommas."
   ]
  },
  {
   "cell_type": "code",
   "execution_count": 18,
   "metadata": {},
   "outputs": [
    {
     "name": "stdout",
     "output_type": "stream",
     "text": [
      "1\n",
      "hi\n"
     ]
    }
   ],
   "source": [
    "var1, var2 = 1, \"hi\"\n",
    "print(var1)\n",
    "print(var2)"
   ]
  },
  {
   "cell_type": "markdown",
   "metadata": {},
   "source": [
    "Eine übliche Programmiersituation ist, dass man etwas zählen möchte und hierfür den Werte einer Variable erhöhen will. Um dies zu vereinfachen gibt es in Python ```+=```. Analog gibt es auch ```-=```, ```+=```, ```/=```, ```%=``` für die anderen arithmetrischen Operationen."
   ]
  },
  {
   "cell_type": "code",
   "execution_count": 19,
   "metadata": {},
   "outputs": [
    {
     "name": "stdout",
     "output_type": "stream",
     "text": [
      "0\n",
      "1\n",
      "21\n",
      "Hello\n",
      "Hello World!\n"
     ]
    }
   ],
   "source": [
    "count = 0\n",
    "print(count)\n",
    "count += 1             # same as count = count+1\n",
    "print(count)\n",
    "count += 20            # same as count = count+20\n",
    "print(count)\n",
    "\n",
    "my_string = \"Hello\"\n",
    "print(my_string)        \n",
    "my_string += \" World!\" # += also works for strings\n",
    "print(my_string)"
   ]
  },
  {
   "cell_type": "markdown",
   "metadata": {},
   "source": [
    "## Duck Typing\n",
    "\n",
    "Wie man in den obigen Beispielen sieht, muss man den Typen von Variablen in Python nicht explizit deklarieren, wie man es zum Beispiel aus Java kennt. Der entsprechende Quelltext für die erste Zeile wäre in Java ```double pi = 3.14;```, also der Variablen pi explizit einen Typ zuweisen. Variablen nehmen automatisch den Typ von dem Objekt an, was ihnen zugewiesen wird. Dies hat den Vorteil, das der Quelltext kürzer wird, da sämtliche Typdeklarationen entfallen. \n",
    "\n",
    "Um dies umzusetzen, verwendet Python ein Konzept namens \"Duck Typing\". Dies führt dazu, dass erst beim Ausführen von Quelltext geprüft wird, ob ein Ausdruck korrekt ausführt werden kann oder ob dies nicht möglich ist, weil die Typen inkompatibel sind. Wenn Typen inkompatibel sind, gibt es einen Fehler während der Ausführung."
   ]
  },
  {
   "cell_type": "code",
   "execution_count": 20,
   "metadata": {},
   "outputs": [
    {
     "ename": "TypeError",
     "evalue": "must be str, not float",
     "output_type": "error",
     "traceback": [
      "\u001b[0;31m---------------------------------------------------------------------------\u001b[0m",
      "\u001b[0;31mTypeError\u001b[0m                                 Traceback (most recent call last)",
      "\u001b[0;32m<ipython-input-20-e8a75d5f4a79>\u001b[0m in \u001b[0;36m<module>\u001b[0;34m()\u001b[0m\n\u001b[1;32m      2\u001b[0m \u001b[0mpi\u001b[0m \u001b[0;34m=\u001b[0m \u001b[0;36m3.14\u001b[0m\u001b[0;34m\u001b[0m\u001b[0m\n\u001b[1;32m      3\u001b[0m \u001b[0;34m\u001b[0m\u001b[0m\n\u001b[0;32m----> 4\u001b[0;31m \u001b[0mpi_string\u001b[0m\u001b[0;34m+\u001b[0m\u001b[0mpi\u001b[0m \u001b[0;31m# can be written, but will fail on execution\u001b[0m\u001b[0;34m\u001b[0m\u001b[0m\n\u001b[0m",
      "\u001b[0;31mTypeError\u001b[0m: must be str, not float"
     ]
    }
   ],
   "source": [
    "pi_string = \"3.14\"\n",
    "pi = 3.14\n",
    "\n",
    "pi_string+pi # can be written, but will fail on execution"
   ]
  },
  {
   "cell_type": "markdown",
   "metadata": {},
   "source": [
    "Das man eine Zeile als Zeichenkette einliest (zum Beispiel aus einer Textdatei) und sie später in Berechnungen nutzen möchte, ist jedoch ein häufiger Anwendungsfall. Hier helfen die [oben behandelten](#Numerische-Daten) casts. Wenn man die Zeichenkette explizit auf den Typ ```float``` castet, ist der Quelltext wieder ausführbar."
   ]
  },
  {
   "cell_type": "code",
   "execution_count": 21,
   "metadata": {},
   "outputs": [
    {
     "data": {
      "text/plain": [
       "6.28"
      ]
     },
     "execution_count": 21,
     "metadata": {},
     "output_type": "execute_result"
    }
   ],
   "source": [
    "pi_string = \"3.14\"\n",
    "pi = 3.14\n",
    "\n",
    "float(pi_string)+pi # this works"
   ]
  },
  {
   "cell_type": "markdown",
   "metadata": {},
   "source": [
    "Eine weitere Nebenwirkung des Typsystems in Python ist, dass die selbe Variable zu unterschiedlichen Zeitpunkten, Daten mit unterschiedlichen Typen beinhalten kann. Man kann sich daher in Python nicht darauf verlassen, dass sich der Typ einer Variable nicht verändert, sondern muss dies explizit überprüfen oder garantieren."
   ]
  },
  {
   "cell_type": "code",
   "execution_count": 22,
   "metadata": {},
   "outputs": [
    {
     "name": "stdout",
     "output_type": "stream",
     "text": [
      "<class 'float'>\n",
      "<class 'str'>\n"
     ]
    }
   ],
   "source": [
    "pi = 3.14\n",
    "print(type(pi))\n",
    "pi = \"3.14\"\n",
    "print(type(pi))"
   ]
  },
  {
   "cell_type": "markdown",
   "metadata": {},
   "source": [
    "## Gültigkeit von Variablen in Jupyter Notebooks\n",
    "\n",
    "Die Sichtbarkeit und Gültigkeit von Variablen ist ein wichtiger Bestandteil von Programmiersprachen, auf den in den Kapitel 4 und 5 genauer eingegangen wird. Es gibt jedoch eine wichtige Grundlage, die vorher bereits benötigt wird. Das Python von einem  [Interpreter](#Interpreter) ausgeführt wird, wurde oben bereits erklärt. Bei Jupyter Notebooks wird jedoch nicht für jede Ausführung einer Quelltextzelle der Interpreter neu gestartet. Stattdessen läuft der Interpreter dauerhaft im Hintergrund. Dies hat zur Folge, das Variablen nicht nur innerhalb einer Zelle gültig sind. Stattdessen ist eine Variable, die in einer Zelle definiert wurde, auch in allen anderen Zellen verfügbar. Die Zellen teilen sich also alle den gleichen Zustand. Das heißt, dass man auf der einen Seite Variablen wiederverwenden kann, auf der anderen Seite jedoch aufpassen muss, dass man nichts ungewollt überschreibt. \n",
    "\n",
    "Der Interpreter wird mit jedem Start vom Notebook neu gestartet. Das heißt das direkt nach dem Start eines Notebooks keine Variablen verfügbar sind. Man kann den Interpreter auch über das Menü jederzeit neu starten, in dem man den Kernel des Notebooks neu lädt. Man kann beim Neustart des Kernels auch direkt die vorhandenen Ausgaben aus dem Notebook löschen. \n",
    "\n",
    "![kernel-restart](../images/kernel-restart.png)\n",
    "\n",
    "Man kann auch einzelne Variablen explizit mit Hilfe des Namens löschen. Hierzu benutzt man das Schlüsselwort ```del```."
   ]
  },
  {
   "cell_type": "code",
   "execution_count": 23,
   "metadata": {},
   "outputs": [
    {
     "ename": "NameError",
     "evalue": "name 'my_var' is not defined",
     "output_type": "error",
     "traceback": [
      "\u001b[0;31m---------------------------------------------------------------------------\u001b[0m",
      "\u001b[0;31mNameError\u001b[0m                                 Traceback (most recent call last)",
      "\u001b[0;32m<ipython-input-23-05ac483d6351>\u001b[0m in \u001b[0;36m<module>\u001b[0;34m()\u001b[0m\n\u001b[1;32m      1\u001b[0m \u001b[0mmy_var\u001b[0m \u001b[0;34m=\u001b[0m \u001b[0;34m\"Hello World!\"\u001b[0m \u001b[0;31m# creates a new variable my_var\u001b[0m\u001b[0;34m\u001b[0m\u001b[0m\n\u001b[1;32m      2\u001b[0m \u001b[0;32mdel\u001b[0m \u001b[0mmy_var\u001b[0m              \u001b[0;31m# deletes the object referenced by the variable\u001b[0m\u001b[0;34m\u001b[0m\u001b[0m\n\u001b[0;32m----> 3\u001b[0;31m \u001b[0mprint\u001b[0m\u001b[0;34m(\u001b[0m\u001b[0mmy_var\u001b[0m\u001b[0;34m)\u001b[0m           \u001b[0;31m# yields an error because my_var does not exist\u001b[0m\u001b[0;34m\u001b[0m\u001b[0m\n\u001b[0m",
      "\u001b[0;31mNameError\u001b[0m: name 'my_var' is not defined"
     ]
    }
   ],
   "source": [
    "my_var = \"Hello World!\" # creates a new variable my_var\n",
    "del my_var              # deletes the object referenced by the variable\n",
    "print(my_var)           # yields an error because my_var does not exist"
   ]
  },
  {
   "cell_type": "markdown",
   "metadata": {},
   "source": [
    "# Eingabe von Werten\n",
    "\n",
    "Ausgaben in Python haben wir mit dem ```print``` Befehl bereits kennen gelernt. Hiermit lassen sich Zeichenketten (oder andere Typen, die für die Ausgabe in eine Zeichenkette umgewandelt werden) ausgeben. Das Gegenstück hierzu ist der ```input``` Befehl, mit dem man Eingaben vom Benutzer abfragen kann. "
   ]
  },
  {
   "cell_type": "code",
   "execution_count": 24,
   "metadata": {},
   "outputs": [
    {
     "name": "stdout",
     "output_type": "stream",
     "text": [
      "Please type something and hit enter to terminate the input: Hello World!\n",
      "You typed the following: Hello World!\n"
     ]
    }
   ],
   "source": [
    "value = input(\"Please type something and hit enter to terminate the input: \")\n",
    "print(\"You typed the following: \" + value)"
   ]
  },
  {
   "cell_type": "markdown",
   "metadata": {},
   "source": [
    "Will man mit Hilfe von Input eine Zahl einlesen, muss man den eingelesenen String entsprechend casten."
   ]
  },
  {
   "cell_type": "code",
   "execution_count": 25,
   "metadata": {},
   "outputs": [
    {
     "name": "stdout",
     "output_type": "stream",
     "text": [
      "Please type a number: 42\n",
      "The square of the number is: 1764.0\n"
     ]
    }
   ],
   "source": [
    "value = float(input(\"Please type a number: \"))\n",
    "square = value*value\n",
    "print(\"The square of the number is: \" + str(square))"
   ]
  }
 ],
 "metadata": {
  "kernelspec": {
   "display_name": "Python 3",
   "language": "python",
   "name": "python3"
  },
  "language_info": {
   "codemirror_mode": {
    "name": "ipython",
    "version": 3
   },
   "file_extension": ".py",
   "mimetype": "text/x-python",
   "name": "python",
   "nbconvert_exporter": "python",
   "pygments_lexer": "ipython3",
   "version": "3.6.7"
  }
 },
 "nbformat": 4,
 "nbformat_minor": 2
}
