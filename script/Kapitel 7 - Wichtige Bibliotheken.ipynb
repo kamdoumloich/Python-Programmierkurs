{
 "cells": [
  {
   "cell_type": "markdown",
   "metadata": {},
   "source": [
    "# Inhalt\n",
    "\n",
    "Im siebten Kapitel gehen wir wichtige Module von Python durch und decken die folgenden Konzepte ab:\n",
    "- Systemfunktionen und Zugriff auf das Dateisystem\n",
    "- Datums und Zeitformate\n",
    "- Reguläre Ausdrücke\n",
    "- Pretty Printing von built-in Datentypen\n",
    "- Kopieren von Objekten\n",
    "- Zeitmessungen\n",
    "- Logging\n",
    "- Mathematische Funktionen und Zufallsgeneratoren\n",
    "- Pickle und CSV Dateien\n",
    "\n",
    "\n",
    "# Die Python Standardbibliothek\n",
    "\n",
    "Python wird nach dem Motto *batteries included* entwickelt, das heißt es sollte möglichst viel von der Standardbibliothek unterstützt werden, ohne das man zusätzliche Packages benötigt. Die Standardbibliothek wird direkt zusammen mit Python installiert und ist in der Regel immer verfügbar. Im folgenden gucken wir uns einen Teil der Standardbibliothek an, wobei wir ganze Bereiche (zum Beispiel Netzwerke, HTTP, JSON, etc.) ignorieren.\n",
    "\n",
    "# Betriebssystem Funktionen\n",
    "\n",
    "Das [Modul ```os```](https://docs.python.org/3/library/os.html#module-os) haben wir schon kurz in Kapitel 6 kennengelernt. Durch dieses Modul kann man Betriebssystem spezifische Operationen ausführen, zum Beipiel auf dem Dateisystem. "
   ]
  },
  {
   "cell_type": "code",
   "execution_count": 13,
   "metadata": {},
   "outputs": [
    {
     "name": "stdout",
     "output_type": "stream",
     "text": [
      "/home/sherbol/Python-Programmierkurs/script\n",
      ".ipynb_checkpoints\n",
      "Kapitel 1 - Erste Schritte.ipynb\n",
      "Kapitel 2 - Grundlegende Datentypen.ipynb\n",
      "Kapitel 3 - Kontrollfluss.ipynb\n",
      "Kapitel 4 - Funktionen und Klassen.ipynb\n",
      "Kapitel 5 - Module.ipynb\n",
      "Kapitel 6 - Ausnahmen und Regeln.ipynb\n",
      "Kapitel 7 - Wichtige Bibliotheken.ipynb\n",
      "Kapitel 8 - Teamwork mit Git.ipynb\n",
      "new_folder\n",
      "---------\n",
      ".ipynb_checkpoints\n",
      "Kapitel 1 - Erste Schritte.ipynb\n",
      "Kapitel 2 - Grundlegende Datentypen.ipynb\n",
      "Kapitel 3 - Kontrollfluss.ipynb\n",
      "Kapitel 4 - Funktionen und Klassen.ipynb\n",
      "Kapitel 5 - Module.ipynb\n",
      "Kapitel 6 - Ausnahmen und Regeln.ipynb\n",
      "Kapitel 7 - Wichtige Bibliotheken.ipynb\n",
      "Kapitel 8 - Teamwork mit Git.ipynb\n"
     ]
    }
   ],
   "source": [
    "import os\n",
    "\n",
    "working_folder = os.getcwd()  # prints the current working folder\n",
    "print(working_dir)\n",
    "try:\n",
    "    os.mkdir(\"new_folder\")    # creates a new folder, use os.makedirs in case nested folders must be created\n",
    "except FileExistsError:\n",
    "    pass                      # do nothing if folder already exists\n",
    "for file in os.listdir():     # fetches a list of the contents of the current folder (ls)\n",
    "    print(file)\n",
    "os.chdir(\"new_folder\")        # switches working folder to our new folder\n",
    "os.chdir(working_folder)      # switches back to old working folder\n",
    "os.rmdir(\"new_folder\")        # deletes the created folder\n",
    "print(\"---------\")\n",
    "for file in os.listdir():\n",
    "    print(file)"
   ]
  },
  {
   "cell_type": "markdown",
   "metadata": {},
   "source": [
    "Mit ```os.system()``` kann man Befehle auf dem Betriebssystem ausführen, zum Beispiel um Programme auszuführen. Diese Funktion sollte jedoch nicht mehr verwendet werde. Stattdessen sollte man die Funktion ```run``` aus dem [```subprocess``` Modul](https://docs.python.org/3/library/subprocess.html#replacing-older-functions-with-the-subprocess-module) verwenden. "
   ]
  },
  {
   "cell_type": "code",
   "execution_count": 32,
   "metadata": {},
   "outputs": [
    {
     "data": {
      "text/plain": [
       "CompletedProcess(args='ls', returncode=0, stdout=b'Kapitel 1 - Erste Schritte.ipynb\\nKapitel 2 - Grundlegende Datentypen.ipynb\\nKapitel 3 - Kontrollfluss.ipynb\\nKapitel 4 - Funktionen und Klassen.ipynb\\nKapitel 5 - Module.ipynb\\nKapitel 6 - Ausnahmen und Regeln.ipynb\\nKapitel 7 - Wichtige Bibliotheken.ipynb\\nKapitel 8 - Teamwork mit Git.ipynb\\n')"
      ]
     },
     "execution_count": 32,
     "metadata": {},
     "output_type": "execute_result"
    }
   ],
   "source": [
    "from subprocess import PIPE, run\n",
    "\n",
    "result = run(\"ls\", stdout=PIPE)  # executes the command ls and pipes the standard output into the result variable\n",
    "result"
   ]
  },
  {
   "cell_type": "markdown",
   "metadata": {},
   "source": [
    "Außerdem gibt es noch das [Modul ```shutil```](https://docs.python.org/3/library/shutil.html#module-shutil) für weitere Dateioperationen, zum Beispiel für das Kopieren oder Löschen von ganzen Verzeichnissen, inklusive der Unterverzeichnisse, und dem POSIX Rechtemanagement (chmod, chown)."
   ]
  },
  {
   "cell_type": "code",
   "execution_count": 98,
   "metadata": {},
   "outputs": [
    {
     "name": "stdout",
     "output_type": "stream",
     "text": [
      ".ipynb_checkpoints\n",
      "__pycache__\n",
      "sample_package\n",
      "sqrt.py\n",
      "sqrt2.py\n",
      "----\n",
      "False\n"
     ]
    }
   ],
   "source": [
    "import shutil\n",
    "\n",
    "shutil.copytree(\"../examples\", \"examples\") # copies the folder\n",
    "for file in os.listdir(\"examples\"):        # lists the the subfolder examples\n",
    "    print(file)\n",
    "shutil.rmtree(\"examples\")                  # deletes the folder again\n",
    "print(\"----\")\n",
    "print(\"examples\" in os.listdir())          # checks if folder still exists"
   ]
  },
  {
   "cell_type": "markdown",
   "metadata": {},
   "source": [
    "# Das ```sys``` Modul\n",
    "\n",
    "Das [Modul ```sys```](https://docs.python.org/3/library/sys.html#module-sys) stellt Funktionen zur Kommunikation mit dem Interpreter bereit. Hierdurch kann man zum Beispiel Kommandozeilenparameter auslesen, die Ausführung des Interpreters beenden, Informationen über die Pythonversion auslesen, oder auch Pfade anpassen, wie wir es in Kapitel 6 getan haben. "
   ]
  },
  {
   "cell_type": "code",
   "execution_count": 135,
   "metadata": {},
   "outputs": [
    {
     "name": "stdout",
     "output_type": "stream",
     "text": [
      "Command line arguments for current interpreter:\n",
      "['/usr/local/lib/python3.6/dist-packages/ipykernel_launcher.py', '-f', '/home/sherbol/.local/share/jupyter/runtime/kernel-e7afb192-bcd5-4e1a-babb-6856cf2911eb.json']\n",
      "\n",
      "Python version:\n",
      "3.6.7 (default, Oct 22 2018, 11:32:17) \n",
      "[GCC 8.2.0]\n",
      "\n",
      "Platform:\n",
      "linux\n"
     ]
    }
   ],
   "source": [
    "import sys\n",
    "\n",
    "print(\"Command line arguments for current interpreter:\")\n",
    "print(sys.argv)\n",
    "print() # prints an empty line\n",
    "print(\"Python version:\")\n",
    "print(sys.version)\n",
    "print()\n",
    "print(\"Platform:\")\n",
    "print(sys.platform)\n",
    "# sys.exit() usually quits the interpreter, but this does not really work in Jupyter notebooks. "
   ]
  },
  {
   "cell_type": "markdown",
   "metadata": {},
   "source": [
    "# Datumsformate\n",
    "\n",
    "Viele Daten beinhalten Zeitstempel. Um damit vernünftig umgehen zu können, benötigt man Datumsformate. Hierfür gibt es das [Modul ```datetime```](https://docs.python.org/3/library/datetime.html#module-datetime)."
   ]
  },
  {
   "cell_type": "code",
   "execution_count": 74,
   "metadata": {},
   "outputs": [
    {
     "name": "stdout",
     "output_type": "stream",
     "text": [
      "current date and time: 2019-03-22 13:42:55.161128\n",
      "can also access year, month, etc.: 2019\n",
      "10725 days since the fall of the Berlin wall\n"
     ]
    }
   ],
   "source": [
    "import datetime\n",
    "\n",
    "today = datetime.datetime.now()\n",
    "print(f\"current date and time: {today}\")\n",
    "print(f\"can also access year, month, etc.: {today.year}\")\n",
    "fall_of_wall = datetime.date.today()-datetime.date(1989,11,9) # timedelta with difference between datetimes\n",
    "print(f\"{fall_of_wall.days} days since the fall of the Berlin wall\")"
   ]
  },
  {
   "cell_type": "markdown",
   "metadata": {},
   "source": [
    "# Reguläre Ausdrücke\n",
    "\n",
    "Reguläre Ausdrücke sind ein mächtiges Mittel um Zeichenketten zu analysieren. Anleitungen zu regulären Ausdrücken gibt es Online, zum Beispiel [hier](https://www.rexegg.com/). Eine eigenes Tutorial zum Thema reguläre Ausdrücke ginge an dieser Stelle zu weit, hier gibt es nur Beispiele für die Verwendung von Regulären Ausdrücken in Python mit dem [Modul ```re```](https://docs.python.org/3/library/re.html#module-re). Reguläre Ausdrücke werden nicht in normalen Zeichenketten definiert. Stattdessen gibt es, analog zu formatierten Stringliteralen auch eigene Stringliterale für reguläre Ausdrücke die mit ```r\"...\"``` definiert werden. "
   ]
  },
  {
   "cell_type": "code",
   "execution_count": 79,
   "metadata": {},
   "outputs": [
    {
     "name": "stdout",
     "output_type": "stream",
     "text": [
      "['10', '90', '0', '191929123']\n",
      "Replaces  all  integers  in  this string with the empty string\n"
     ]
    }
   ],
   "source": [
    "import re\n",
    "\n",
    "print(re.findall(r\"\\b[0-9]+\", \"Extracts 10 all 90 integers 0 From 191929123 this string\"))\n",
    "print(re.sub(r\"\\b[0-9]+\", \"\", \"Replaces 10 all 90 integers 0 in 191929123 this string with the empty string\"))"
   ]
  },
  {
   "cell_type": "markdown",
   "metadata": {},
   "source": [
    "# Kopieren von Objekten\n",
    "\n",
    "In Kapitel 2 haben wir bereits im Rahmen von Listen kurz über das Kopieren von Objekten gesprochen. Bei unveränderlichen Objekten ist dies in der Regel kein wichtiges Thema. Hier gilt sogar, dass es meistens besser ist, das Objekt nicht zu kopieren sondern nur mehrere Referenzen auf das gleiche Objekt im Speicher zu haben. Bei veränderbaren Objekten, ist es aber häufig wichtig Kopien zu erstellen, um sicher zu gehen, dass das Original nicht verändert wird. Man unterscheidet hier zwischen *shallow copy* und *deep copy*. Bei einer shallow copy von einem Objekt A, wird Objekt A zwar komplett dupliziert, aber alles, auf das von Objekt A verwiesen wird nicht. Bei Listen bedeutet das zum Beispiel, dass die Liste selbst kopiert wird, die Elemente, die sich in der Liste befinden jedoch nicht. Verändert man also das Element in einer Liste, ist es in beiden Listen verändert. Bei einer deep copy werden auch die referenzierten Objekte mit kopiert. Hierfür gibt es in Python das [Modul ```copy```](https://docs.python.org/3/library/copy.html). "
   ]
  },
  {
   "cell_type": "code",
   "execution_count": 85,
   "metadata": {},
   "outputs": [
    {
     "name": "stdout",
     "output_type": "stream",
     "text": [
      "my_list: [['a', 'b', 'c']]\n",
      "my_shallowcopy: [[1, 2, 3, 4], ['a', 'b', 'c']]\n",
      "my_deepcopy: [[1, 2, 3, 4], ['a', 'b', 'c', 'd']]\n"
     ]
    }
   ],
   "source": [
    "import copy\n",
    "\n",
    "my_list = [[1,2,3,4], [\"a\",\"b\",\"c\",\"d\"]] # a list of lists\n",
    "my_shallowcopy = copy.copy(my_list)\n",
    "my_deepcopy = copy.deepcopy(my_list)\n",
    "\n",
    "my_list[1].pop()  # removes \"d\" second list in my_list\n",
    "my_list.pop(0) # removes first element from my_mylist\n",
    "\n",
    "print(f\"my_list: {my_list}\")\n",
    "print(f\"my_shallowcopy: {my_shallowcopy}\")\n",
    "print(f\"my_deepcopy: {my_deepcopy}\")"
   ]
  },
  {
   "cell_type": "markdown",
   "metadata": {},
   "source": [
    "# Messen der Ausführungszeit\n",
    "\n",
    "Wenn die Ausführung besonders lange dauert oder zeitkritisch ist, ist es manchmal wichtig zu wissen, wie lange die Ausführung einer Anweisung dauert. Hierzu gibt es in Python das [Modul ```timeit```](https://docs.python.org/3/library/timeit.html#module-timeit). "
   ]
  },
  {
   "cell_type": "code",
   "execution_count": 88,
   "metadata": {},
   "outputs": [
    {
     "name": "stdout",
     "output_type": "stream",
     "text": [
      "0.03794500000003609\n",
      "0.03328400000100373\n"
     ]
    }
   ],
   "source": [
    "from timeit import Timer\n",
    "\n",
    "# swaping two values with the traditional \"triangle\" approach \n",
    "print(Timer('t=a; a=b; b=t', 'a=1; b=2').timeit())\n",
    "# swaping two values using packing/unpacking of tuples\n",
    "print(Timer('a,b = b,a', 'a=1; b=2').timeit())"
   ]
  },
  {
   "cell_type": "markdown",
   "metadata": {},
   "source": [
    "Für Zeitmessungen von längeren Programmen gibt es die [Module ```profile``` und ```pstat```](https://docs.python.org/3/library/profile.html#module-profile), auf die hier nicht genauer eingegangen wird.\n",
    "\n",
    "# Ausgaben von Dictionaries und Listen\n",
    "\n",
    "Die Ausgabe von Dictionaries und Listen ist zwar lesbar, doch gerade bei Objekten mit vielen Einträgen wird dies schwer. Hier hilft das [Modul ```pprint```](https://docs.python.org/3/library/pprint.html#module-pprint)."
   ]
  },
  {
   "cell_type": "code",
   "execution_count": 136,
   "metadata": {},
   "outputs": [
    {
     "name": "stdout",
     "output_type": "stream",
     "text": [
      "{1: ['a', 'b'],\n",
      " 2: ['c', 'd', 'e'],\n",
      " 3: ['f', 'g', 'h'],\n",
      " 4: {5: ['i',\n",
      "         'j',\n",
      "         'k']}}\n",
      "\n",
      "with depth=2:\n",
      "{1: ['a', 'b'],\n",
      " 2: ['c', 'd', 'e'],\n",
      " 3: ['f', 'g', 'h'],\n",
      " 4: {5: [...]}}\n"
     ]
    }
   ],
   "source": [
    "from pprint import pprint\n",
    "\n",
    "my_dict = {1:[\"a\",\"b\"], 2:[\"c\",\"d\",\"e\"], 3:[\"f\",\"g\",\"h\"], 4:{5: [\"i\",\"j\",\"k\"]}}\n",
    "\n",
    "pprint(my_dict, width=20)\n",
    "print()\n",
    "print(\"with depth=2:\")\n",
    "pprint(my_dict, depth=2, width=20)\n",
    "\n",
    "\n"
   ]
  },
  {
   "cell_type": "markdown",
   "metadata": {},
   "source": [
    "# Logging\n",
    "\n",
    "In vielen Programmen will man zur Laufzeit Informationen über die Ausführung protokollieren. Hierbei wird üblicherweise zwischen Fehlern, Warnungen, Informationen, und Debugginginformationen für Entwickler unterschieden. Man kann dann beim Start des Programms entscheiden, wie detailiert die Logdaten sein sollen. Um dies zu Unterstützen gibt es in Python das [Modul ```logging```](https://docs.python.org/3/library/logging.html#module-logging)."
   ]
  },
  {
   "cell_type": "code",
   "execution_count": 3,
   "metadata": {},
   "outputs": [
    {
     "name": "stderr",
     "output_type": "stream",
     "text": [
      "2019-03-22 15:57:29,494 - root - INFO - Informational message\n",
      "2019-03-22 15:57:29,498 - root - WARNING - Warning about something -- probably nothing broken, but you should check\n",
      "2019-03-22 15:57:29,502 - root - ERROR - Error occurred -- can mean shutdown or just that some result is not produced\n",
      "2019-03-22 15:57:29,508 - root - CRITICAL - Critical error -- often means program immediatly shuts down\n"
     ]
    }
   ],
   "source": [
    "import logging\n",
    "\n",
    "logging.debug('Debugging information')\n",
    "logging.info('Informational message')\n",
    "logging.warning('Warning about something -- probably nothing broken, but you should check')\n",
    "logging.error('Error occurred -- can mean shutdown or just that some result is not produced')\n",
    "logging.critical('Critical error -- often means program immediatly shuts down')"
   ]
  },
  {
   "cell_type": "markdown",
   "metadata": {},
   "source": [
    "Wie man oben sieht, werden per Default nur Informationen, Warnungen, Fehler, und kritische Fehler ausgegeben. Außerdem sind die Logausgaben formatiert. Erst steht das Datum, dann der Name des loggers (Default: root), , dann der Typ der Lognachricht, dann erst die Nachricht. Sowohl welche Lognachrichten erscheinen, als auch das Format der Nachrichten, ist konfigurierbar. "
   ]
  },
  {
   "cell_type": "code",
   "execution_count": 1,
   "metadata": {},
   "outputs": [
    {
     "name": "stderr",
     "output_type": "stream",
     "text": [
      "2019-04-03 11:29:24,436 - my_logger - DEBUG - Debugging information\n",
      "2019-04-03 11:29:24,440 - my_logger - INFO - Informational message\n",
      "2019-04-03 11:29:24,443 - my_logger - WARNING - Warning about something -- probably nothing broken, but you should check\n",
      "2019-04-03 11:29:24,446 - my_logger - ERROR - Error occurred -- can mean shutdown or just that some result is not produced\n",
      "2019-04-03 11:29:24,449 - my_logger - CRITICAL - Critical error -- often means program immediatly shuts down\n"
     ]
    }
   ],
   "source": [
    "# Note: the Kernel of the notebook must be restarted for this to work properly. \n",
    "# basicConfig only works if the logging module was not yet used\n",
    "\n",
    "import logging\n",
    "\n",
    "logging.basicConfig(format='%(asctime)s - %(name)s - %(levelname)s - %(message)s') # sets the logging format\n",
    "logger = logging.getLogger(\"my_logger\")                                            # gets a logger with a name\n",
    "logger.setLevel(\"DEBUG\")                                                           # defines the log level\n",
    "\n",
    "logger.debug('Debugging information')\n",
    "logger.info('Informational message')\n",
    "logger.warning('Warning about something -- probably nothing broken, but you should check')\n",
    "logger.error('Error occurred -- can mean shutdown or just that some result is not produced')\n",
    "logger.critical('Critical error -- often means program immediatly shuts down')"
   ]
  },
  {
   "cell_type": "markdown",
   "metadata": {},
   "source": [
    "Man kann den Logger auch so konfigurieren, dass die Ausgabe in eine Datei geleitet wird. Dies wird jedoch hier nicht weiter behandelt. \n",
    "\n",
    "# Mathematische Funktionen\n",
    "\n",
    "Auch wenn das laufende Beispiel bisher die Quadratwurzel war, ist es nicht nötig derartige Funktionen selbst zu Implementieren. Stattdessen kann man einfach das [Modul ```math```](https://docs.python.org/3/library/math.html#module-math) benutzen."
   ]
  },
  {
   "cell_type": "code",
   "execution_count": 9,
   "metadata": {},
   "outputs": [
    {
     "name": "stdout",
     "output_type": "stream",
     "text": [
      "Square root of 4.2: 2.04939015319192\n",
      "Square of 4.2: 17.64\n",
      "Natural logarithm of 4.2: 1.4350845252893227\n",
      "Ceiling of 4.2: 5\n",
      "pi: 3.141592653589793\n"
     ]
    }
   ],
   "source": [
    "import math\n",
    "\n",
    "value = 4.2\n",
    "print(f\"Square root of {value}: {math.sqrt(value)}\")\n",
    "print(f\"Square of {value}: {math.pow(value, 2)}\")\n",
    "print(f\"Natural logarithm of {value}: {math.log(value)}\")\n",
    "print(f\"Ceiling of {value}: {math.ceil(value)}\")\n",
    "print(f\"pi: {math.pi}\")"
   ]
  },
  {
   "cell_type": "markdown",
   "metadata": {},
   "source": [
    "Außerdem kann man mit dem [Modul ```statistics```](https://docs.python.org/3/library/statistics.html#module-statistics) einfache statistische Berechnungen von Daten machen. "
   ]
  },
  {
   "cell_type": "code",
   "execution_count": 26,
   "metadata": {},
   "outputs": [
    {
     "name": "stdout",
     "output_type": "stream",
     "text": [
      "mean: 18\n",
      "median: 15.5\n",
      "stdev: 13.490737563232042\n"
     ]
    }
   ],
   "source": [
    "import statistics\n",
    "\n",
    "my_list = [4, 8, 15, 16, 23, 42]\n",
    "print(f\"mean: {statistics.mean(my_list)}\")\n",
    "print(f\"median: {statistics.median(my_list)}\")\n",
    "print(f\"stdev: {statistics.stdev(my_list)}\")"
   ]
  },
  {
   "cell_type": "markdown",
   "metadata": {},
   "source": [
    "# Zufallsgeneratoren\n",
    "\n",
    "Es gibt viele Algorithmen die randomisiert Arbeiten, vor allem im Bereich der Datenanalyse. Hierfür benötigt man Zufallsgeneratoren, die vom [Modul ```random```](https://docs.python.org/3/library/random.html#module-random) zur Verfügung gestellt werden. "
   ]
  },
  {
   "cell_type": "code",
   "execution_count": 24,
   "metadata": {},
   "outputs": [
    {
     "name": "stdout",
     "output_type": "stream",
     "text": [
      "random floating point number in [0,1]: 0.719112336603165\n",
      "random integer between 0 and 10 [0,1]: 2\n",
      "random element from a list: 3.3\n",
      "randomly selected subample of 3 elements from a list: [2.3, 3.0, 2.7]\n"
     ]
    }
   ],
   "source": [
    "import random\n",
    "\n",
    "print(f\"random floating point number in [0,1]: {random.random()}\")\n",
    "print(f\"random integer between 0 and 10 [0,1]: {random.randrange(11)}\")\n",
    "grades = [1.0, 1.3, 1.7, 2.0, 2.3, 2.7, 3.0, 3.3, 3.7, 4.0, 5.0]\n",
    "print(f\"random element from a list: {random.choice(grades)}\")\n",
    "print(f\"randomly selected subample of 3 elements from a list: {random.sample(grades, 3)}\")"
   ]
  },
  {
   "cell_type": "markdown",
   "metadata": {},
   "source": [
    "# Serialisieren von Objekten\n",
    "\n",
    "Serialisierung ist ein verbreitetes Konzept um in einer Programmierumgebung verfügbare Daten zu Speichern oder diese an andere Anwendungen zu versenden. Eine Objektserialisierung schreibt vor, wie ein Objekt zur Speicherung oder zum Laden beschrieben wird. In Python gibt es das [Modul ```pickle```](https://docs.python.org/3/library/pickle.html) zur Serialisierung von beliebigen Objekten in Python. Beim *pickeln* wird ein Objekt in einer Binärdarstellung gespeichert, beim *unpickeln* wird das Objekt aus dem Speicher in den Interpreter geladen. "
   ]
  },
  {
   "cell_type": "code",
   "execution_count": 6,
   "metadata": {},
   "outputs": [
    {
     "name": "stdout",
     "output_type": "stream",
     "text": [
      "my_dict does not exist\n",
      "{1: ['a', 'b'], 2: ['c', 'd', 'e'], 3: ['f', 'g', 'h'], 4: {5: ['i', 'j', 'k']}}\n"
     ]
    }
   ],
   "source": [
    "import pickle\n",
    "\n",
    "# An arbitrary collection of objects supported by pickle\n",
    "my_dict = {1:[\"a\",\"b\"], 2:[\"c\",\"d\",\"e\"], 3:[\"f\",\"g\",\"h\"], 4:{5: [\"i\",\"j\",\"k\"]}}\n",
    "\n",
    "\n",
    "with open('../examples/data.pickle', 'wb') as file:\n",
    "    pickle.dump(my_dict, file) # dumps my_dict to the opened file\n",
    "\n",
    "del my_dict\n",
    "try:\n",
    "    my_dict\n",
    "except NameError:\n",
    "    print(\"my_dict does not exist\")\n",
    "\n",
    "with open('../examples/data.pickle', 'rb') as file:\n",
    "    # The protocol version used is detected automatically, so we do not\n",
    "    # have to specify it.\n",
    "    my_dict = pickle.load(file)\n",
    "    \n",
    "print(my_dict)"
   ]
  },
  {
   "cell_type": "code",
   "execution_count": 7,
   "metadata": {},
   "outputs": [],
   "source": [
    "%rm ../examples/data.pickle # magic to clean up the serialization example"
   ]
  },
  {
   "cell_type": "markdown",
   "metadata": {},
   "source": [
    "# Lesen von CSV Dateien\n",
    "\n",
    "Comma Separated Value (CSV) sind ein sehr weit verbreitetes Format zum Austausch von Daten, die eine tabellenartige Struktur haben. Jede Zeile entspricht einer Datenzeile in der Tabelle. Die Einträge in einer Zeile werden durch Kommas getrennt um die Spalten zu definieren, daher auch der Name CSV. Hier ist ein Beispiel für eine CSV-Datei ([Quelle](https://sample-videos.com/download-sample-csv.php)):"
   ]
  },
  {
   "cell_type": "code",
   "execution_count": 9,
   "metadata": {},
   "outputs": [
    {
     "name": "stdout",
     "output_type": "stream",
     "text": [
      "1,\"Eldon Base for stackable storage shelf, platinum\",Muhammed MacIntyre,3,-213.25,38.94,35,Nunavut,Storage & Organization,0.8\r\n",
      "2,\"1.7 Cubic Foot Compact \"\"Cube\"\" Office Refrigerators\",Barry French,293,457.81,208.16,68.02,Nunavut,Appliances,0.58\r\n",
      "3,\"Cardinal Slant-D® Ring Binder, Heavy Gauge Vinyl\",Barry French,293,46.71,8.69,2.99,Nunavut,Binders and Binder Accessories,0.39\r\n",
      "4,R380,Clay Rozendal,483,1198.97,195.99,3.99,Nunavut,Telephones and Communication,0.58\r\n",
      "5,Holmes HEPA Air Purifier,Carlos Soltero,515,30.94,21.78,5.94,Nunavut,Appliances,0.5\r\n",
      "6,G.E. Longer-Life Indoor Recessed Floodlight Bulbs,Carlos Soltero,515,4.43,6.64,4.95,Nunavut,Office Furnishings,0.37\r\n",
      "7,\"Angle-D Binders with Locking Rings, Label Holders\",Carl Jackson,613,-54.04,7.3,7.72,Nunavut,Binders and Binder Accessories,0.38\r\n",
      "8,\"SAFCO Mobile Desk Side File, Wire Frame\",Carl Jackson,613,127.70,42.76,6.22,Nunavut,Storage & Organization,\r\n",
      "9,\"SAFCO Commercial Wire Shelving, Black\",Monica Federle,643,-695.26,138.14,35,Nunavut,Storage & Organization,\r\n",
      "10,Xerox 198,Dorothy Badders,678,-226.36,4.98,8.33,Nunavut,Paper,0.38\r\n"
     ]
    }
   ],
   "source": [
    "%cat ../examples/csv-example.csv"
   ]
  },
  {
   "cell_type": "markdown",
   "metadata": {},
   "source": [
    "Auch wenn Kommas ein übliches Trennzeichen sind, werden auch häufig Semikolons und Tabulatoren zum Trennen der Spalten verwendet. Auch der Umgang mit Anführungszeichen, zum Beispiel um Spalten mit Zeichenketten die ein Komma enthalten zu ermöglichen, ist nicht einheitlich definiert. Wie das Format ist, muss man vorher (ggf. durch angucken der Datei) bestimmen. Mit dem [Modul ```csv```](https://docs.python.org/3/library/csv.html) kann man CSV Dateien bequem in Python laden. Dateien werden dabei Zeilenweise als Liste von Strings gelesen, bzw. geschrieben. Die CSV-Dialekte, die unterstützt werden, kann man der [Dokumentation entnehmen](https://docs.python.org/3/library/csv.html#csv-fmt-params)"
   ]
  },
  {
   "cell_type": "code",
   "execution_count": 11,
   "metadata": {},
   "outputs": [
    {
     "name": "stdout",
     "output_type": "stream",
     "text": [
      "['1', 'Eldon Base for stackable storage shelf, platinum', 'Muhammed MacIntyre', '3', '-213.25', '38.94', '35', 'Nunavut', 'Storage & Organization', '0.8']\n",
      "['2', '1.7 Cubic Foot Compact \"Cube\" Office Refrigerators', 'Barry French', '293', '457.81', '208.16', '68.02', 'Nunavut', 'Appliances', '0.58']\n",
      "['3', 'Cardinal Slant-D® Ring Binder, Heavy Gauge Vinyl', 'Barry French', '293', '46.71', '8.69', '2.99', 'Nunavut', 'Binders and Binder Accessories', '0.39']\n",
      "['4', 'R380', 'Clay Rozendal', '483', '1198.97', '195.99', '3.99', 'Nunavut', 'Telephones and Communication', '0.58']\n",
      "['5', 'Holmes HEPA Air Purifier', 'Carlos Soltero', '515', '30.94', '21.78', '5.94', 'Nunavut', 'Appliances', '0.5']\n",
      "['6', 'G.E. Longer-Life Indoor Recessed Floodlight Bulbs', 'Carlos Soltero', '515', '4.43', '6.64', '4.95', 'Nunavut', 'Office Furnishings', '0.37']\n",
      "['7', 'Angle-D Binders with Locking Rings, Label Holders', 'Carl Jackson', '613', '-54.04', '7.3', '7.72', 'Nunavut', 'Binders and Binder Accessories', '0.38']\n",
      "['8', 'SAFCO Mobile Desk Side File, Wire Frame', 'Carl Jackson', '613', '127.70', '42.76', '6.22', 'Nunavut', 'Storage & Organization', '']\n",
      "['9', 'SAFCO Commercial Wire Shelving, Black', 'Monica Federle', '643', '-695.26', '138.14', '35', 'Nunavut', 'Storage & Organization', '']\n",
      "['10', 'Xerox 198', 'Dorothy Badders', '678', '-226.36', '4.98', '8.33', 'Nunavut', 'Paper', '0.38']\n"
     ]
    }
   ],
   "source": [
    "import csv\n",
    "\n",
    "with open('../examples/csv-example.csv') as file:\n",
    "    reader = csv.reader(file, delimiter=',')\n",
    "    for row in reader:\n",
    "        print(row)"
   ]
  }
 ],
 "metadata": {
  "kernelspec": {
   "display_name": "Python 3",
   "language": "python",
   "name": "python3"
  },
  "language_info": {
   "codemirror_mode": {
    "name": "ipython",
    "version": 3
   },
   "file_extension": ".py",
   "mimetype": "text/x-python",
   "name": "python",
   "nbconvert_exporter": "python",
   "pygments_lexer": "ipython3",
   "version": "3.6.7"
  }
 },
 "nbformat": 4,
 "nbformat_minor": 2
}
