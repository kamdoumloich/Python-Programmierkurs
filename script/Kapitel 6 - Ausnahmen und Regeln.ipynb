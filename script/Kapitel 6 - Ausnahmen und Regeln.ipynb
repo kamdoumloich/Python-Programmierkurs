{
 "cells": [
  {
   "cell_type": "markdown",
   "metadata": {},
   "source": [
    "# Inhalt\n",
    "\n",
    "Im sechsten Kapitel behandeln wir die verbleibenden Themen zur Beschreibung der Programmiersprache Python und decken die folgenden Konzepte ab. \n",
    "- Exceptions\n",
    "- Dateioperationen\n",
    "- Programmierstil\n",
    "\n",
    "# Exceptions\n",
    "\n",
    "Es gab bisher viele Beispiele von Fehlermeldungen, zum Beispiel beim Zugriff auf Variablen, die nicht existieren."
   ]
  },
  {
   "cell_type": "code",
   "execution_count": 1,
   "metadata": {},
   "outputs": [
    {
     "ename": "NameError",
     "evalue": "name 'undefined_variable' is not defined",
     "output_type": "error",
     "traceback": [
      "\u001b[0;31m---------------------------------------------------------------------------\u001b[0m",
      "\u001b[0;31mNameError\u001b[0m                                 Traceback (most recent call last)",
      "\u001b[0;32m<ipython-input-1-4c6d5bf4bce5>\u001b[0m in \u001b[0;36m<module>\u001b[0;34m\u001b[0m\n\u001b[0;32m----> 1\u001b[0;31m \u001b[0mundefined_variable\u001b[0m\u001b[0;34m\u001b[0m\u001b[0;34m\u001b[0m\u001b[0m\n\u001b[0m",
      "\u001b[0;31mNameError\u001b[0m: name 'undefined_variable' is not defined"
     ]
    }
   ],
   "source": [
    "undefined_variable"
   ]
  },
  {
   "cell_type": "markdown",
   "metadata": {},
   "source": [
    "Im obigen Beispiel gibt es die Fehlermeldung ```NameError: name 'undefined_variable' is not defined```. Bei dieser Fehlermeldung handelt es sich um eine sogenannte *Exception* from Typ ```NameError```. Bisher haben wir immer so getan, als müssten Exceptions zwangsweise dazu führen, dass die Ausführung von Programmen abgebrochen wird. Das stimmt jedoch nicht. Das besondere am Konzept von Exceptions als Fehlermeldung ist, das man sie *behandeln* kann und sie dann nicht mehr zwingend zum Abbruch der Ausführung eines Programms führen. Hierzu gibt es die Schlüsselwörter ```try``` und ```except```. Mit ```try``` beginnt man einen Block, in dem möglicherweise eine Exception erwartet wird. Tritt innerhalb des ```try``` Blocks eine Exception auf bricht das Programm nicht einfach ab. Stattdessen wird der ```except``` Block ausgeführt. Tritt keine Exception auf, wird der ```except``` Block ignoriert. "
   ]
  },
  {
   "cell_type": "code",
   "execution_count": 2,
   "metadata": {},
   "outputs": [
    {
     "name": "stdout",
     "output_type": "stream",
     "text": [
      "undefined_variable is not defined\n",
      "defined_variable is defined\n"
     ]
    }
   ],
   "source": [
    "try:\n",
    "    undefined_variable                          # NameError -> go to except\n",
    "    print(\"undefined_variable is defined\")\n",
    "except:\n",
    "    print(\"undefined_variable is not defined\")\n",
    "    \n",
    "defined_variable = 42\n",
    "try:\n",
    "    defined_variable                            # no exception -> continue execution and ignore except block\n",
    "    print(\"defined_variable is defined\")\n",
    "except:\n",
    "    print(\"defined_variable is not defined\")"
   ]
  },
  {
   "cell_type": "markdown",
   "metadata": {},
   "source": [
    "Im obigen Beispiel fängt man beliebige Exceptions ab, also nicht nur Exceptions vom Typ ```NameError```, wie wir eigentlich erwarten, sondern auch alle andern. Man kann einschränken, welche Typen von Exception behandelt werden, in dem man die erwarteten Typen bei der ```except``` Anweisung angibt."
   ]
  },
  {
   "cell_type": "code",
   "execution_count": 3,
   "metadata": {},
   "outputs": [
    {
     "name": "stdout",
     "output_type": "stream",
     "text": [
      "undefined_variable is not defined\n"
     ]
    }
   ],
   "source": [
    "try:\n",
    "    undefined_variable\n",
    "    print(\"undefined_variable is defined\")\n",
    "except NameError:                               # only handles NameError\n",
    "    print(\"undefined_variable is not defined\")    "
   ]
  },
  {
   "cell_type": "markdown",
   "metadata": {},
   "source": [
    "Tritt eine anderer Typ von Ausnahme auf, wird dieser nicht behandelt. "
   ]
  },
  {
   "cell_type": "code",
   "execution_count": 4,
   "metadata": {},
   "outputs": [
    {
     "ename": "ZeroDivisionError",
     "evalue": "division by zero",
     "output_type": "error",
     "traceback": [
      "\u001b[0;31m---------------------------------------------------------------------------\u001b[0m",
      "\u001b[0;31mZeroDivisionError\u001b[0m                         Traceback (most recent call last)",
      "\u001b[0;32m<ipython-input-4-0aa42b6b01d3>\u001b[0m in \u001b[0;36m<module>\u001b[0;34m\u001b[0m\n\u001b[1;32m      1\u001b[0m \u001b[0;32mtry\u001b[0m\u001b[0;34m:\u001b[0m\u001b[0;34m\u001b[0m\u001b[0;34m\u001b[0m\u001b[0m\n\u001b[0;32m----> 2\u001b[0;31m     \u001b[0;36m1\u001b[0m\u001b[0;34m/\u001b[0m\u001b[0;36m0\u001b[0m            \u001b[0;31m# division by zero not allowed -> ZeroDivisionError\u001b[0m\u001b[0;34m\u001b[0m\u001b[0;34m\u001b[0m\u001b[0m\n\u001b[0m\u001b[1;32m      3\u001b[0m \u001b[0;32mexcept\u001b[0m \u001b[0mNameError\u001b[0m\u001b[0;34m:\u001b[0m  \u001b[0;31m# only handles NameError but not ZeroDivisionError\u001b[0m\u001b[0;34m\u001b[0m\u001b[0;34m\u001b[0m\u001b[0m\n\u001b[1;32m      4\u001b[0m     \u001b[0mprint\u001b[0m\u001b[0;34m(\u001b[0m\u001b[0;34m\"there was a NameError\"\u001b[0m\u001b[0;34m)\u001b[0m\u001b[0;34m\u001b[0m\u001b[0;34m\u001b[0m\u001b[0m\n",
      "\u001b[0;31mZeroDivisionError\u001b[0m: division by zero"
     ]
    }
   ],
   "source": [
    "try:\n",
    "    1/0            # division by zero not allowed -> ZeroDivisionError\n",
    "except NameError:  # only handles NameError but not ZeroDivisionError\n",
    "    print(\"there was a NameError\")"
   ]
  },
  {
   "cell_type": "markdown",
   "metadata": {},
   "source": [
    "Für den Fall, dass man erwartet das verschiedene Typen von Exceptions auftreten könnten, kann man diese sowohl in einem ```except``` behandeln, als auch durch mehrere ```except``` Blöcke."
   ]
  },
  {
   "cell_type": "code",
   "execution_count": 5,
   "metadata": {},
   "outputs": [
    {
     "name": "stdout",
     "output_type": "stream",
     "text": [
      "there was a NameError or a ZeroDivisionError\n",
      "there was a ZeroDivisionError\n"
     ]
    }
   ],
   "source": [
    "try:\n",
    "    1/0\n",
    "except (NameError, ZeroDivisionError):\n",
    "    print(\"there was a NameError or a ZeroDivisionError\")\n",
    "    \n",
    "try:\n",
    "    1/0\n",
    "except NameError:\n",
    "    print(\"there was a NameError\")\n",
    "except ZeroDivisionError: \n",
    "    print(\"there was a ZeroDivisionError\")"
   ]
  },
  {
   "cell_type": "markdown",
   "metadata": {},
   "source": [
    "# Built-in Exceptions\n",
    "\n",
    "Die am häufigsten vorkommenden Typen von Ausnahmen sind die *built-in* Exceptions, die im Sprachstandard in Python direkt mitgeliefert werden. ```NameError``` und ```ZeroDivisionError``` haben wir bereits kennengelernt. Weitere Beispiele für Exception sind:\n",
    "- ```Exception``` als Basisklasse für Exceptions.\n",
    "- ```ArithmeticError``` als Basisklasse für Exceptions in arithmetrischen Operationen (z.B. ```ZeroDivisionError```).\n",
    "- ```AttributeError```  als Gegenstück zum ```NameError``` wenn es Probleme mit Namen in Klassen gibt.\n",
    "- ```ModuleNotFoundError``` wenn ein Modul nicht im Modulpfad gefunden werden kann.\n",
    "- ```KeyError``` wenn ein gesuchter Schlüssel in einem ```dict``` nicht existiert.\n",
    "- ```IndexError``` bei Zugriffen auf Listen oder ähnlichen Datentypen außerhalb des validen Bereichs.\n",
    "- ```TypeError``` wenn eine Funktion mit einem Objekt aufgerufen wird, welches vom Typ her nicht unterstützt wird (falsche Klasse). \n",
    "- ```ValueError``` wenn eine Funktion mit falschen Werten aufgerufen wird, aber der Typ der Objekte korrekt ist.\n",
    "\n",
    "Die vollständige Liste der built-in Exceptions ist in der [Python Dokumentation](https://docs.python.org/3/library/exceptions.html#bltin-exceptions) verfügbar. \n",
    "\n",
    "# Erzeugen von Exceptions\n",
    "\n",
    "Bisher haben wir uns nur angeguckt, wie man Exceptions behandelt. Jetzt wollen wir uns angucken, wie man selbst Exceptions erzeugt. Das erzeugen von Exceptions wird auch *werfen* genannt.  Als Beispiel für das Werfen von Exceptions nutzen wir wieder unsere Wurzelfunktion. Außerdem verdeutlichen wir den Unterschied zwischen dem ```TypeError``` und dem ```ValueError```."
   ]
  },
  {
   "cell_type": "code",
   "execution_count": 6,
   "metadata": {},
   "outputs": [],
   "source": [
    "def my_sqrt(x):\n",
    "    \"\"\"Returns the square root of x\"\"\"\n",
    "    guess = 1\n",
    "    while(abs(guess*guess-x)>0.0001):\n",
    "        guess = (1/2)*(guess+x/guess)\n",
    "    return guess"
   ]
  },
  {
   "cell_type": "markdown",
   "metadata": {},
   "source": [
    "Bisher haben wir die Funktion immer mit dem korrekten Typ von Objekt aufgerufen, also mit Zahlen. In der Funktion selbst wird jedoch nirgends überprüft, ob es wirklich eine Zahl ist. Was bei dem Aufruf mit einer Zeichenkette passiert, ist daher nicht direkt offensichtlich. "
   ]
  },
  {
   "cell_type": "code",
   "execution_count": 7,
   "metadata": {},
   "outputs": [
    {
     "ename": "TypeError",
     "evalue": "unsupported operand type(s) for -: 'int' and 'str'",
     "output_type": "error",
     "traceback": [
      "\u001b[0;31m---------------------------------------------------------------------------\u001b[0m",
      "\u001b[0;31mTypeError\u001b[0m                                 Traceback (most recent call last)",
      "\u001b[0;32m<ipython-input-7-fc9db2f55e5a>\u001b[0m in \u001b[0;36m<module>\u001b[0;34m\u001b[0m\n\u001b[0;32m----> 1\u001b[0;31m \u001b[0mmy_sqrt\u001b[0m\u001b[0;34m(\u001b[0m\u001b[0;34m\"42\"\u001b[0m\u001b[0;34m)\u001b[0m\u001b[0;34m\u001b[0m\u001b[0;34m\u001b[0m\u001b[0m\n\u001b[0m",
      "\u001b[0;32m<ipython-input-6-9ad42c792729>\u001b[0m in \u001b[0;36mmy_sqrt\u001b[0;34m(x)\u001b[0m\n\u001b[1;32m      2\u001b[0m     \u001b[0;34m\"\"\"Returns the square root of x\"\"\"\u001b[0m\u001b[0;34m\u001b[0m\u001b[0;34m\u001b[0m\u001b[0m\n\u001b[1;32m      3\u001b[0m     \u001b[0mguess\u001b[0m \u001b[0;34m=\u001b[0m \u001b[0;36m1\u001b[0m\u001b[0;34m\u001b[0m\u001b[0;34m\u001b[0m\u001b[0m\n\u001b[0;32m----> 4\u001b[0;31m     \u001b[0;32mwhile\u001b[0m\u001b[0;34m(\u001b[0m\u001b[0mabs\u001b[0m\u001b[0;34m(\u001b[0m\u001b[0mguess\u001b[0m\u001b[0;34m*\u001b[0m\u001b[0mguess\u001b[0m\u001b[0;34m-\u001b[0m\u001b[0mx\u001b[0m\u001b[0;34m)\u001b[0m\u001b[0;34m>\u001b[0m\u001b[0;36m0.0001\u001b[0m\u001b[0;34m)\u001b[0m\u001b[0;34m:\u001b[0m\u001b[0;34m\u001b[0m\u001b[0;34m\u001b[0m\u001b[0m\n\u001b[0m\u001b[1;32m      5\u001b[0m         \u001b[0mguess\u001b[0m \u001b[0;34m=\u001b[0m \u001b[0;34m(\u001b[0m\u001b[0;36m1\u001b[0m\u001b[0;34m/\u001b[0m\u001b[0;36m2\u001b[0m\u001b[0;34m)\u001b[0m\u001b[0;34m*\u001b[0m\u001b[0;34m(\u001b[0m\u001b[0mguess\u001b[0m\u001b[0;34m+\u001b[0m\u001b[0mx\u001b[0m\u001b[0;34m/\u001b[0m\u001b[0mguess\u001b[0m\u001b[0;34m)\u001b[0m\u001b[0;34m\u001b[0m\u001b[0;34m\u001b[0m\u001b[0m\n\u001b[1;32m      6\u001b[0m     \u001b[0;32mreturn\u001b[0m \u001b[0mguess\u001b[0m\u001b[0;34m\u001b[0m\u001b[0;34m\u001b[0m\u001b[0m\n",
      "\u001b[0;31mTypeError\u001b[0m: unsupported operand type(s) for -: 'int' and 'str'"
     ]
    }
   ],
   "source": [
    "my_sqrt(\"42\")"
   ]
  },
  {
   "cell_type": "markdown",
   "metadata": {},
   "source": [
    "Wir bekommen als einen ```TypeError```, da die Substraktion von Zahlen und Zeichenketten nicht definiert ist. Positiv hierbei ist, das der Typ der Exception, die geworfen wird, richtig ist, da Zeichenketten als Typ ja nicht unterstützt werden sollten. Die Fehlermeldung selbst ist jedoch sehr unglücklich. Statt der klaren Aussage, dass die Quadratwurzel für Zeichenketten nicht definiert ist, bekommt man eine konkrete Division in der Funktion als Problem gemeldet. Um eine bessere Fehlermeldung zu liefern, können wir selbst am Anfang der Methode überprüfen, ob es sich um eine Zahl handelt. Falls dies nicht der Fall ist, können wir mit Hilfe des Schlüsselworts ```raise``` selbst einen ```TypeError``` mit einer besseren Fehlermeldung generieren. "
   ]
  },
  {
   "cell_type": "code",
   "execution_count": 8,
   "metadata": {},
   "outputs": [
    {
     "ename": "TypeError",
     "evalue": "Only supports int and float",
     "output_type": "error",
     "traceback": [
      "\u001b[0;31m---------------------------------------------------------------------------\u001b[0m",
      "\u001b[0;31mTypeError\u001b[0m                                 Traceback (most recent call last)",
      "\u001b[0;32m<ipython-input-8-dd311ffa73d5>\u001b[0m in \u001b[0;36m<module>\u001b[0;34m\u001b[0m\n\u001b[1;32m      8\u001b[0m     \u001b[0;32mreturn\u001b[0m \u001b[0mguess\u001b[0m\u001b[0;34m\u001b[0m\u001b[0;34m\u001b[0m\u001b[0m\n\u001b[1;32m      9\u001b[0m \u001b[0;34m\u001b[0m\u001b[0m\n\u001b[0;32m---> 10\u001b[0;31m \u001b[0mmy_sqrt_exceptions\u001b[0m\u001b[0;34m(\u001b[0m\u001b[0;34m\"42\"\u001b[0m\u001b[0;34m)\u001b[0m\u001b[0;34m\u001b[0m\u001b[0;34m\u001b[0m\u001b[0m\n\u001b[0m",
      "\u001b[0;32m<ipython-input-8-dd311ffa73d5>\u001b[0m in \u001b[0;36mmy_sqrt_exceptions\u001b[0;34m(x)\u001b[0m\n\u001b[1;32m      2\u001b[0m     \u001b[0;34m\"\"\"Returns the square root of x\"\"\"\u001b[0m\u001b[0;34m\u001b[0m\u001b[0;34m\u001b[0m\u001b[0m\n\u001b[1;32m      3\u001b[0m     \u001b[0;32mif\u001b[0m \u001b[0;32mnot\u001b[0m \u001b[0;34m(\u001b[0m\u001b[0misinstance\u001b[0m\u001b[0;34m(\u001b[0m\u001b[0mx\u001b[0m\u001b[0;34m,\u001b[0m \u001b[0mfloat\u001b[0m\u001b[0;34m)\u001b[0m \u001b[0;32mor\u001b[0m \u001b[0misinstance\u001b[0m\u001b[0;34m(\u001b[0m\u001b[0mx\u001b[0m\u001b[0;34m,\u001b[0m \u001b[0mint\u001b[0m\u001b[0;34m)\u001b[0m\u001b[0;34m)\u001b[0m\u001b[0;34m:\u001b[0m \u001b[0;31m# checks type of parameter with isinstance\u001b[0m\u001b[0;34m\u001b[0m\u001b[0;34m\u001b[0m\u001b[0m\n\u001b[0;32m----> 4\u001b[0;31m         \u001b[0;32mraise\u001b[0m \u001b[0mTypeError\u001b[0m\u001b[0;34m(\u001b[0m\u001b[0;34m\"Only supports int and float\"\u001b[0m\u001b[0;34m)\u001b[0m   \u001b[0;31m# raise TypeError is not numeric\u001b[0m\u001b[0;34m\u001b[0m\u001b[0;34m\u001b[0m\u001b[0m\n\u001b[0m\u001b[1;32m      5\u001b[0m     \u001b[0mguess\u001b[0m \u001b[0;34m=\u001b[0m \u001b[0;36m1\u001b[0m\u001b[0;34m\u001b[0m\u001b[0;34m\u001b[0m\u001b[0m\n\u001b[1;32m      6\u001b[0m     \u001b[0;32mwhile\u001b[0m\u001b[0;34m(\u001b[0m\u001b[0mabs\u001b[0m\u001b[0;34m(\u001b[0m\u001b[0mguess\u001b[0m\u001b[0;34m*\u001b[0m\u001b[0mguess\u001b[0m\u001b[0;34m-\u001b[0m\u001b[0mx\u001b[0m\u001b[0;34m)\u001b[0m\u001b[0;34m>\u001b[0m\u001b[0;36m0.0001\u001b[0m\u001b[0;34m)\u001b[0m\u001b[0;34m:\u001b[0m\u001b[0;34m\u001b[0m\u001b[0;34m\u001b[0m\u001b[0m\n",
      "\u001b[0;31mTypeError\u001b[0m: Only supports int and float"
     ]
    }
   ],
   "source": [
    "def my_sqrt_exceptions(x):\n",
    "    \"\"\"Returns the square root of x\"\"\"\n",
    "    if not (isinstance(x, float) or isinstance(x, int)): # checks type of parameter with isinstance\n",
    "        raise TypeError(\"Only supports int and float\")   # raise TypeError is not numeric\n",
    "    guess = 1\n",
    "    while(abs(guess*guess-x)>0.0001):\n",
    "        guess = (1/2)*(guess+x/guess)\n",
    "    return guess\n",
    "\n",
    "my_sqrt_exceptions(\"42\")"
   ]
  },
  {
   "cell_type": "markdown",
   "metadata": {},
   "source": [
    "Die nächste Eigenschaft der Quadratwurzel, die wir bisher ignoriert haben, ist die Tatsache, dass die Wurzel von negativen Zahlen im reellen undefiniert ist. Dieses Eigenschaft spiegelt sich aber nicht in unserer Funktion wieder. Führt man die Funktion mit negativen Zahlen aus, landet man in der Regel in einer Endlosschleife. Daher sollte man vor dem Ausführen des Heronverfahrens überprüfen, ob die Zahl positiv ist. Wenn dies nicht der Fall ist, kann man mit einem ```ValueError``` auf den ungültigen Eingabewert (der korrekten Klasse) reagieren. "
   ]
  },
  {
   "cell_type": "code",
   "execution_count": 9,
   "metadata": {},
   "outputs": [
    {
     "ename": "ValueError",
     "evalue": "Square root only defined for positive numbers",
     "output_type": "error",
     "traceback": [
      "\u001b[0;31m---------------------------------------------------------------------------\u001b[0m",
      "\u001b[0;31mValueError\u001b[0m                                Traceback (most recent call last)",
      "\u001b[0;32m<ipython-input-9-0f0389a3ecf7>\u001b[0m in \u001b[0;36m<module>\u001b[0;34m\u001b[0m\n\u001b[1;32m     10\u001b[0m     \u001b[0;32mreturn\u001b[0m \u001b[0mguess\u001b[0m\u001b[0;34m\u001b[0m\u001b[0;34m\u001b[0m\u001b[0m\n\u001b[1;32m     11\u001b[0m \u001b[0;34m\u001b[0m\u001b[0m\n\u001b[0;32m---> 12\u001b[0;31m \u001b[0mmy_sqrt_exceptions\u001b[0m\u001b[0;34m(\u001b[0m\u001b[0;34m-\u001b[0m\u001b[0;36m42\u001b[0m\u001b[0;34m)\u001b[0m\u001b[0;34m\u001b[0m\u001b[0;34m\u001b[0m\u001b[0m\n\u001b[0m",
      "\u001b[0;32m<ipython-input-9-0f0389a3ecf7>\u001b[0m in \u001b[0;36mmy_sqrt_exceptions\u001b[0;34m(x)\u001b[0m\n\u001b[1;32m      4\u001b[0m         \u001b[0;32mraise\u001b[0m \u001b[0mTypeError\u001b[0m\u001b[0;34m(\u001b[0m\u001b[0;34m\"Only supports int and float\"\u001b[0m\u001b[0;34m)\u001b[0m\u001b[0;34m\u001b[0m\u001b[0;34m\u001b[0m\u001b[0m\n\u001b[1;32m      5\u001b[0m     \u001b[0;32mif\u001b[0m \u001b[0mx\u001b[0m\u001b[0;34m<\u001b[0m\u001b[0;36m0\u001b[0m\u001b[0;34m:\u001b[0m\u001b[0;34m\u001b[0m\u001b[0;34m\u001b[0m\u001b[0m\n\u001b[0;32m----> 6\u001b[0;31m         \u001b[0;32mraise\u001b[0m \u001b[0mValueError\u001b[0m\u001b[0;34m(\u001b[0m\u001b[0;34m\"Square root only defined for positive numbers\"\u001b[0m\u001b[0;34m)\u001b[0m \u001b[0;31m# raise ValueError for invalid input values\u001b[0m\u001b[0;34m\u001b[0m\u001b[0;34m\u001b[0m\u001b[0m\n\u001b[0m\u001b[1;32m      7\u001b[0m     \u001b[0mguess\u001b[0m \u001b[0;34m=\u001b[0m \u001b[0;36m1\u001b[0m\u001b[0;34m\u001b[0m\u001b[0;34m\u001b[0m\u001b[0m\n\u001b[1;32m      8\u001b[0m     \u001b[0;32mwhile\u001b[0m\u001b[0;34m(\u001b[0m\u001b[0mabs\u001b[0m\u001b[0;34m(\u001b[0m\u001b[0mguess\u001b[0m\u001b[0;34m*\u001b[0m\u001b[0mguess\u001b[0m\u001b[0;34m-\u001b[0m\u001b[0mx\u001b[0m\u001b[0;34m)\u001b[0m\u001b[0;34m>\u001b[0m\u001b[0;36m0.0001\u001b[0m\u001b[0;34m)\u001b[0m\u001b[0;34m:\u001b[0m\u001b[0;34m\u001b[0m\u001b[0;34m\u001b[0m\u001b[0m\n",
      "\u001b[0;31mValueError\u001b[0m: Square root only defined for positive numbers"
     ]
    }
   ],
   "source": [
    "def my_sqrt_exceptions(x):\n",
    "    \"\"\"Returns the square root of x\"\"\"\n",
    "    if not (isinstance(x, float) or isinstance(x, int)):\n",
    "        raise TypeError(\"Only supports int and float\")\n",
    "    if x<0:\n",
    "        raise ValueError(\"Square root only defined for positive numbers\") # raise ValueError for invalid input values\n",
    "    guess = 1\n",
    "    while(abs(guess*guess-x)>0.0001):\n",
    "        guess = (1/2)*(guess+x/guess)\n",
    "    return guess\n",
    "\n",
    "my_sqrt_exceptions(-42)"
   ]
  },
  {
   "cell_type": "markdown",
   "metadata": {},
   "source": [
    "# Benutzerdefinierte Exceptions\n",
    "\n",
    "Es gibt Fälle, wo man für eine Anwendung eigene Ausnahmen definieren möchte, zum Beispiel weil keine built-in Exception passend ist. Hierfür kann man eigene Exceptions definieren, in dem man eine neue Klassen erstellt, die von der Klasse ```Exception``` abgeleitet ist."
   ]
  },
  {
   "cell_type": "code",
   "execution_count": 10,
   "metadata": {},
   "outputs": [
    {
     "ename": "MyException",
     "evalue": "My very own Exception",
     "output_type": "error",
     "traceback": [
      "\u001b[0;31m---------------------------------------------------------------------------\u001b[0m",
      "\u001b[0;31mMyException\u001b[0m                               Traceback (most recent call last)",
      "\u001b[0;32m<ipython-input-10-47a70dd52ac8>\u001b[0m in \u001b[0;36m<module>\u001b[0;34m\u001b[0m\n\u001b[1;32m      2\u001b[0m     \u001b[0;32mpass\u001b[0m \u001b[0;31m# empty class block requires pass\u001b[0m\u001b[0;34m\u001b[0m\u001b[0;34m\u001b[0m\u001b[0m\n\u001b[1;32m      3\u001b[0m \u001b[0;34m\u001b[0m\u001b[0m\n\u001b[0;32m----> 4\u001b[0;31m \u001b[0;32mraise\u001b[0m \u001b[0mMyException\u001b[0m\u001b[0;34m(\u001b[0m\u001b[0;34m\"My very own Exception\"\u001b[0m\u001b[0;34m)\u001b[0m\u001b[0;34m\u001b[0m\u001b[0;34m\u001b[0m\u001b[0m\n\u001b[0m",
      "\u001b[0;31mMyException\u001b[0m: My very own Exception"
     ]
    }
   ],
   "source": [
    "class MyException(Exception):\n",
    "    pass # empty class block requires pass\n",
    "\n",
    "raise MyException(\"My very own Exception\")"
   ]
  },
  {
   "cell_type": "markdown",
   "metadata": {},
   "source": [
    "Man muss auch nicht direkt von ```Exception``` Ableiten. Wenn man zum Beispiel eine Bibliothek mit mathematischen Funktionen entwickelt, kann es zum Beispiel auch Sinn machen ```ArithmeticException``` als Basisklasse zur nehmen. "
   ]
  },
  {
   "cell_type": "markdown",
   "metadata": {},
   "source": [
    "# Hierarchien zwischen Exceptions\n",
    "\n",
    "Exceptions sind durch Vererbung als Klassenhierarchie organisiert. Dies ist für die Auswertung der ```except``` Anweisung wichtig: Es wird nicht nur genau die definierte Klasse behandelt, sondern auch alle ihre Kindklassen. Hierdurch kann es auch mehrere ```except``` Anweisungen geben, die auf die selbe Klasse zutreffen, weil verschiedene Hierarchieebenen der gleichen Klasse abgefangen werden. In diesem Fall zählt die Reihenfolge der ```except``` Anweisungen. Zur Veranschaulichung brauchen wir zuerst eine einfache Hierarchie. "
   ]
  },
  {
   "cell_type": "code",
   "execution_count": 11,
   "metadata": {},
   "outputs": [],
   "source": [
    "class ParentException(Exception):\n",
    "    pass\n",
    "\n",
    "class ChildException(ParentException):\n",
    "    pass"
   ]
  },
  {
   "cell_type": "markdown",
   "metadata": {},
   "source": [
    "Wenn wir nun die ChildException werfen und es ```except``` Anweisungen sowohl für die ```ParentException``` als auch für die ```ChildException``` gibt, hängt das Verhalten von der Reihenfolge der Klassen im ```except``` ab. Behandelt man zuerst die ```ParentException``` wird man nie im Block der ```ChildException``` landen können."
   ]
  },
  {
   "cell_type": "code",
   "execution_count": 12,
   "metadata": {},
   "outputs": [
    {
     "name": "stdout",
     "output_type": "stream",
     "text": [
      "except for ParentException\n"
     ]
    }
   ],
   "source": [
    "try:\n",
    "    raise ChildException()\n",
    "except ParentException:\n",
    "    print(\"except for ParentException\")\n",
    "except ChildException:\n",
    "    print(\"except for ChildException\")"
   ]
  },
  {
   "cell_type": "markdown",
   "metadata": {},
   "source": [
    "Ändert man die Reihenfolge, wird die ```ChildException``` auch vom ```except``` Block der ```ChildException``` behandelt. "
   ]
  },
  {
   "cell_type": "code",
   "execution_count": 13,
   "metadata": {},
   "outputs": [
    {
     "name": "stdout",
     "output_type": "stream",
     "text": [
      "except for ChildException\n"
     ]
    }
   ],
   "source": [
    "try:\n",
    "    raise ChildException()\n",
    "except ChildException:\n",
    "    print(\"except for ChildException\")\n",
    "except ParentException:\n",
    "    print(\"except for ParentException\")"
   ]
  },
  {
   "cell_type": "markdown",
   "metadata": {},
   "source": [
    "# finally and with\n",
    "\n",
    "Es gibt Fälle, da müssen Anweisungen auf jeden Fall ausgeführt werden, egal ob eine Exception geworfen wird oder nicht. Solche Anweisungen sind häufig zum Aufräumen da: Freigabe von Resourcen, sicherstellen das Daten konsistent sind, und ähnliches. Hierfür gibt es das Schlüsselwort ```finally```. Hiermit lässt sich ein Block definieren, der immer im Anschluss an einen ```try``` Block ausgeführt wird. Selbst wenn eine Ausgabe nicht behandelt wird, wird zuerst der ```finally``` Block ausgeführt, bevor die Exception die Programmausführung beendet."
   ]
  },
  {
   "cell_type": "code",
   "execution_count": 14,
   "metadata": {},
   "outputs": [
    {
     "name": "stdout",
     "output_type": "stream",
     "text": [
      "except\n",
      "finally block\n"
     ]
    }
   ],
   "source": [
    "# case 1: finally after an exception was handled\n",
    "try:\n",
    "    undefined_variable\n",
    "except NameError:\n",
    "    print(\"except\")    \n",
    "finally:\n",
    "    print(\"finally block\")"
   ]
  },
  {
   "cell_type": "code",
   "execution_count": 15,
   "metadata": {},
   "outputs": [
    {
     "name": "stdout",
     "output_type": "stream",
     "text": [
      "finally block\n"
     ]
    }
   ],
   "source": [
    "# case 2: finally after leaving try without exception\n",
    "try:\n",
    "    pass\n",
    "except NameError:\n",
    "    print(\"except\")    \n",
    "finally:\n",
    "    print(\"finally block\")"
   ]
  },
  {
   "cell_type": "code",
   "execution_count": 16,
   "metadata": {},
   "outputs": [
    {
     "name": "stdout",
     "output_type": "stream",
     "text": [
      "finally block\n"
     ]
    },
    {
     "ename": "ZeroDivisionError",
     "evalue": "division by zero",
     "output_type": "error",
     "traceback": [
      "\u001b[0;31m---------------------------------------------------------------------------\u001b[0m",
      "\u001b[0;31mZeroDivisionError\u001b[0m                         Traceback (most recent call last)",
      "\u001b[0;32m<ipython-input-16-3a0513e3d964>\u001b[0m in \u001b[0;36m<module>\u001b[0;34m\u001b[0m\n\u001b[1;32m      1\u001b[0m \u001b[0;31m# case 3: finally with unhandled exception\u001b[0m\u001b[0;34m\u001b[0m\u001b[0;34m\u001b[0m\u001b[0;34m\u001b[0m\u001b[0m\n\u001b[1;32m      2\u001b[0m \u001b[0;32mtry\u001b[0m\u001b[0;34m:\u001b[0m\u001b[0;34m\u001b[0m\u001b[0;34m\u001b[0m\u001b[0m\n\u001b[0;32m----> 3\u001b[0;31m     \u001b[0;36m1\u001b[0m\u001b[0;34m/\u001b[0m\u001b[0;36m0\u001b[0m\u001b[0;34m\u001b[0m\u001b[0;34m\u001b[0m\u001b[0m\n\u001b[0m\u001b[1;32m      4\u001b[0m \u001b[0;32mexcept\u001b[0m \u001b[0mNameError\u001b[0m\u001b[0;34m:\u001b[0m\u001b[0;34m\u001b[0m\u001b[0;34m\u001b[0m\u001b[0m\n\u001b[1;32m      5\u001b[0m     \u001b[0mprint\u001b[0m\u001b[0;34m(\u001b[0m\u001b[0;34m\"except\"\u001b[0m\u001b[0;34m)\u001b[0m\u001b[0;34m\u001b[0m\u001b[0;34m\u001b[0m\u001b[0m\n",
      "\u001b[0;31mZeroDivisionError\u001b[0m: division by zero"
     ]
    }
   ],
   "source": [
    "# case 3: finally with unhandled exception\n",
    "try:\n",
    "    1/0\n",
    "except NameError:\n",
    "    print(\"except\")    \n",
    "finally:\n",
    "    print(\"finally block\")"
   ]
  },
  {
   "cell_type": "markdown",
   "metadata": {},
   "source": [
    "Es gibt auch Objekte, die ihr Aufräumverhalten direkt mitliefern. Dies kann man über das Schlüsselwort ```with``` nutzen. Als Beispiel hierfür machen wir einen kleinen Exkurs und gucken uns die Operationen zum Lesen und Schreiben von Dateien in Python an.  "
   ]
  },
  {
   "cell_type": "markdown",
   "metadata": {},
   "source": [
    "## Exkurs: Dateien Lesen und Schreiben\n",
    "\n",
    "Zugriff auf Dateien ist ein typisches Beispiel für Operationen, bei denen man sicherstellen muss, dass am Ende aufgeräumt wird. Werden Dateien nicht richtig geschlossen, kann dies unerwünschte Nebenwirkungen haben. Zum Beispiel kann man eventuell die Datei von einem anderen Programm aus nicht mehr schreiben, oder es werden nicht alle Daten sauber geschrieben, so dass es zum Datenverlust kommt. Wenn man Dateien mit Hilfe von ```with``` öffnet, wird garantiert das die Datei am Ende des ```with``` Blocks sauber geschlossen wird. Zum Öffnen von Dateien gibt es in Python die Funktion ```open()```. Inhalte können mit ```read``` gelesen werden und mit ```write``` geschrieben werden. Mit ```readlines``` kann man eine Datei zeilenweise lesen."
   ]
  },
  {
   "cell_type": "code",
   "execution_count": 17,
   "metadata": {},
   "outputs": [
    {
     "name": "stdout",
     "output_type": "stream",
     "text": [
      "def my_sqrt(x):\n",
      "    \"\"\"Returns the square root of x\"\"\"\n",
      "    guess = 1\n",
      "    while(abs(guess*guess-x)>0.0001):\n",
      "        guess = (1/2)*(guess+x/guess)\n",
      "    return guess\n"
     ]
    }
   ],
   "source": [
    "# example 1: copy a file\n",
    "with open('../examples/sqrt.py', 'r') as input_file: # opens file read-only in the variable file\n",
    "    content = input_file.read()\n",
    "    \n",
    "print(content)\n",
    "\n",
    "with open('../examples/sqrt-copy.py','w') as output_file: # opens file for writing\n",
    "    output_file.write(content)"
   ]
  },
  {
   "cell_type": "code",
   "execution_count": 18,
   "metadata": {},
   "outputs": [
    {
     "name": "stdout",
     "output_type": "stream",
     "text": [
      "def my_sqrt(x):\r\n",
      "    \"\"\"Returns the square root of x\"\"\"\r\n",
      "    guess = 1\r\n",
      "    while(abs(guess*guess-x)>0.0001):\r\n",
      "        guess = (1/2)*(guess+x/guess)\r\n",
      "    return guess"
     ]
    }
   ],
   "source": [
    "%cat ../examples/sqrt-copy.py"
   ]
  },
  {
   "cell_type": "code",
   "execution_count": 19,
   "metadata": {},
   "outputs": [
    {
     "name": "stdout",
     "output_type": "stream",
     "text": [
      "  1 def my_sqrt(x):\n",
      "  2     \"\"\"Returns the square root of x\"\"\"\n",
      "  3     guess = 1\n",
      "  4     while(abs(guess*guess-x)>0.0001):\n",
      "  5         guess = (1/2)*(guess+x/guess)\n",
      "  6     return guess\n"
     ]
    }
   ],
   "source": [
    "# example 2: print a file with line numbers\n",
    "with open('../examples/sqrt.py', 'r') as input_file: # opens file read-only in the variable file\n",
    "    for i, line in enumerate(input_file.readlines()):\n",
    "        print(f\"{i+1:3d} {line.rstrip()}\") # rstrip removes whitespaces on the right side of a string"
   ]
  },
  {
   "cell_type": "markdown",
   "metadata": {},
   "source": [
    "# Regeln zum Programmierstil\n",
    "\n",
    "Die Bennung von Variablen, Funktionen, Klassen, und Modulen, sowie die Formatierung des Quelltextes sind sehr wichtig für die Lesbarkeit von Programmen durch Menschen. Betrachten Sie zur Veranschaulichung den folgenden Quelltext. "
   ]
  },
  {
   "cell_type": "code",
   "execution_count": 20,
   "metadata": {},
   "outputs": [],
   "source": [
    "def f(x):\n",
    " y=1\n",
    " while(abs(y *  y   -   x)   >0.0001    ):\n",
    "                                                   y = (1/2)    *                                               (y+x/y)\n",
    " return y"
   ]
  },
  {
   "cell_type": "markdown",
   "metadata": {},
   "source": [
    "Der Quelltext ist syntaktisch korrekt. Inhaltlich ist er identisch zur Funktion ```my_sqrt```. Der Quelltext ist jedoch viel schwerer zu lesen. Fragen Sie sich einfach, ob Sie verstanden hätten, was diese Funktion tut, wenn Sie nicht zufällig bereits die Wurzelfunktion kennen würden. Es gibt zwei offentliche Gründe, warum die obige Funktion schwerer zu lesen ist: \n",
    "- Die Bennung der Variablen, insbesondere auch der Funktion, hat keinen selbsterklärenden Zusammenhang zu ihrer Bedeutung mehr. \n",
    "- Die Formatierung ist nicht Einheitlich. Dies gilt sowohl für die Einrückung, als auch für die Leerzeichen innerhalb der Anweisungen. \n",
    "\n",
    "Natürlich ist die obige Zelle überspitzt dargestellt. Aber insbesondere zu kurze Namen sind ein häufig verbreitetes Problem. Für Python gibt es mit [PEP 8](https://www.python.org/dev/peps/pep-0008/) einen offiziellen *Style Guide*, in dem Richtlinien für den Programmierstil festgelegt werden. Es lohnt sich für jeden Entwickler von Python einen Blick in dieses Dokument zu werfen. Hier sind nur einige Auszüge: \n",
    "- Blöcke sollten immer mit 4 Zeichen eingerückt sein. \n",
    "- Die Namen von Variablen, Funktionen, Module und Packages sollten nur aus kleinen Buchstaben bestehen. Unterstriche können verwendet werden, wenn sie die Lesbarkeit erhöhen. Die Namen von Modulen und Packages sollten möglichst kurz sein. \n",
    "- Klassennamen sollten CapWords (auch CamelCasing genannt) genannt verwenden. \n",
    "- Konstanten (Variablen, die nie verändert werden sollten) sollten nur aus Großbuchstaben bestehen. Unterstriche können verwendet werden, wenn sie die Lesbarkeit erhöhen. "
   ]
  }
 ],
 "metadata": {
  "kernelspec": {
   "display_name": "Python 3",
   "language": "python",
   "name": "python3"
  },
  "language_info": {
   "codemirror_mode": {
    "name": "ipython",
    "version": 3
   },
   "file_extension": ".py",
   "mimetype": "text/x-python",
   "name": "python",
   "nbconvert_exporter": "python",
   "pygments_lexer": "ipython3",
   "version": "3.6.7"
  }
 },
 "nbformat": 4,
 "nbformat_minor": 2
}
