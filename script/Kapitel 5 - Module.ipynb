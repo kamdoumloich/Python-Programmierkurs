{
 "cells": [
  {
   "cell_type": "markdown",
   "metadata": {},
   "source": [
    "# Inhalt\n",
    "\n",
    "Das fünfte Kapitel befasst sich mit dem Modulsystem von Python sowie der Sichtbarkeit von Variablen und deckt die folgenden Konzepte ab:\n",
    "- Module\n",
    "- Packages\n",
    "- Namespaces und Scopes\n",
    "\n",
    "\n",
    "# Das Erste Modul\n",
    "\n",
    "Für das Arbeiten der Module müssen wir die Jupyternotebooks erst einmal hinter uns lassen und stattdessen direkt mit dem Interpreter beschäftigen. Was wir bisher über den Interpreter gelernt haben ist:\n",
    "- Der Interpreter kann Befehle interaktiv ausführen.\n",
    "- Man kann auch ganze Dateien als Übergabeparameter ausführen. \n",
    "- Im Hintergrund von Jupyter Notebooks läuft ein Interpreter, so dass sich alle Zellen den gleichen Interpreter teilen.\n",
    "- Zugewiesene Variablen bleiben bis zum Beenden des Interpreters gültig.\n",
    "\n",
    "Was wir bisher noch nicht haben, ist ein Konzept für die Wiederverwendung von Funktionen. Zur Wiederholung hier die Funktion zum Berechnen der Quadratwurzel aus Kapitel 4."
   ]
  },
  {
   "cell_type": "code",
   "execution_count": 1,
   "metadata": {},
   "outputs": [],
   "source": [
    "def my_sqrt(x):\n",
    "    \"\"\"Returns the square root of x\"\"\"\n",
    "    guess = 1\n",
    "    while(abs(guess*guess-x)>0.0001):\n",
    "        guess = (1/2)*(guess+x/guess)\n",
    "    return guess"
   ]
  },
  {
   "cell_type": "markdown",
   "metadata": {},
   "source": [
    "Mit unserem bisherigen Wissen müsste man diese Funktion immer direkt im Interpreter ausführen, bevor man Sie benutzen kann. Auch wenn das mit einer einzigen Funktion noch praktikabel erscheint, skaliert dies nicht mehr, wenn viele Funktionen oder Klassen wiederverwendet werden sollen. Die Dateien würden schnell riesig werden. Für die Wartbarkeit wäre dieses auf *Copy & Paste* basierende Programmieren auch ein Alptraum. Stellen Sie sich vor, Sie verwenden die Wurzelfunktion in 100 Programmen. Um etwas an dieser Funktion zu ändern, müssten Sie diese in allen 100 Programmen ändern. Das ist weder handhabbar, noch sinnvoll. An dieser Stelle treten die Module auf den Plan. \n",
    "\n",
    "Mit Hilfe von Modulen ist es möglich Funktionen in Dateien zu definieren, und in anderen Pythonskripten zu importieren. Hierzu muss man zuerst eine Datei anlegen, welche die zu importierenden Funktionen zur Verfügung stellt. "
   ]
  },
  {
   "cell_type": "code",
   "execution_count": 1,
   "metadata": {},
   "outputs": [
    {
     "name": "stdout",
     "output_type": "stream",
     "text": [
      "def my_sqrt(x):\r\n",
      "    \"\"\"Returns the square root of x\"\"\"\r\n",
      "    guess = 1\r\n",
      "    while(abs(guess*guess-x)>0.0001):\r\n",
      "        guess = (1/2)*(guess+x/guess)\r\n",
      "    return guess"
     ]
    }
   ],
   "source": [
    "%cat ../examples/sqrt.py # a \"magic\" that prints the contents of the sqrt.py"
   ]
  },
  {
   "cell_type": "markdown",
   "metadata": {},
   "source": [
    "Den Inhalt dieser Datei kann man jetzt als Modul in anderen Dateien laden. Damit dies im Jupyter Notebook Reibungslos funktioniert, muss zunächst die folgende Zelle ausgeführt werden. Der Inhalt dieser Zelle wird [am Ende dieses Kapitels](#Der-Modulpfad) erklärt."
   ]
  },
  {
   "cell_type": "code",
   "execution_count": 2,
   "metadata": {},
   "outputs": [],
   "source": [
    "import os\n",
    "import sys\n",
    "sys.path.append(os.getcwd()+\"/../examples\")"
   ]
  },
  {
   "cell_type": "markdown",
   "metadata": {},
   "source": [
    "Um die ```my_sqrt``` Funktion jetzt in anderen Dateien benutzen zu können, muss man Sie importieren. Hierzu gibt es in Python das Schlüsselwort```import```. "
   ]
  },
  {
   "cell_type": "code",
   "execution_count": 3,
   "metadata": {},
   "outputs": [
    {
     "data": {
      "text/plain": [
       "6.480740727643494"
      ]
     },
     "execution_count": 3,
     "metadata": {},
     "output_type": "execute_result"
    }
   ],
   "source": [
    "import sqrt      # executes the sqrt.py file in the current interpreter to load the my_sqrt function\n",
    "\n",
    "sqrt.my_sqrt(42) # uses the function my_sqrt from the sqrt module"
   ]
  },
  {
   "cell_type": "markdown",
   "metadata": {},
   "source": [
    "Der Aufruf der ```my_sqrt``` Funktion wurde mit dem Namen des Moduls ```sqrt``` eingeleitet,  wobei der Funktionsname und der Modulname von einem ```.``` getrennt sindUm zu verstehen, warum das Nötig ist, müssen wir uns zuerst mit der Sichtbarkeiten von Variablen befassen."
   ]
  },
  {
   "cell_type": "markdown",
   "metadata": {},
   "source": [
    "# Gültigkeit und Sichtbarkeit von Variablen\n",
    "\n",
    "(In diesem Abschnitt bezeichnen wir alles, was einen Namen bekommen kann, als Variablen, also auch Funktionen und Klassen.) \n",
    "\n",
    "Ein wichtiges Thema, welches wir bisher vernachlästigt haben, ist die Sichtbarkeit von Variablen. Bisher haben wir immer so getan, als ob auf jede Variable immer und überall einfach über ihren Namen zugegriffen werden kann. Das dies nicht Stimmt, zeigt das folgende Beispiel."
   ]
  },
  {
   "cell_type": "code",
   "execution_count": 14,
   "metadata": {},
   "outputs": [
    {
     "name": "stdout",
     "output_type": "stream",
     "text": [
      "my_variable in func: Inside\n",
      "my_variable outside of func: Outside\n"
     ]
    }
   ],
   "source": [
    "my_variable = \"Outside\"\n",
    "\n",
    "def func():\n",
    "    my_variable = \"Inside\"\n",
    "    print(f\"my_variable in func: {my_variable}\")\n",
    "    \n",
    "func()\n",
    "print(f\"my_variable outside of func: {my_variable}\")"
   ]
  },
  {
   "cell_type": "markdown",
   "metadata": {},
   "source": [
    "Die Variable ```my_variable``` wird innerhalb der Funktion neu definiert. Dennoch behält die Variable außerhalb der Funktion den gleichen Wert. Der Grund für dieses Verhalten sind *Namespaces* und die damit zusammenhängenden *Scoping Rules*. Vereinfacht gesagt, hat die Funktion ```func``` ihren eigenen *Namespace* und die *Scoping Rules* legen fest, dass innerhalb der Funktion eine zweite Variable ```my_variable``` erstellt wird, weshalb die außerhalb der Funktion definierte Variable ```my_variable``` nicht verändert wird.\n",
    "\n",
    "\n",
    "## Namespaces und Gültigkeit\n",
    "Um die Interaktionen zwischen Variablen mit dem gleichen Namen zu verstehen, muss man zuerst die Namespaces verstehen. Grundsätzlich gibt es drei Arten von Namespaces in Python:\n",
    "- *built-in*\n",
    "- *global*\n",
    "- *local*\n",
    "\n",
    "Der *built-in* Namespace ist jederzeit gültig und verfügbar. Er beinhaltet die von Python zur Verfügung gestellten Sprachkonstrukte, zum Beispiel die Klassen für die Datentypen ```list```, ```set```, etc. Der globale Namespace *global* bezieht sich auf ein Modul. Jedes Modul hat seinen eigenen globalen Namespace. Der globale Namespace ist erst dann verfügbar, wenn ein Modul geladen wird und bleibt gültig, solange das Modul geladen bleibt. Dies ist üblicherweise der Fall, bis der Interpreter beendet wird. Der *local* Namespace wird für jede Funktion bei ihrem Aufruf erstellt und besteht nur solange, bis die Ausführung der Funktion beendet ist.\n",
    "\n",
    "## Scopes\n",
    "\n",
    "Auch wenn die Variablen in den einzelnen Namespaces unabhängig voneinander sind, sind es die Namespaces selbst nicht. Stattdessen gibt es eine hierarchische Beziehung. Der built-in Namespace beinhaltet die Namespaces der Module. Die Module beinhaltet die Namespaces der in Ihnen definierten Funktionen. Werden Funktionen innerhalb anderer Funktionen definiert, befindet sich der Namespace innerhalb des lokalen Namenspaces der äußeren Funktion. Man spricht in der Python Terminilogy auch vom *innermost* Namespace, um den aktuellen innersten Namespace zu beschreiben. \n",
    "\n",
    "Der *Scope* sind alle Variablen, auf die man direkt über ihren Namen zugreifen kann. Dies sind nicht nur die Variablen aus dem innermost Namespace, sondern auch alle Variablen aus den umschließenden Namespaces, die nicht von Variablen gleichen Namens aus weiter innenliegenden Namespaces \"überdeckt\" werden. Um den Scope zu bestimmen gilt die Regel das die Namespaces von innen nach außen durchsucht werden. Der Scope ist jedoch nur für den Zugriff auf Variablen wichtig. Definiert man eine Variable, wird diese im aktuellen innermost Namespace zugewiesen. "
   ]
  },
  {
   "cell_type": "code",
   "execution_count": 17,
   "metadata": {},
   "outputs": [],
   "source": [
    "outer = \"Outer\"\n",
    "# namespaces from outer to inner: built-in, global\n",
    "# scope: outer + builtins\n",
    "def func():\n",
    "    # namespaces from outer to inner: built-in, global, local of func\n",
    "    # scope: outer (from global namespace), func (from global namespace) + built-ins\n",
    "    inner = \"Inner\"\n",
    "    # Scope: outer (from global namespace), func (from global namespace), inner (from local namespace) + built-ins\n",
    "    outer = \"Inner\"\n",
    "    # Scope: func (from global namespace), inner (from local namespace), outer (from local namespace) + built-ins\n",
    "\n",
    "# namespaces from outer to inner: built-in, global\n",
    "# scope: outer (from global namespace), func (from global namespace) + built-ins\n",
    "func()"
   ]
  },
  {
   "cell_type": "markdown",
   "metadata": {},
   "source": [
    "Jetzt ist auch klar, was in unserem Beispiel am Anfang passiert ist. ```my_variable``` wurde im *local* Namespace von ```func``` definiert. Dadurch ist ```my_variable``` aus dem globalen Namespace beim Aufruf von ```print``` in ```func``` nicht mehr Scope von ```func``` und es wird ```\"Inside\"``` ausgegeben.\n",
    "\n",
    "## global und nonlocal\n",
    "\n",
    "Will man eine Variable, die zu einem umschließenden Namespace gehört, zuweisen, geht das nicht ohne weiteres. Wie wir oben gelernt haben, ist diese zwar eventuell im Scope und kann damit gelesen werden. Bei einer Zuweisung würde jedoch automatisch eine neue Variable in aktuellen innermost Namespace angelegt. Dies kann man mit den Schlüsselwörtern ```global``` und ```nonlocal``` umgehen. Mit ```global <name>``` legt man fest, dass die Variable aus dem globalen Namespace sowohl im aktuellen Scope ist und auch das Zuweisungen nicht im aktuellen Namespace stattfinden, sondern im globalen. Analog kann man mit ```nonlocal``` auf Variablen einer umschließenden Funktion von einer inneren Funktion zugreifen. "
   ]
  },
  {
   "cell_type": "code",
   "execution_count": 26,
   "metadata": {},
   "outputs": [
    {
     "name": "stdout",
     "output_type": "stream",
     "text": [
      "Outer\n",
      "Inner\n"
     ]
    }
   ],
   "source": [
    "outer = \"Outer\"\n",
    "\n",
    "def func():\n",
    "    global outer\n",
    "    outer = \"Inner\"\n",
    "    \n",
    "print(outer)\n",
    "func()\n",
    "print(outer)"
   ]
  },
  {
   "cell_type": "markdown",
   "metadata": {},
   "source": [
    "## Namespaces von Modulen\n",
    "\n",
    "Jetzt, da wir Namespaces kennen, ist auch klar, warum der Aufruf unserer Quadratwurzelfunktion ```sqrt.my_sqrt``` sein muss und ```my_sqrt``` nicht ausreichend ist: Weil jedes Modul seinen eigenen globalen Namespace hat. Die Funktion ```my_sqrt``` ist nur im Namespace des ```sqrt``` Moduls bekannt. Durch ```sqrt.my_sqrt``` gibt man an, dass man auf ```my_sqrt``` im Namespace des Moduls ```sqrt``` zugreifen möchte. \n",
    "\n",
    "# Initialisierung von Modulen\n",
    "\n",
    "Module werden durch die ```import``` Anweisung geladen. Dieses Laden geschieht dadurch, dass die komplette Datei, in der ein Modul definiert ist, vom Interpreter ausgeführt wird. Ein Modul wird nur beim ersten Mal, wenn es importiert wird, initialisiert. Das in der Datei ```sqrt2.py``` definierte Modul verdeutlich dies."
   ]
  },
  {
   "cell_type": "code",
   "execution_count": 5,
   "metadata": {},
   "outputs": [
    {
     "name": "stdout",
     "output_type": "stream",
     "text": [
      "print(\"intializing module sqrt2...\")\r\n",
      "def my_sqrt(x):\r\n",
      "    \"\"\"Returns the square root of x\"\"\"\r\n",
      "    guess = 1\r\n",
      "    while(abs(guess*guess-x)>0.0001):\r\n",
      "        guess = (1/2)*(guess+x/guess)\r\n",
      "    return guess\r\n",
      "\r\n",
      "answer = 42\r\n",
      "\r\n",
      "print(\"initialization finished!\")"
     ]
    }
   ],
   "source": [
    "%cat ../examples/sqrt2.py"
   ]
  },
  {
   "cell_type": "code",
   "execution_count": 31,
   "metadata": {},
   "outputs": [
    {
     "name": "stdout",
     "output_type": "stream",
     "text": [
      "43\n",
      "43\n"
     ]
    }
   ],
   "source": [
    "import sqrt2        # executes sqrt2.py and creates module namespace\n",
    "print(sqrt2.answer)\n",
    "sqrt2.answer=43\n",
    "import sqrt2        # nothing happens, module already imported\n",
    "print(sqrt2.answer)"
   ]
  },
  {
   "cell_type": "markdown",
   "metadata": {},
   "source": [
    "# Packages\n",
    "\n",
    "Durch das Einbinden eines Moduls hat man die Möglichkeit, den Quelltext einer einzelnen anderen Datei einzubinden und auszuführen. Doch häufig gibt es Gründe, Funktionalitäten in verschiedene Dateien aufzuteilen und ggf. sogar innerhalb von unterschiedlichen Ordnern zu organisieren. Hierzu gibt es in Python *Packages*. Um ein Package zu definieren, muss man einfach Verschiedene Module in den selben Ordner packen. Zusätzlich muss der Ordner noch eine Datei ```__init__.py``` beinhalten, die einfach leer sein kann. Durch die ```__init__.py``` wird aus einem normalen Ordner aus Sicht von Python ein Package. Packages können auch Subpackages enthalten. Dies sind Unterordner, die ebenfalls Module und eine ```__init__.py``` beinhalten. \n",
    "\n",
    "Der Beispielquelltext beinhaltet ein Modul Namens ```sample_module``` mit der folgenden Struktur. \n",
    "```\n",
    "sample_package/    # Top-level package\n",
    "|---  __init__.py  # Initializes the package\n",
    "|---  sqrt.py      # module on top-level of the package\n",
    "|---  util/        # subpackage\n",
    "   |--- io.py      # module in subpackage\n",
    "```\n",
    "Man kann die Module dieses Packages jetzt mit ```import``` Laden und benutzen. "
   ]
  },
  {
   "cell_type": "code",
   "execution_count": 3,
   "metadata": {},
   "outputs": [
    {
     "name": "stdout",
     "output_type": "stream",
     "text": [
      "6.480740727643494\n",
      "000: Hello\n",
      "001: from\n",
      "002: the\n",
      "003: subpackage\n"
     ]
    }
   ],
   "source": [
    "import sample_package.sqrt\n",
    "import sample_package.util.io\n",
    "\n",
    "print(sample_package.sqrt.my_sqrt(42))\n",
    "sample_package.util.io.print_with_linenumbers(\"Hello\", \"from\",\"the\",\"subpackage\")"
   ]
  },
  {
   "cell_type": "markdown",
   "metadata": {},
   "source": [
    "Zugriffe auf Module, insbesondere solche, die in Subpackages definiert sind, können mit ```import``` sehr lang werden. Daher kann man Importierte Module mit Hilfe des Schlüsselworts ```as``` mit Aliasen versehen, die stattdessen verwendet werden können. "
   ]
  },
  {
   "cell_type": "code",
   "execution_count": 8,
   "metadata": {},
   "outputs": [
    {
     "name": "stdout",
     "output_type": "stream",
     "text": [
      "6.480740727643494\n",
      "000: Hello\n",
      "001: from\n",
      "002: the\n",
      "003: subpackage\n"
     ]
    }
   ],
   "source": [
    "import sample_package.sqrt as sq\n",
    "import sample_package.util.io as util\n",
    "\n",
    "print(sq.my_sqrt(42))\n",
    "util.print_with_linenumbers(\"Hello\", \"from\",\"the\",\"subpackage\")"
   ]
  },
  {
   "cell_type": "markdown",
   "metadata": {},
   "source": [
    "# from ... import\n",
    "\n",
    "Eventuell will man gar kein ganzen Modul importieren, sondern benötigt nur Teile eines Moduls. Dies wird durch das Schlüsselwort ```from``` ermöglicht. Man gibt einfach an, welche Inhalte aus einem Modul oder Package importiert werden sollen. Dies kann sowohl eine Liste von Modulen aus einem Package sein, als auch eine Liste von Variablen/Funktionen aus einem Modul. Der Vorteil hiervon ist, dass man keine Präfixe mehr benötigt, sondern direkt den Namen des Importierten verwenden kann. "
   ]
  },
  {
   "cell_type": "code",
   "execution_count": 12,
   "metadata": {},
   "outputs": [
    {
     "name": "stdout",
     "output_type": "stream",
     "text": [
      "6.480740727643494\n",
      "000: Hello\n",
      "001: from\n",
      "002: the\n",
      "003: subpackage\n"
     ]
    }
   ],
   "source": [
    "from sample_package import sqrt\n",
    "from sample_package.util.io import print_with_linenumbers\n",
    "\n",
    "print(sqrt.my_sqrt(42))\n",
    "print_with_linenumbers(\"Hello\", \"from\",\"the\",\"subpackage\")"
   ]
  },
  {
   "cell_type": "code",
   "execution_count": 13,
   "metadata": {},
   "outputs": [
    {
     "ename": "SyntaxError",
     "evalue": "invalid syntax (<ipython-input-13-c46b5fdb067f>, line 1)",
     "output_type": "error",
     "traceback": [
      "\u001b[0;36m  File \u001b[0;32m\"<ipython-input-13-c46b5fdb067f>\"\u001b[0;36m, line \u001b[0;32m1\u001b[0m\n\u001b[0;31m    Importieren ganzer Packages\u001b[0m\n\u001b[0m                     ^\u001b[0m\n\u001b[0;31mSyntaxError\u001b[0m\u001b[0;31m:\u001b[0m invalid syntax\n"
     ]
    }
   ],
   "source": []
  },
  {
   "cell_type": "code",
   "execution_count": null,
   "metadata": {},
   "outputs": [],
   "source": []
  },
  {
   "cell_type": "markdown",
   "metadata": {},
   "source": [
    "# Importieren ganzer Packages\n",
    "\n",
    "Will man alle Module eines Packages laden, kann dies bedeuten, dass man sehr viele ```import``` Anweisungen benötigt. Wünschenswert wäre es, mit Hilfe von ```from package import *``` alle Module eines Packages laden zu können, ggf. oder auch die der Submodule. Dies ist in Python zwar möglich, muss aber vom Package unterstützt werden. Hier kommt die ```__init__.py``` Datei ins Spiel. In dieser Datei wird eingetragen, welche Module geladen werden sollen, wenn ```from package import *``` aufgerufen wird. Hierzu definiert man die Module als Liste in einer Variable ```__all__```. "
   ]
  },
  {
   "cell_type": "code",
   "execution_count": 7,
   "metadata": {},
   "outputs": [
    {
     "name": "stdout",
     "output_type": "stream",
     "text": [
      "__all__ = [\"sqrt\"]"
     ]
    }
   ],
   "source": [
    "%cat ../examples/sample_package/__init__.py"
   ]
  },
  {
   "cell_type": "code",
   "execution_count": 2,
   "metadata": {},
   "outputs": [
    {
     "name": "stdout",
     "output_type": "stream",
     "text": [
      "6.480740727643494\n",
      "000: Hello\n",
      "001: from\n",
      "002: the\n",
      "003: subpackage\n"
     ]
    }
   ],
   "source": [
    "from sample_package import *\n",
    "from sample_package.util import *\n",
    "\n",
    "print(sqrt.my_sqrt(42))\n",
    "io.print_with_linenumbers(\"Hello\", \"from\",\"the\",\"subpackage\")"
   ]
  },
  {
   "cell_type": "markdown",
   "metadata": {},
   "source": [
    "# Lokale Imports\n",
    "\n",
    "Man kann in Python auch Module im lokalen Namespace einer Funktion laden. Das Modul ist dann auch nur innerhalb dieser Funktion verfügbar."
   ]
  },
  {
   "cell_type": "code",
   "execution_count": 3,
   "metadata": {},
   "outputs": [
    {
     "name": "stdout",
     "output_type": "stream",
     "text": [
      "the root of the answer is 6.480740727643494\n"
     ]
    }
   ],
   "source": [
    "def func():\n",
    "    import sqrt\n",
    "    print(f\"the root of the answer is {sqrt.my_sqrt(42)}\")\n",
    "\n",
    "func()"
   ]
  },
  {
   "cell_type": "markdown",
   "metadata": {},
   "source": [
    "# Der Modulpfad\n",
    "\n",
    "Kommen wir zum Abschluss dieses Kapitels nochmal zu der nicht erklärten Zelle vom Anfang zurück:"
   ]
  },
  {
   "cell_type": "code",
   "execution_count": 3,
   "metadata": {},
   "outputs": [],
   "source": [
    "import os\n",
    "import sys\n",
    "sys.path.append(os.getcwd()+\"/../examples\")"
   ]
  },
  {
   "cell_type": "markdown",
   "metadata": {},
   "source": [
    "Die Bedeutung der ersten beiden Zeilen ist jetzt klar: Die Module ```os``` und ```sys``` werden geladen. Beides sind Module aus der *Python Standard Library*, einem Paket von Modulen, welches \"ab Werk\" bei Python verfügbar ist, also nicht extra installiert werden muss. Die dritte Zeile ist etwas schwieriger zu verstehen. Gucken wir uns einmal die einzelnen Teile genauer an. "
   ]
  },
  {
   "cell_type": "code",
   "execution_count": 5,
   "metadata": {},
   "outputs": [
    {
     "data": {
      "text/plain": [
       "'/home/sherbol/Python-Programmierkurs'"
      ]
     },
     "execution_count": 5,
     "metadata": {},
     "output_type": "execute_result"
    }
   ],
   "source": [
    "os.getcwd() # fetches the current working directory, i.e., the location of this notebook"
   ]
  },
  {
   "cell_type": "code",
   "execution_count": 4,
   "metadata": {},
   "outputs": [
    {
     "data": {
      "text/plain": [
       "['/usr/lib/python36.zip',\n",
       " '/usr/lib/python3.6',\n",
       " '/usr/lib/python3.6/lib-dynload',\n",
       " '',\n",
       " '/home/sherbol/.local/lib/python3.6/site-packages',\n",
       " '/usr/local/lib/python3.6/dist-packages',\n",
       " '/usr/lib/python3/dist-packages',\n",
       " '/usr/local/lib/python3.6/dist-packages/IPython/extensions',\n",
       " '/home/sherbol/.ipython',\n",
       " '/home/sherbol/Python-Programmierkurs/script/../examples',\n",
       " '/home/sherbol/Python-Programmierkurs/script/../examples']"
      ]
     },
     "execution_count": 4,
     "metadata": {},
     "output_type": "execute_result"
    }
   ],
   "source": [
    "sys.path    # a list of paths in the system"
   ]
  },
  {
   "cell_type": "markdown",
   "metadata": {},
   "source": [
    "Wir fügen also der Liste ```sys.path``` den Ordner mit dem Beispielquelltext hinzu. Schaut man in der Pythondokumentation die Bedeutung von ```sys.path``` nach, [findet man heraus](https://docs.python.org/3/library/sys.html#sys.path), dass dies genau die Orte sind, wo nach Modulen gesucht wird. Jetzt ist auch klar, warum wir den Ordner mit dem Beispielquelltext hinzufügen mussten: Weil wir die Module sonst nicht hätten laden können. Will man also Module benutzen, die nicht in einem der Standardpfade sind, muss man diese dem Modulpfad hinzufügen. Wir haben das hier über den Quelltext gemacht. Man kann den Modulpfad auch über die Umgebungsvariable [PYTHONPATH](https://docs.python.org/3/using/cmdline.html#envvar-PYTHONPATH) anpassen. "
   ]
  }
 ],
 "metadata": {
  "kernelspec": {
   "display_name": "Python 3",
   "language": "python",
   "name": "python3"
  },
  "language_info": {
   "codemirror_mode": {
    "name": "ipython",
    "version": 3
   },
   "file_extension": ".py",
   "mimetype": "text/x-python",
   "name": "python",
   "nbconvert_exporter": "python",
   "pygments_lexer": "ipython3",
   "version": "3.6.7"
  }
 },
 "nbformat": 4,
 "nbformat_minor": 2
}
