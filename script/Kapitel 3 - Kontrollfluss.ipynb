{
 "cells": [
  {
   "cell_type": "markdown",
   "metadata": {},
   "source": [
    "# Inhalt\n",
    "\n",
    "Das dritte Kapitel geht auf die Steuerung des Kontrollflusses von Programmen durch Bedingungen und Schleifen ein und deckt die folgenden Konzepte ab:\n",
    "- if, elif, else\n",
    "- Blöcke\n",
    "- while Schleifen\n",
    "- for Schleifen\n",
    "\n",
    "\n",
    "# Bedingte Ausführung\n",
    "\n",
    "Ein Kernkonzept vieler Programmiersprachen ist die bedingte Ausführung von Teilen des Quelltextes. Hierdurch lassen sich Entscheidungen treffen und Abläufe definieren. In Python gibt es hierfür, wie in vielen anderen Sprachen auch, das Schlüsselwort ```if```."
   ]
  },
  {
   "cell_type": "code",
   "execution_count": 1,
   "metadata": {},
   "outputs": [
    {
     "name": "stdout",
     "output_type": "stream",
     "text": [
      "do something\n",
      "executed because the condition is true\n"
     ]
    }
   ],
   "source": [
    "print(\"do something\")\n",
    "if True:\n",
    "    print(\"executed because the condition is true\")\n",
    "if False:\n",
    "    print(\"not executed because the condition is false\")"
   ]
  },
  {
   "cell_type": "markdown",
   "metadata": {},
   "source": [
    "Natürlich macht ein Beispiel wie oben, wo fest \"True\" oder \"False\" im Quelltext steht, in der Regel keinen Sinn. Stattdessen nutzt man Bedingungen. "
   ]
  },
  {
   "cell_type": "code",
   "execution_count": 2,
   "metadata": {},
   "outputs": [
    {
     "name": "stdout",
     "output_type": "stream",
     "text": [
      "Please type an integer: 42\n",
      "The number is even.\n"
     ]
    }
   ],
   "source": [
    "value = int(input(\"Please type an integer: \"))\n",
    "\n",
    "if value%2==0:\n",
    "    print(\"The number is even.\")"
   ]
  },
  {
   "cell_type": "markdown",
   "metadata": {},
   "source": [
    "Häufig will man das eine Aktion ausgeführt, falls eine Bedingung erfüllt ist, und eine andere, falls die Bedingung nicht erfüllt ist. Hierzu gibt es das Schlüsselwort ```else```. Der Block nach dem ```else``` wird nur dann ausgeführt, falls die Bedingung nicht zu trifft. Man hat also ein \"entweder/oder\" Konstrukt."
   ]
  },
  {
   "cell_type": "code",
   "execution_count": 3,
   "metadata": {},
   "outputs": [
    {
     "name": "stdout",
     "output_type": "stream",
     "text": [
      "Please type an integer: 13\n",
      "The number is odd.\n"
     ]
    }
   ],
   "source": [
    "value = int(input(\"Please type an integer: \"))\n",
    "\n",
    "if value%2==0:\n",
    "    print(\"The number is even.\")\n",
    "else:\n",
    "    print(\"The number is odd.\")"
   ]
  },
  {
   "cell_type": "markdown",
   "metadata": {},
   "source": [
    "Will man zwischen mehr als zwei Fällen unterscheiden, gibt es in anderen Programmiersprachen zum Beispiel ```switch``` Anweisungen oder das hintereinanderschalten von mehreren if/else blöcken (```else if```). In Python gibt es einen ähnlichen Ansatz durch das Schlüsselwort ``elif``. Hierdurch lassen sich mehrere Bedingungen kombinieren. Man beginnt mit einem ```if```, dann folgen beliebig viele ```elif```s, zuletzt kann man auch noch ein ```else``` benutzen.  "
   ]
  },
  {
   "cell_type": "code",
   "execution_count": 4,
   "metadata": {},
   "outputs": [
    {
     "name": "stdout",
     "output_type": "stream",
     "text": [
      "Please type an integer: 42\n",
      "The number is greater than 10 and less than 100.\n"
     ]
    }
   ],
   "source": [
    "value = int(input(\"Please type an integer: \"))\n",
    "\n",
    "if value<0:\n",
    "    print(\"The number is negative.\")\n",
    "elif value<10:\n",
    "    print(\"The number is postive and less than 10.\")\n",
    "elif value<100:\n",
    "    print(\"The number is greater than 10 and less than 100.\")\n",
    "else:\n",
    "    print(\"The number is greater than or equal to 100.\")"
   ]
  },
  {
   "cell_type": "markdown",
   "metadata": {},
   "source": [
    "# Blöcke\n",
    "\n",
    "Als Nebenprodukt der ```if``` Anweisungen wurden oben bereits Blöcke verwendet. Blöcke sind Quelltextteile, die Sequentiel abgearbeitet werden. In Java werden Blöcke zum Beispiel durch Klammerung definiert (```{}```). In Python wird auf derartige Klammern verzichtet. Stattdessen zählt die die Einrückung. Zeilen in der gleichen Einrückungstiefe gehören zum gleichen Block. Üblicherweise verwendet man [vier Leerzeichen pro Block als Einrückungstiefe](https://www.python.org/dev/peps/pep-0008/#id17), eine beliebige Anzahl von Leerzeichen oder auch Tabulatoren ist jedoch möglich. Wichtige zu beachtende Eigenschaften bezüglich der Einrückung in Python sind:\n",
    "- Es müssen entweder Leerzeichen oder Tabulatoren für die Einrückung verwendet werden. Beides Gleichzeitig ist nicht erlaubt.\n",
    "- Innerhalb eines Blockes muss alles die gleiche Einrückung haben.\n",
    "- Auch wenn vieles erlaubt ist, sollte man sich strikt an die \"vier Leerzeichen\" Vorgabe halten, da Quelltext sonst schnell unleserlich wird.\n",
    "\n",
    "Man kann Blöcke ineinerander Verschachteln, wenn man zum Beispiel innerhalb eines Blocks eine weitere Bedingung überprüfen möchte."
   ]
  },
  {
   "cell_type": "code",
   "execution_count": 5,
   "metadata": {},
   "outputs": [
    {
     "name": "stdout",
     "output_type": "stream",
     "text": [
      "Please type an integer: -42\n",
      "The number is even.\n",
      "The number is also negative.\n"
     ]
    }
   ],
   "source": [
    "value = int(input(\"Please type an integer: \"))\n",
    "if value%2==0:\n",
    "    print(\"The number is even.\")\n",
    "    if value<0:\n",
    "        print(\"The number is also negative.\")"
   ]
  },
  {
   "cell_type": "markdown",
   "metadata": {},
   "source": [
    "Komplett leere Blöcke, also Blöcke ohne jeglichen Quelltext sind in Python nicht möglich. Dies folgt direkt aus der Tatsache, das Blöcke über die Einrückung des Quelltextes definiert werden. Benötigt man dennoch einen leeren Block, zum Beispiel aus syntaktischen Gründen oder weil man einen nicht behandelten Sonderfall kommentieren möchte, kann man dies mit Hilfe des Schlüsselworts ```pass``` umsetzen. "
   ]
  },
  {
   "cell_type": "code",
   "execution_count": 6,
   "metadata": {},
   "outputs": [
    {
     "name": "stdout",
     "output_type": "stream",
     "text": [
      "Please type an integer: 42\n",
      "The number is even.\n"
     ]
    }
   ],
   "source": [
    "value = int(input(\"Please type an integer: \"))\n",
    "if value%2==0:\n",
    "    print(\"The number is even.\")\n",
    "    if value<0:\n",
    "        print(\"The number is also negative.\")\n",
    "    else:\n",
    "        pass # implement handling of positive even numbers later"
   ]
  },
  {
   "cell_type": "markdown",
   "metadata": {},
   "source": [
    "# Schleifen\n",
    "\n",
    "Schleifen sind das Mittel der Wahl, um die gleichen Anweisungen mehrfach auszuführen. In der Regel ändern sich die Daten mit jeder Wiederholung der Ausführung einer Schleife. In Python gibt es zwei Arten von Schleifen: ```while``` Schleifen und ```for``` Schleifen. \n",
    "\n",
    "## While Schleifen\n",
    "\n",
    "Das Konzept von ```while``` ist, dass ein Block solange wiederholt wird, bis eine festgelegte Bedingung erfüllt wird. Die Syntax ist daher grundsätzlich ähnlich zum ```if```. "
   ]
  },
  {
   "cell_type": "code",
   "execution_count": 7,
   "metadata": {},
   "outputs": [
    {
     "name": "stdout",
     "output_type": "stream",
     "text": [
      "I can count to ten!\n",
      "1\n",
      "2\n",
      "3\n",
      "4\n",
      "5\n",
      "6\n",
      "7\n",
      "8\n",
      "9\n",
      "10\n"
     ]
    }
   ],
   "source": [
    "print(\"I can count to ten!\")\n",
    "count = 0\n",
    "while count<10:\n",
    "    count += 1 # same as count=count+1\n",
    "    print(count)"
   ]
  },
  {
   "cell_type": "markdown",
   "metadata": {},
   "source": [
    "Mit den bisher eingeführten Konzepten ist Python bereits Turingvollständig, man kann also theoritisch jeden Algorithmus programmieren. Das Beispiel unten zeigt, wie man mit Hilfe einer ```while``` Schleife und dem Heron-Verfahren die Quadratwurzel einer beliebigen ganzen Zahl $a$ schätzen kann. Hierbei schätzt man eine Folge von Zahlen, so dass\n",
    "\\begin{equation*}\n",
    "x_{n+1} = \\frac{1}{2} \\cdot \\left(x_n + \\frac{a}{x_n} \\right).\n",
    "\\end{equation*}\n",
    "Die Folge konvergiert für eine beliebe positive Zahl als Startwert $x_1$ gegen $\\sqrt{a}$. Die Abbruchbedingung der Schleife ist die Abweichung des Quadrats von $x_n$ von $a$. "
   ]
  },
  {
   "cell_type": "code",
   "execution_count": 8,
   "metadata": {},
   "outputs": [
    {
     "name": "stdout",
     "output_type": "stream",
     "text": [
      "Please type a positive number: 4.2\n",
      "2.6\n",
      "2.1076923076923078\n",
      "2.0501965188096576\n",
      "2.049390311768306\n"
     ]
    }
   ],
   "source": [
    "value = float(input(\"Please type a positive number: \")) # input is a from Herons method\n",
    "guess = 1                                               # guess is the x_n from Herons method\n",
    "while(abs(guess*guess-value)>0.0001):                   # abs() returns the absolute value \n",
    "    guess = (1/2)*(guess+value/guess)\n",
    "    print(guess)"
   ]
  },
  {
   "cell_type": "markdown",
   "metadata": {},
   "source": [
    "## For Schleifen\n",
    "\n",
    "Der zweite Typ von Schleifen in Python sind ```for``` Schleifen. Mit ```for``` Schleifen iteriert man über Sequenzen von Daten, zum Beispiel Listen oder Mengen. Der Vorteil von ```for``` Schleifen ist, dass man sehr einfach Aktionen für alle Elemente einer Sequenz durchführen kann, zum Beispiel alle Elemente einer Liste ausgeben. "
   ]
  },
  {
   "cell_type": "code",
   "execution_count": 9,
   "metadata": {},
   "outputs": [
    {
     "name": "stdout",
     "output_type": "stream",
     "text": [
      "1\n",
      "2\n",
      "3\n",
      "4\n",
      "5\n",
      "6\n"
     ]
    }
   ],
   "source": [
    "for item in [1, 2, 3, 4, 5, 6]:\n",
    "    print(item)"
   ]
  },
  {
   "cell_type": "markdown",
   "metadata": {},
   "source": [
    "Da Zeichenketten auch Sequenzen sind, kann man auch über die einzelnen Buchstaben iterieren. Auf diese Art kann man zum Bespiel nur die Großbuchstaben ausgeben. "
   ]
  },
  {
   "cell_type": "code",
   "execution_count": 10,
   "metadata": {},
   "outputs": [
    {
     "name": "stdout",
     "output_type": "stream",
     "text": [
      "H\n",
      "W\n"
     ]
    }
   ],
   "source": [
    "for char in \"Hello World!\":\n",
    "    if char.isupper():\n",
    "        print(char)         # only print uppercase letters"
   ]
  },
  {
   "cell_type": "markdown",
   "metadata": {},
   "source": [
    "Die ```for``` Schleifen in Python sind *for-each* Schleifen, da für jedes Element einer Sequenz etwas durchgeführt wird. Dies ist anders als in *C-Style* ```for``` Schleifen, die über ein Inkrement und ein Abbruchkriterium definiert werden. In C-Style ```for``` Schleifen iteriert man daher häufig über den index einer Sequenz. Will man zum Beispiel über zwei Listen gleichzeitig iterieren, muss man auch in Python auf ähnliche Art durch Sequenzen iterieren können. An dieser Stelle hilft die ```range()``` Funktion. Mit Hilfe von ```range``` lassen sich logische Sequenzen über Zahlen definieren, basierend auf einem Startwert, einem Stopwert, und einer Schrittgröße. Da es sich bei ```range``` um logische Sequenzen handelt, werden die einzelnen Werte nicht generiert. Das ist insbesondere bei einer besonders großen Anzahl von Werten innerhalb einer ```range``` hilfreich, da hierdurch viel Laufzeit und Arbeitsspeicher gespart wird. Will man die Werte eine ```range``` physisch im Arbeisspeicher generieren, muss man diese in eine Liste umwandeln. "
   ]
  },
  {
   "cell_type": "code",
   "execution_count": 11,
   "metadata": {},
   "outputs": [
    {
     "name": "stdout",
     "output_type": "stream",
     "text": [
      "range(0, 10)\n",
      "[0, 1, 2, 3, 4, 5, 6, 7, 8, 9]\n",
      "[1, 2, 3, 4, 5, 6, 7, 8, 9]\n",
      "[1, 3, 5, 7, 9]\n",
      "[9, 8, 7, 6, 5, 4, 3, 2, 1, 0]\n",
      "[]\n"
     ]
    }
   ],
   "source": [
    "print(range(10))            # logical range of values between 0 (inclusive) and 10 (exclusive), values not created\n",
    "print(list(range(10)))      # creates a list from the range, values are created\n",
    "print(list(range(1,10)))    # range between 1 (inclusive) and 10 (exclusive)\n",
    "print(list(range(1,10,2)))  # range between 1 (inclusive) and 10 (exclusive) and a step size of 2\n",
    "print(list(range(9,-1,-1))) # negative steps also possible\n",
    "print(list(range(0,10,-1))) # be careful that not to mix up start and stop, this could lead to empty ranges"
   ]
  },
  {
   "cell_type": "markdown",
   "metadata": {},
   "source": [
    "Durch ```range``` ist es sehr einfach mit Python eine C-Style ```for``` Schleife umzusetzen."
   ]
  },
  {
   "cell_type": "code",
   "execution_count": 12,
   "metadata": {},
   "outputs": [
    {
     "name": "stdout",
     "output_type": "stream",
     "text": [
      "2\n",
      "5\n",
      "13\n",
      "35\n",
      "97\n"
     ]
    }
   ],
   "source": [
    "list_one = [1, 2, 4, 8, 16]\n",
    "list_two = [1, 3, 9, 27, 81]\n",
    "for i in range(len(list_one)):\n",
    "    print(list_one[i]+list_two[i])"
   ]
  },
  {
   "cell_type": "markdown",
   "metadata": {},
   "source": [
    "## break and continue\n",
    "\n",
    "Es gibt Situationen, in denen man einen Schleifendurchlauf vorzeitig beenden möchte. Hierzu dienen die Schlüsselwörter ```break``` und ```continue```. Bei einem ```break``` verlässt man den Block der Schleife komplett. Ein typischer Anwendungsfall von ```break``` ist das Suchen nach dem ersten Auftauchen eines bestimmten Ereignisses. "
   ]
  },
  {
   "cell_type": "code",
   "execution_count": 13,
   "metadata": {},
   "outputs": [
    {
     "name": "stdout",
     "output_type": "stream",
     "text": [
      "found first upper case character: J\n"
     ]
    }
   ],
   "source": [
    "for char in \"aldkfjsdlfkasldkjsadJlaskdKLjasd\":\n",
    "    if char.isupper():\n",
    "        print(f\"found first upper case character: {char}\")\n",
    "        break # stop loop, we only want the first occurance"
   ]
  },
  {
   "cell_type": "markdown",
   "metadata": {},
   "source": [
    "Bei einem ```continue``` wird der aktuelle Schleifendurchlauf vorzeitig beendet und der nächste Durchlauf beginnt. ```continue``` wird typischerweise aus Effizienzgründen eingesetzt um den Rest vom Schleifendurchlauf zu überspringen. Ein weiterer Grund für den Einsatz von ```continue``` ist die Reduktion der Blocktiefe. Im folgenden Beispiel wird durch das ```continue``` kein ```else``` benötigt, wodurch die Blocktiefe der zweiten ```print``` Anweisung reduziert ist."
   ]
  },
  {
   "cell_type": "code",
   "execution_count": 14,
   "metadata": {},
   "outputs": [
    {
     "name": "stdout",
     "output_type": "stream",
     "text": [
      "odd number: 1\n",
      "even number: 2\n",
      "odd number: 3\n",
      "even number: 4\n",
      "odd number: 5\n",
      "even number: 6\n",
      "odd number: 7\n",
      "even number: 8\n",
      "odd number: 9\n"
     ]
    }
   ],
   "source": [
    "for value in range(1,10):\n",
    "    if value%2==0:\n",
    "        print(f\"even number: {value}\")\n",
    "        continue\n",
    "    print(f\"odd number: {value}\")"
   ]
  },
  {
   "cell_type": "markdown",
   "metadata": {},
   "source": [
    "Bitte beachten sie, dass es sich bei ```break``` und ```continue``` um *unconditional jumps* handelt, also Sprünge innerhalb des Kontrollflusses, die nicht direkt an eine Bedindung geknüpft sind. Derartige Sprünge sollten nach Möglichkeit vermieden werden. Man sollte zum Beispiel ```continue``` nur zur Reduzierung der Blocktiefe benutzen, wenn besonders viele Anweisungen betroffen sind und nicht für einzelne Anweisungen wie im obigen Beispiel. "
   ]
  },
  {
   "cell_type": "markdown",
   "metadata": {},
   "source": [
    "## enumerate\n",
    "\n",
    "```enumerate``` ist eine Hilfsfuntion, mit der man über Elemente einer Sequenz mit einer ```for``` Schleife iterieren kann, so dass man auch den Index des aktuellen Elements kennt. Der Rückgabewert von ```enumerate``` ist ein Iterator über Tupel, wobei die Tupel aus Paaren vom Index und Wert von Elementen einer Sequenz bestehen. "
   ]
  },
  {
   "cell_type": "code",
   "execution_count": 15,
   "metadata": {},
   "outputs": [
    {
     "name": "stdout",
     "output_type": "stream",
     "text": [
      "(0, 1)\n",
      "(1, 2)\n",
      "(2, 3)\n",
      "(3, 4)\n"
     ]
    }
   ],
   "source": [
    "my_list = [1,2,3,4]\n",
    "for enumerated_item in enumerate(my_list):\n",
    "    print(enumerated_item)"
   ]
  },
  {
   "cell_type": "markdown",
   "metadata": {},
   "source": [
    "Die Tupel die bei ```enumerate``` entstehen werde üblicherweise direkt mit Hilfe von unboxing zwei Variablen zugewiesen, dem Index und dem Element der Sequenz. "
   ]
  },
  {
   "cell_type": "code",
   "execution_count": 16,
   "metadata": {},
   "outputs": [
    {
     "name": "stdout",
     "output_type": "stream",
     "text": [
      "item at index 0: 1)\n",
      "item at index 1: 2)\n",
      "item at index 2: 3)\n",
      "item at index 3: 4)\n"
     ]
    }
   ],
   "source": [
    "my_list = [1,2,3,4]\n",
    "for i,item in enumerate(my_list):\n",
    "    print(f\"item at index {i}: {item})\")"
   ]
  }
 ],
 "metadata": {
  "kernelspec": {
   "display_name": "Python 3",
   "language": "python",
   "name": "python3"
  },
  "language_info": {
   "codemirror_mode": {
    "name": "ipython",
    "version": 3
   },
   "file_extension": ".py",
   "mimetype": "text/x-python",
   "name": "python",
   "nbconvert_exporter": "python",
   "pygments_lexer": "ipython3",
   "version": "3.6.7"
  }
 },
 "nbformat": 4,
 "nbformat_minor": 2
}
