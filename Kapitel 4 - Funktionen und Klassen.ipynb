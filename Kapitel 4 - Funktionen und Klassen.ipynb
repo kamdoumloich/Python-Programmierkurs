{
 "cells": [
  {
   "cell_type": "markdown",
   "metadata": {},
   "source": [
    "# Inhalt\n",
    "\n",
    "Das vierte Kapitel geht auf die Strukturierung von Programmen durch Funktionen und Klassen ein und deckt die folgenden Konzepte ab:\n",
    "- Funktionen\n",
    "- Arten von Funktionsparametern\n",
    "- Lambda Funktionen\n",
    "- Klassen\n",
    "- Vererbung\n",
    "- Magic Methods\n",
    "- Docstrings\n",
    "\n",
    "\n",
    "# Funktionen\n",
    "\n",
    "Funktionen sind ein integraler Bestandteil der prozeduralen Programmierung. Funktionen bekommen Eingabeparameter, führen Anweisungen aus und geben eventuell einen Wert zurück. Hierdurch kann man Quelltextstrukturieren und Dopplungen vermeiden. Funktionen sind daher auch eine wichtige Grundlage um Quelltext wiederverwendbar zu machen. In Python werden Funktionen mit Hilfe des Schlüsselworts ```def``` gefolgt vom Funktionsnamen und der Liste der Parameter in ```()``` definiert. Hier ist ein Beispiel für eine Funktion zum Berechnung der Quadratwurzel. "
   ]
  },
  {
   "cell_type": "code",
   "execution_count": 4,
   "metadata": {},
   "outputs": [],
   "source": [
    "def my_sqrt(x):\n",
    "    guess = 1\n",
    "    while(abs(guess*guess-x)>0.0001):\n",
    "        guess = (1/2)*(guess+x/guess)\n",
    "    return guess"
   ]
  },
  {
   "cell_type": "markdown",
   "metadata": {},
   "source": [
    "Sobald eine Funktion definiert ist, kann sie jederzeit benutzt werden. "
   ]
  },
  {
   "cell_type": "code",
   "execution_count": 2,
   "metadata": {},
   "outputs": [
    {
     "data": {
      "text/plain": [
       "6.480740727643494"
      ]
     },
     "execution_count": 2,
     "metadata": {},
     "output_type": "execute_result"
    }
   ],
   "source": [
    "my_sqrt(42)"
   ]
  },
  {
   "cell_type": "markdown",
   "metadata": {},
   "source": [
    "Gibt man beim Funktionsaufruf die falsche Anzahl von Parametern an, gibt es eine Fehlermeldung. "
   ]
  },
  {
   "cell_type": "code",
   "execution_count": 6,
   "metadata": {},
   "outputs": [
    {
     "ename": "TypeError",
     "evalue": "my_sqrt() missing 1 required positional argument: 'x'",
     "output_type": "error",
     "traceback": [
      "\u001b[0;31m---------------------------------------------------------------------------\u001b[0m",
      "\u001b[0;31mTypeError\u001b[0m                                 Traceback (most recent call last)",
      "\u001b[0;32m<ipython-input-6-210f7482fbe4>\u001b[0m in \u001b[0;36m<module>\u001b[0;34m()\u001b[0m\n\u001b[0;32m----> 1\u001b[0;31m \u001b[0mmy_sqrt\u001b[0m\u001b[0;34m(\u001b[0m\u001b[0;34m)\u001b[0m \u001b[0;31m# to few parameters ---> error\u001b[0m\u001b[0;34m\u001b[0m\u001b[0m\n\u001b[0m",
      "\u001b[0;31mTypeError\u001b[0m: my_sqrt() missing 1 required positional argument: 'x'"
     ]
    }
   ],
   "source": [
    "my_sqrt() # to few parameters --> error"
   ]
  },
  {
   "cell_type": "code",
   "execution_count": 7,
   "metadata": {},
   "outputs": [
    {
     "ename": "TypeError",
     "evalue": "my_sqrt() takes 1 positional argument but 2 were given",
     "output_type": "error",
     "traceback": [
      "\u001b[0;31m---------------------------------------------------------------------------\u001b[0m",
      "\u001b[0;31mTypeError\u001b[0m                                 Traceback (most recent call last)",
      "\u001b[0;32m<ipython-input-7-290645654763>\u001b[0m in \u001b[0;36m<module>\u001b[0;34m()\u001b[0m\n\u001b[0;32m----> 1\u001b[0;31m \u001b[0mmy_sqrt\u001b[0m\u001b[0;34m(\u001b[0m\u001b[0;36m42\u001b[0m\u001b[0;34m,\u001b[0m \u001b[0;36m42\u001b[0m\u001b[0;34m)\u001b[0m \u001b[0;31m# too many parameters --> error\u001b[0m\u001b[0;34m\u001b[0m\u001b[0m\n\u001b[0m",
      "\u001b[0;31mTypeError\u001b[0m: my_sqrt() takes 1 positional argument but 2 were given"
     ]
    }
   ],
   "source": [
    "my_sqrt(42, 42) # too many parameters --> error"
   ]
  },
  {
   "cell_type": "markdown",
   "metadata": {},
   "source": [
    "Die letzte Zeile der ```my_sqrt``` Funktion beinhaltet eine Anweisung mit dem Schlüsselwort ```return```. Hierdurch definiert man den Rückgabewert einer Funktion. Gibt es keine explizite ```return``` Anweisung, ist der Rückgabewert der Funktion ```None```. Die ```return``` Anweisung kann prinzipiell an jeder Stelle einer Funktion stehen. Die Ausführung der Funktion wird sofort beendet, wenn ```return``` aufgerufen wird.\n",
    "\n",
    "## Docstrings\n",
    "\n",
    "Dokumentation von Quelltext ist wichtig für die Wiederverwendbarkeit von Quelltext. Will man eine Funktion wiederverwenden, möchte man nicht erst den kompletten Quelltext der Funktion lesen, um zu verstehen, was die Funktion macht. Stattdessen benötigt man einfach nur eine Beschreibung von der Funktionalität, den Parametern, und von den Rückgabewerten. In Python gibt es hierfür *docstrings*. Ein docstring ist ein mehrzeiliger String (```\"\"\"...\"\"\"```) direkt nach der Definition einer Funktion als erste Anweisung der Funktion. "
   ]
  },
  {
   "cell_type": "code",
   "execution_count": 58,
   "metadata": {},
   "outputs": [],
   "source": [
    "def my_sqrt(x):\n",
    "    \"\"\"Returns the square root of x\"\"\"\n",
    "    guess = 1\n",
    "    while(abs(guess*guess-x)>0.0001):\n",
    "        guess = (1/2)*(guess+x/guess)\n",
    "    return guess"
   ]
  },
  {
   "cell_type": "markdown",
   "metadata": {},
   "source": [
    "## Default Parameter\n",
    "\n",
    "In Python kann man Funktionsparameter auch mit vorgeben Werten belegen, sogenannten *defaults*. Diese müssen dann nicht mehr zwingend angegeben werden. Hierzu weißt man den default Wert wie bei einer normalen Zuweisung direkt hinter dem Namen des Parameters zu."
   ]
  },
  {
   "cell_type": "code",
   "execution_count": 59,
   "metadata": {},
   "outputs": [
    {
     "name": "stdout",
     "output_type": "stream",
     "text": [
      "calling my_sqrt with default value for verbose\n",
      "6.480740727643494\n",
      "\n",
      "calling my_sqrt with verbose=True\n",
      "approximation in step 1: 21.5\n",
      "approximation in step 2: 11.726744186046512\n",
      "approximation in step 3: 7.654150476761481\n",
      "approximation in step 4: 6.570684743283659\n",
      "approximation in step 5: 6.481356306333419\n",
      "approximation in step 6: 6.480740727643494\n",
      "6.480740727643494\n"
     ]
    }
   ],
   "source": [
    "def my_sqrt(x, verbose=False):\n",
    "    \"\"\"Returns the square root of x\"\"\"\n",
    "    guess = 1\n",
    "    step = 1\n",
    "    while(abs(guess*guess-x)>0.0001):\n",
    "        guess = (1/2)*(guess+x/guess)\n",
    "        if verbose:\n",
    "            print(f\"approximation in step {step}: {guess}\")\n",
    "        step += 1\n",
    "    return guess\n",
    "\n",
    "print(\"calling my_sqrt with default value for verbose\")\n",
    "print(my_sqrt(42))\n",
    "print(\"\\ncalling my_sqrt with verbose=True\")\n",
    "print(my_sqrt(42, True))"
   ]
  },
  {
   "cell_type": "markdown",
   "metadata": {},
   "source": [
    "Damit Funktionaufrufe eindeutig bleiben, muss man Default Parameter von hinten nach vorne definieren. Ansonsten gibt es eine Fehlermeldung."
   ]
  },
  {
   "cell_type": "code",
   "execution_count": 17,
   "metadata": {},
   "outputs": [
    {
     "ename": "SyntaxError",
     "evalue": "non-default argument follows default argument (<ipython-input-17-a10c4b352c3a>, line 1)",
     "output_type": "error",
     "traceback": [
      "\u001b[0;36m  File \u001b[0;32m\"<ipython-input-17-a10c4b352c3a>\"\u001b[0;36m, line \u001b[0;32m1\u001b[0m\n\u001b[0;31m    def my_sqrt(x=42, verbose):\u001b[0m\n\u001b[0m               ^\u001b[0m\n\u001b[0;31mSyntaxError\u001b[0m\u001b[0;31m:\u001b[0m non-default argument follows default argument\n"
     ]
    }
   ],
   "source": [
    "def my_sqrt(x=42, verbose):\n",
    "    \"\"\"Returns the square root of x\"\"\"\n",
    "    guess = 1\n",
    "    step = 1\n",
    "    while(abs(guess*guess-x)>0.0001):\n",
    "        guess = (1/2)*(guess+x/guess)\n",
    "        if verbose:\n",
    "            print(f\"approximation in step {step}: {guess}\")\n",
    "        step += 1\n",
    "    return guess"
   ]
  },
  {
   "cell_type": "markdown",
   "metadata": {},
   "source": [
    "Eine Eigenheit von Python ist, dass Default Parameter nur einmal ausgewertet werden. Solang Objekte unveränderbar sind, ist das kein Problem. Wenn man jedoch veränderbare Objekte als Default Parameter hat, kann dies zu unerwarteten Problemen führen, wenn man nicht auspasst. "
   ]
  },
  {
   "cell_type": "code",
   "execution_count": 22,
   "metadata": {},
   "outputs": [
    {
     "name": "stdout",
     "output_type": "stream",
     "text": [
      "[42]\n",
      "[42, 42]\n"
     ]
    }
   ],
   "source": [
    "def create_or_append(value, list=[]):\n",
    "    \"\"\"Returns the value as part of a list.\"\"\"\n",
    "    list.append(value)\n",
    "    return list\n",
    "\n",
    "print(create_or_append(42)) # works as intended\n",
    "print(create_or_append(42)) # same list as default parameter as before, element twice --> not as intended"
   ]
  },
  {
   "cell_type": "markdown",
   "metadata": {},
   "source": [
    "Man kann das Problem umgehen, in dem man als Default den Wert ```None``` angibt, und den eigentlich geplanten ```Default``` Wert erst innerhalb der Funktion zuweist."
   ]
  },
  {
   "cell_type": "code",
   "execution_count": null,
   "metadata": {},
   "outputs": [],
   "source": [
    "def create_or_append(value, list=None):\n",
    "    \"\"\"Returns the value as part of a list.\"\"\"\n",
    "    if list is None:\n",
    "        list = []\n",
    "    list.append(value)\n",
    "    return list\n",
    "\n",
    "print(create_or_append(42)) # works as intended\n",
    "print(create_or_append(42)) # works as intended"
   ]
  },
  {
   "cell_type": "markdown",
   "metadata": {},
   "source": [
    "## Named Parameter\n",
    "\n",
    "Man kann Parameter in Python auf zwei Arten übergeben: Über ihre Position oder über ihren Namen. Bisher haben wir die Parameter immer über die Position übergeben. Will man Parameter per Namen übergeben, weißt man Sie im Funktionsaufruf zu. "
   ]
  },
  {
   "cell_type": "code",
   "execution_count": 26,
   "metadata": {},
   "outputs": [
    {
     "data": {
      "text/plain": [
       "6.480740727643494"
      ]
     },
     "execution_count": 26,
     "metadata": {},
     "output_type": "execute_result"
    }
   ],
   "source": [
    "my_sqrt(x=42)"
   ]
  },
  {
   "cell_type": "markdown",
   "metadata": {},
   "source": [
    "Man kann auch einige Parameter durch ihren Namen übergeben, und andere durch die Position. Hier gilt eine ähnliche Regel wie bei Default Parametern. man muss dies von Vorne nach hinten machen, sonst gibt es Fehler. "
   ]
  },
  {
   "cell_type": "code",
   "execution_count": 27,
   "metadata": {},
   "outputs": [
    {
     "name": "stdout",
     "output_type": "stream",
     "text": [
      "approximation in step 1: 21.5\n",
      "approximation in step 2: 11.726744186046512\n",
      "approximation in step 3: 7.654150476761481\n",
      "approximation in step 4: 6.570684743283659\n",
      "approximation in step 5: 6.481356306333419\n",
      "approximation in step 6: 6.480740727643494\n"
     ]
    },
    {
     "data": {
      "text/plain": [
       "6.480740727643494"
      ]
     },
     "execution_count": 27,
     "metadata": {},
     "output_type": "execute_result"
    }
   ],
   "source": [
    "my_sqrt(42,verbose=True)"
   ]
  },
  {
   "cell_type": "code",
   "execution_count": 28,
   "metadata": {},
   "outputs": [
    {
     "ename": "SyntaxError",
     "evalue": "positional argument follows keyword argument (<ipython-input-28-cc75115baf89>, line 1)",
     "output_type": "error",
     "traceback": [
      "\u001b[0;36m  File \u001b[0;32m\"<ipython-input-28-cc75115baf89>\"\u001b[0;36m, line \u001b[0;32m1\u001b[0m\n\u001b[0;31m    my_sqrt(x=42,True)\u001b[0m\n\u001b[0m                ^\u001b[0m\n\u001b[0;31mSyntaxError\u001b[0m\u001b[0;31m:\u001b[0m positional argument follows keyword argument\n"
     ]
    }
   ],
   "source": [
    "my_sqrt(x=42,True) # error because keyword parameters must be last"
   ]
  },
  {
   "cell_type": "code",
   "execution_count": 30,
   "metadata": {},
   "outputs": [
    {
     "ename": "TypeError",
     "evalue": "my_sqrt() got multiple values for argument 'x'",
     "output_type": "error",
     "traceback": [
      "\u001b[0;31m---------------------------------------------------------------------------\u001b[0m",
      "\u001b[0;31mTypeError\u001b[0m                                 Traceback (most recent call last)",
      "\u001b[0;32m<ipython-input-30-a00457207fc1>\u001b[0m in \u001b[0;36m<module>\u001b[0;34m()\u001b[0m\n\u001b[0;32m----> 1\u001b[0;31m \u001b[0mmy_sqrt\u001b[0m\u001b[0;34m(\u001b[0m\u001b[0;32mTrue\u001b[0m\u001b[0;34m,\u001b[0m\u001b[0mx\u001b[0m\u001b[0;34m=\u001b[0m\u001b[0;36m42\u001b[0m\u001b[0;34m)\u001b[0m \u001b[0;31m# error because python cannot detect that the first parameter was given as keyword\u001b[0m\u001b[0;34m\u001b[0m\u001b[0m\n\u001b[0m",
      "\u001b[0;31mTypeError\u001b[0m: my_sqrt() got multiple values for argument 'x'"
     ]
    }
   ],
   "source": [
    "my_sqrt(True,x=42) # error because python cannot detect that the first parameter was given as keyword"
   ]
  },
  {
   "cell_type": "markdown",
   "metadata": {},
   "source": [
    "Man kann Parameter auch über ihren Namen als Dictionary übergeben. Hierzu muss man ein Dict übergeben und mit ```**``` definieren, dass es sich hierbei um Funktionsparameter handelt."
   ]
  },
  {
   "cell_type": "code",
   "execution_count": 42,
   "metadata": {},
   "outputs": [
    {
     "data": {
      "text/plain": [
       "6.480740727643494"
      ]
     },
     "execution_count": 42,
     "metadata": {},
     "output_type": "execute_result"
    }
   ],
   "source": [
    "param_dict = {\"x\": 42}\n",
    "my_sqrt(**param_dict)  # use ** to singify that the dict is not a normal parameter, but contains named parameters"
   ]
  },
  {
   "cell_type": "markdown",
   "metadata": {},
   "source": [
    "Gibt man nichts weiter an, aktzeptieren Funktionen die Parameter sowohl über die Position, als auch über ihren Namen. Will man, dass Parameter nur über ihren Namen übergeben werden können, kann man dies erzwingen. Hierzu fügt man einen Parameter ```*``` hinzu. Dieser Parameter existiert nicht wirklich und gibt lediglich an, dass alle folgenden Parameter nur über ihren Namen akzeptiert werden."
   ]
  },
  {
   "cell_type": "code",
   "execution_count": 54,
   "metadata": {},
   "outputs": [
    {
     "data": {
      "text/plain": [
       "6.480740727643494"
      ]
     },
     "execution_count": 54,
     "metadata": {},
     "output_type": "execute_result"
    }
   ],
   "source": [
    "def my_sqrt_keyword_only(*, x, verbose=False):\n",
    "    \"\"\"Returns the square root of x\"\"\"\n",
    "    guess = 1\n",
    "    step = 1\n",
    "    while(abs(guess*guess-x)>0.0001):\n",
    "        guess = (1/2)*(guess+x/guess)\n",
    "        if verbose:\n",
    "            print(f\"approximation in step {step}: {guess}\")\n",
    "        step += 1\n",
    "    return guess\n",
    "\n",
    "my_sqrt_keyword_only(x=42) # still works"
   ]
  },
  {
   "cell_type": "markdown",
   "metadata": {},
   "source": [
    "Probiert man Parameter über ihre Position zu übergeben gibt es eine Fehlermeldung."
   ]
  },
  {
   "cell_type": "code",
   "execution_count": 56,
   "metadata": {},
   "outputs": [
    {
     "ename": "TypeError",
     "evalue": "my_sqrt_keyword_only() takes 0 positional arguments but 1 was given",
     "output_type": "error",
     "traceback": [
      "\u001b[0;31m---------------------------------------------------------------------------\u001b[0m",
      "\u001b[0;31mTypeError\u001b[0m                                 Traceback (most recent call last)",
      "\u001b[0;32m<ipython-input-56-39d06a1e5643>\u001b[0m in \u001b[0;36m<module>\u001b[0;34m()\u001b[0m\n\u001b[0;32m----> 1\u001b[0;31m \u001b[0mmy_sqrt_keyword_only\u001b[0m\u001b[0;34m(\u001b[0m\u001b[0;36m42\u001b[0m\u001b[0;34m)\u001b[0m \u001b[0;31m# error because only key word arguments are accepted\u001b[0m\u001b[0;34m\u001b[0m\u001b[0m\n\u001b[0m",
      "\u001b[0;31mTypeError\u001b[0m: my_sqrt_keyword_only() takes 0 positional arguments but 1 was given"
     ]
    }
   ],
   "source": [
    "my_sqrt_keyword_only(42) # error because only key word arguments are accepted"
   ]
  },
  {
   "cell_type": "markdown",
   "metadata": {},
   "source": [
    "## Beliebige Parameter\n",
    "\n",
    "Es gibt Funktionen, für die man die Anzahl der Parameter nicht genau kennt. Die ```print``` Funktion ist ein Beispiel hierfür. Bisher wurde ```print``` immer mit genau einem Parameter aufgerufen. Dies ist gar nicht nötig, da ```print``` beliebig viele Parameter auf einmal ausgeben kann. Diese Parameter müssen nichtmal den selben Typ haben. Sie können also beliebig sein. "
   ]
  },
  {
   "cell_type": "code",
   "execution_count": 32,
   "metadata": {},
   "outputs": [
    {
     "name": "stdout",
     "output_type": "stream",
     "text": [
      "first string 42 second string 3.14\n"
     ]
    }
   ],
   "source": [
    "print(\"first string\", 42, \"second string\", 3.14)"
   ]
  },
  {
   "cell_type": "markdown",
   "metadata": {},
   "source": [
    "Man definiert eine Liste von beliebigen Parametern, in dem man einen Parameternamen mit ```*``` beginnt. Man bekommt diese Parameter in der Funktion als Tupel übergeben. "
   ]
  },
  {
   "cell_type": "code",
   "execution_count": 52,
   "metadata": {},
   "outputs": [
    {
     "name": "stdout",
     "output_type": "stream",
     "text": [
      "000: first string\n",
      "001: 42\n",
      "002: second string\n",
      "003: 3.14\n"
     ]
    }
   ],
   "source": [
    "def print_with_linesnumbers(*args):\n",
    "    \"\"\"Prints every argument in a new line and adds line numbers\"\"\"\n",
    "    for i,arg in enumerate(args):\n",
    "        print(f\"{i:03d}: {arg}\")\n",
    "\n",
    "print_with_linesnumbers(\"first string\", 42, \"second string\", 3.14)"
   ]
  },
  {
   "cell_type": "markdown",
   "metadata": {},
   "source": [
    "Man kann auch feste Positionsparameter mit beliebigen Parametern kombinieren."
   ]
  },
  {
   "cell_type": "code",
   "execution_count": 53,
   "metadata": {},
   "outputs": [
    {
     "name": "stdout",
     "output_type": "stream",
     "text": [
      "Here is the output\n",
      "000: first string\n",
      "001: 42\n",
      "002: second string\n",
      "003: 3.14\n"
     ]
    }
   ],
   "source": [
    "def print_with_linesnumbers(header, *args):\n",
    "    \"\"\"Prints every argument in a new line and adds line numbers\"\"\"\n",
    "    print(header)\n",
    "    for i,arg in enumerate(args):\n",
    "        print(f\"{i:03d}: {arg}\")\n",
    "\n",
    "print_with_linesnumbers(\"Here is the output\", \"first string\", 42, \"second string\", 3.14)"
   ]
  },
  {
   "cell_type": "markdown",
   "metadata": {},
   "source": [
    "Parameter können auch weiterhin über ihren Namen übergeben werden, jedoch nur, wenn diese nach der Parameterliste definiert werden. Diese Parameter müssen dann auch zwingend über ihren Namen übergeben werden. "
   ]
  },
  {
   "cell_type": "code",
   "execution_count": 6,
   "metadata": {},
   "outputs": [
    {
     "name": "stdout",
     "output_type": "stream",
     "text": [
      "Here is the output\n",
      "0000: first string\n",
      "0001: 42\n",
      "0002: second string\n",
      "0003: 3.14\n"
     ]
    }
   ],
   "source": [
    "def print_with_linesnumbers(header, *args, numberwidth):\n",
    "    \"\"\"Prints every argument in a new line and adds line numbers\"\"\"\n",
    "    print(header)\n",
    "    for i,arg in enumerate(args):\n",
    "        print(f\"{i:0{numberwidth}d}: {arg}\")\n",
    "\n",
    "print_with_linesnumbers(\"Here is the output\", \"first string\", 42, \"second string\", 3.14, numberwidth=4)"
   ]
  },
  {
   "cell_type": "markdown",
   "metadata": {},
   "source": [
    "Default Werte können auch nur für die Named Parameter definiert werden, also nur die Parameter nach der beliebigen Liste. Neben beliebigen Postionsparametern kann man auch beliebige Named Parameter erlauben. Hierzu muss der letzte Parameter einer Funktion mit ```**``` beginnen. Dieser bekommt dann ein Dictionary mit allen Named Parametern, die nicht explizit in der Funktion definiert sind. "
   ]
  },
  {
   "cell_type": "code",
   "execution_count": 12,
   "metadata": {},
   "outputs": [
    {
     "name": "stdout",
     "output_type": "stream",
     "text": [
      "Here is the output\n",
      "0000: first string\n",
      "0001: 42\n",
      "0002: second string\n",
      "0003: 3.14\n",
      "there are additional named parameters:\n",
      "some_parameter: value\n"
     ]
    }
   ],
   "source": [
    "def print_with_linesnumbers(header, *args, numberwidth, **dictargs):\n",
    "    \"\"\"Prints every argument in a new line and adds line numbers\"\"\"\n",
    "    print(header)\n",
    "    for i,arg in enumerate(args):\n",
    "        print(f\"{i:0{numberwidth}d}: {arg}\")\n",
    "    if len(dictargs)>0:\n",
    "        print(\"there are additional named parameters:\")\n",
    "        for key,value in dictargs.items():\n",
    "            print(f\"{key}: {value}\")\n",
    "\n",
    "print_with_linesnumbers(\"Here is the output\", \"first string\", 42, \"second string\", 3.14, numberwidth=4, some_parameter=\"value\")"
   ]
  },
  {
   "cell_type": "markdown",
   "metadata": {},
   "source": [
    "## Lambda Ausdrücke\n",
    "\n",
    "Mit Lambda Ausdrücken kann man einfache Funktionen erstellen, die keinen Namen haben, also ohne ```def``` erzeugt werden. Lambda Ausdrücke werden mit dem Schlüsselwort ```lamdba``` erstellt und bestehen aus einer Parameterliste und eine einzigen Ausdruck. "
   ]
  },
  {
   "cell_type": "code",
   "execution_count": 15,
   "metadata": {},
   "outputs": [
    {
     "name": "stdout",
     "output_type": "stream",
     "text": [
      "4\n",
      "6\n"
     ]
    }
   ],
   "source": [
    "def multiplier(mult):\n",
    "    \"\"\"Creates functions that multiply values with a defined number\"\"\"\n",
    "    return lambda x : x*mult # anonymuous function that takes x as parameter and multiplies the value with mult\n",
    "\n",
    "doubler = multiplier(2) # creates a function that multiplies values with 2\n",
    "tripler = multiplier(3) # creates a function that multiplies values with 3\n",
    "print(doubler(2))\n",
    "print(tripler(2))"
   ]
  },
  {
   "cell_type": "markdown",
   "metadata": {},
   "source": [
    "Auch wenn Lambda Ausdrücke erstmal sehr Abstrakt erscheinen, sind Sie insbesondere für die Verarbeitung von Daten sehr hilfreich. Daher wird sich der wahre Nutzen von Lambdas erst später in der Vorlesung erschließen. "
   ]
  },
  {
   "cell_type": "markdown",
   "metadata": {},
   "source": [
    "# Klassen\n",
    "\n",
    "Klassen definieren die Struktur und das Verhalten von Objekten. Hierdurch lassen sich gleichartige Objekte erzeugen. Vereinfacht gesagt sind diese Objekte nichts anderes als eine Sammlung von Variablen, die den Zustand der Klasse bestimmen und von Methoden, die das Verhalten der Objekte bestimmen. Methoden sind wiederrum nichts anderes als Funktionen, nur das diese eben zu einer Klasse gehören. Klassen sind das Kernkonzept der *objektorientierten* Programmierung und stehen zum Beispiel im Mittelpunkt des Sprachdesigns von Java. \n",
    "\n",
    "## Definition von Klassen\n",
    "\n",
    "Definiert werden Klassen mit Hilfe des Schlüsselworts ```class```. "
   ]
  },
  {
   "cell_type": "code",
   "execution_count": 2,
   "metadata": {},
   "outputs": [],
   "source": [
    "class Person:                 # defines a class Person\n",
    "    \"\"\"A very simple class\"\"\" # docstring for the class, same as for functions\n",
    "    \n",
    "    name = \"Jane Doe\"         # variable name that belongs to the class\n",
    "    \n",
    "    def print_name(self):     # method of the class that defines the behavior\n",
    "        print(self.name)"
   ]
  },
  {
   "cell_type": "markdown",
   "metadata": {},
   "source": [
    "Eine Klasse kann benutzt werden in dem sie instanitiiert wird um ein Objekt zu erstellen. Das instanziieren  eines Objektes ähnelt einem Funktionsaufruf. Objekte der Klasse ```Person``` wird zum Besipiel durch ```Person()``` erstellt. Die Methode ```print_name``` hat den Parameter ```self```. Dieser Parameter refenziert das Objekt selbst, also eine Instanz der Klasse. Die Referenz zum Objekt selbst ist immer der erste Parameter von Methoden, der Name ```self``` ist lediglich eine Konvention und kein Schlüsselwort, wie in Java zum Beispiel ```this```. ```self``` muss auch niemals selbst bei einem Methodenaufruf angegeben werden. Durch ```self``` ist es möglich auf Variablen und Methoden der Klasse zuzugreifen. Mit ```self.name``` wird somit auf die ```name``` Variable der Klasse zugegriffen. Man kann auch von außerhalb der Klasse auf alle Methoden und Variablen der Klasse zugreifen. Hierdurch unterscheiden sich Klassen in Python stark von Klassen in anderen objektorientierten Sprachen, wie zum Beispiel Java. "
   ]
  },
  {
   "cell_type": "code",
   "execution_count": 3,
   "metadata": {},
   "outputs": [
    {
     "name": "stdout",
     "output_type": "stream",
     "text": [
      "Jane Doe\n",
      "Jane Doe\n"
     ]
    }
   ],
   "source": [
    "my_person = Person()   # instantiates an object of the class Person\n",
    "my_person.print_name() # calls the method print_name on the object my_person; self must not be passed explicitly\n",
    "print(Person.name)     # class variables can also be access from the outside, there is no concept of information hiding in python"
   ]
  },
  {
   "cell_type": "markdown",
   "metadata": {},
   "source": [
    "## Die __init__ Methode\n",
    "\n",
    "Wenn die Personen alle den gleichen Namen haben, macht das natürlich semantisch nicht viel Sinn. Besser wäre es, wenn man den Namen der Person direkt beim instanziieren des Objektes angeben kann. Hierfür gibt es in der Objektorientierung das Konzept der *Konstrukturen*. Konstruktoren sind Methoden, mit denen neue Objekte erstellt werden. In Python wird dies durch die ```__init___``` Methode umgesetzt. Es gibt zwar Streng genommen auch noch ```__new__```, aber in der Regel reicht es wenn man davon ausgeht, dass ```__init__``` der Konstruktor ist. Daher wird ```__new__``` hier nicht genauer betrachtet."
   ]
  },
  {
   "cell_type": "code",
   "execution_count": 6,
   "metadata": {},
   "outputs": [],
   "source": [
    "class Person:\n",
    "    \"\"\"A very simple class\"\"\"\n",
    "    \n",
    "    def __init__(self, name): # constructor that sets the name of the person\n",
    "        self.name = name\n",
    "    \n",
    "    def print_name(self):\n",
    "        print(self.name)"
   ]
  },
  {
   "cell_type": "markdown",
   "metadata": {},
   "source": [
    "In dieser neuen Personenklasse wird die Variable ```name``` nicht mehr statisch auf den Wert ```\"Jane Doe\"``` initialisiert. Stattdessen wird sie über die ```__init__``` Methode gesetzt. Jetzt kann man Personen mit verschiedenen Namen erstellen. "
   ]
  },
  {
   "cell_type": "code",
   "execution_count": 10,
   "metadata": {},
   "outputs": [
    {
     "name": "stdout",
     "output_type": "stream",
     "text": [
      "John Smith\n",
      "Jane Doe\n"
     ]
    }
   ],
   "source": [
    "john_smith = Person(\"John Smith\")\n",
    "jane_doe = Person(\"Jane Doe\")\n",
    "john_smith.print_name()\n",
    "jane_doe.print_name()"
   ]
  },
  {
   "cell_type": "markdown",
   "metadata": {},
   "source": [
    "Man kann jetzt auch keine Personen mehr erstellen ohne den Namen anzugeben, weil es keine ```__init___``` Methode gibt, die ohne einen Parameter auskommt."
   ]
  },
  {
   "cell_type": "code",
   "execution_count": 18,
   "metadata": {},
   "outputs": [
    {
     "ename": "TypeError",
     "evalue": "__init__() missing 1 required positional argument: 'name'",
     "output_type": "error",
     "traceback": [
      "\u001b[0;31m---------------------------------------------------------------------------\u001b[0m",
      "\u001b[0;31mTypeError\u001b[0m                                 Traceback (most recent call last)",
      "\u001b[0;32m<ipython-input-18-2f422888e15c>\u001b[0m in \u001b[0;36m<module>\u001b[0;34m()\u001b[0m\n\u001b[0;32m----> 1\u001b[0;31m \u001b[0mPerson\u001b[0m\u001b[0;34m(\u001b[0m\u001b[0;34m)\u001b[0m\u001b[0;34m\u001b[0m\u001b[0m\n\u001b[0m",
      "\u001b[0;31mTypeError\u001b[0m: __init__() missing 1 required positional argument: 'name'"
     ]
    }
   ],
   "source": [
    "Person()"
   ]
  },
  {
   "cell_type": "markdown",
   "metadata": {},
   "source": [
    "## Instanzvariablen und Klassenvariablen\n",
    "\n",
    "Das Beispiel zeigt auch einen weiteren wichtigen Unterschied zwischen Python und anderen objekt-orientierten Sprachen. Variablen von Klassen müssen nicht vorher deklariert werden, sondern können jederzeit angelegt werden. Daher spricht man bei diesen Variablen in Python auch von Instanzvariablen, da sie nur von der Instanz einer Klasse zur Laufzeit abhängen. Welche Variablen im Objekt einer Klasse zur Verfügung stehen, kann sich jederzeit ändern. "
   ]
  },
  {
   "cell_type": "code",
   "execution_count": 14,
   "metadata": {},
   "outputs": [
    {
     "name": "stdout",
     "output_type": "stream",
     "text": [
      "blue\n"
     ]
    }
   ],
   "source": [
    "jane_doe.eye_color = \"blue\" # sets a new class variable eye_color for jane_doe\n",
    "print(jane_doe.eye_color)"
   ]
  },
  {
   "cell_type": "markdown",
   "metadata": {},
   "source": [
    "Ein Korrolar hiervon ist, das Objekte der gleichen Klasse nicht zwingend die gleichen Variablen haben müssen. "
   ]
  },
  {
   "cell_type": "code",
   "execution_count": 17,
   "metadata": {},
   "outputs": [
    {
     "ename": "AttributeError",
     "evalue": "'Person' object has no attribute 'eye_color'",
     "output_type": "error",
     "traceback": [
      "\u001b[0;31m---------------------------------------------------------------------------\u001b[0m",
      "\u001b[0;31mAttributeError\u001b[0m                            Traceback (most recent call last)",
      "\u001b[0;32m<ipython-input-17-2662aa627eb8>\u001b[0m in \u001b[0;36m<module>\u001b[0;34m()\u001b[0m\n\u001b[0;32m----> 1\u001b[0;31m \u001b[0mjohn_smith\u001b[0m\u001b[0;34m.\u001b[0m\u001b[0meye_color\u001b[0m\u001b[0;34m\u001b[0m\u001b[0m\n\u001b[0m",
      "\u001b[0;31mAttributeError\u001b[0m: 'Person' object has no attribute 'eye_color'"
     ]
    }
   ],
   "source": [
    "john_smith.eye_color"
   ]
  },
  {
   "cell_type": "markdown",
   "metadata": {},
   "source": [
    "Als Klassenvariablen bezeichnet man Variablen, die sich alle Instanzen einer Klasse teilen. Hierzu definiert man eine Variable direkt in der Klasse, wie wir es im ersten Beispiel mit dem Namen getan haben. "
   ]
  },
  {
   "cell_type": "code",
   "execution_count": 24,
   "metadata": {},
   "outputs": [
    {
     "name": "stdout",
     "output_type": "stream",
     "text": [
      "human\n",
      "human\n"
     ]
    }
   ],
   "source": [
    "class Person:\n",
    "    \"\"\"A very simple class\"\"\"\n",
    "    \n",
    "    kind = \"human\"            # the same in all instances of this class\n",
    "    \n",
    "    def __init__(self, name):\n",
    "        self.name = name\n",
    "    \n",
    "    def print_name(self):\n",
    "        print(self.name)\n",
    "        \n",
    "    def print_kind(self):\n",
    "        print(self.kind)\n",
    "        \n",
    "jane_doe = Person(\"Jane Doe\")\n",
    "john_smith = Person(\"John Smith\")\n",
    "jane_doe.print_kind()\n",
    "john_smith.print_kind()"
   ]
  },
  {
   "cell_type": "markdown",
   "metadata": {},
   "source": [
    "Klassenvariablen werden, genau wie Default Parameter, nur einmal initialisiert. Mit veränderbaren Objekten muss man also aus dem gleichen Grund aufpassen. Eine weitere Eigenheit von Klassenvariablen ist, dass man diese einfach wieder zu Instanzvariablen werden lassen kann, in dem man diese neu zuweißt. Echte Klassenvariablen, bei denen garantiert ist das sie immer in allen Instanzen gleich sind, gibt es in Python nicht. "
   ]
  },
  {
   "cell_type": "code",
   "execution_count": 25,
   "metadata": {},
   "outputs": [
    {
     "name": "stdout",
     "output_type": "stream",
     "text": [
      "human\n",
      "neanderthal\n"
     ]
    }
   ],
   "source": [
    "john_smith.kind = \"neanderthal\"\n",
    "jane_doe.print_kind()\n",
    "john_smith.print_kind()"
   ]
  },
  {
   "cell_type": "markdown",
   "metadata": {},
   "source": [
    "## Information Hiding\n",
    "\n",
    "Ein zentrales Konzept der Objektorientierung ist das *information hiding*. Hierdurch kann man sichergehen, dass bestimmte Informationen nur innerhalb einer Klasse sichtbar ist, in dem man diese Informationen als *private* deklariert. Dies kann sowohl für Methoden, als auch für Variablen sinnvoll sein. In Python gibt es kein information hiding, alle Variablen und Methoden sind immer von überall aus zugreifbar, wenn man ihren Namen kennt. \n",
    "\n",
    "In Python arbeitet man daher mit Namenskonventionen um etwas als *private* zu deklarieren. Dies kann dann zwar immernoch zugegriffen werden, aber durch die Namenskonvention ist zumindest bekannt, dass man dies nicht tun sollte. Für ein einfachen Hinweis auf *private* beginnt man einem Methoden und Variablennamen mit einem Unterstrich ```_```."
   ]
  },
  {
   "cell_type": "code",
   "execution_count": 63,
   "metadata": {},
   "outputs": [],
   "source": [
    "class Person:\n",
    "    \"\"\"A very simple class\"\"\"\n",
    "    \n",
    "    _kind = \"human\"           # _kind indicates that _kind should not be access from outside this class\n",
    "    \n",
    "    def __init__(self, name):\n",
    "        self._name = name     # self._name indicates that _name should not be access from outside this class\n",
    "    \n",
    "    def print_name(self):\n",
    "        print(self._name)\n",
    "        \n",
    "    def print_kind(self):\n",
    "        print(self._kind)"
   ]
  },
  {
   "cell_type": "markdown",
   "metadata": {},
   "source": [
    "## Vererbung\n",
    "\n",
    "Ein weiteres wichtiges Konzept der Objektorientierung ist die Vererbung. Wenn eine Klasse von einer anderen erbt, übernimmt sie deren Verhalten. Man nennt die Klasse von der geerbt wird Elternklasse, die erbende Klasse ist das Kind. Statt dem Begriff erben wird auch häufig der Begriff ableiten verwendet. Man sagt also das eine Kindklasse von einer Elternklasse abgeleitet wird. "
   ]
  },
  {
   "cell_type": "code",
   "execution_count": 44,
   "metadata": {},
   "outputs": [],
   "source": [
    "class Vehicle:                         # our parent class\n",
    "    \"\"\"A genric class for vehicles\"\"\"\n",
    "    \n",
    "    def __init__(self, seats):\n",
    "        self._seats = seats            # all vehicles have seats\n",
    "    \n",
    "    def get_num_seats(self):           # method will be available in all child classes\n",
    "        return self._seats\n",
    "\n",
    "    \n",
    "class Bicycle(Vehicle):                # defines that Bicycle is a child of Vehicle\n",
    "    \"\"\"A class for bicycles\"\"\"\n",
    "    \n",
    "    def __init__(self):\n",
    "        super().__init__(1)            # calls the __init__ method from the parent class\n",
    "\n",
    "\n",
    "class Car(Vehicle):                    # defines that Car is a child of Vehicle\n",
    "    \"\"\"A class for cars\"\"\"\n",
    "    \n",
    "    def __init__(self, doors, seats):\n",
    "        super().__init__(seats)        # calls the __init__ method from the parent class\n",
    "        self._doors = doors            # cars have a different number of doors, e.g. 3 or 5\n",
    "        \n",
    "    def get_num_doors(self):           # a new method that is only available for cars\n",
    "        return self._doors"
   ]
  },
  {
   "cell_type": "markdown",
   "metadata": {},
   "source": [
    "Im obigen Beispiel erben die Klassen ```Bicycle``` und ```Car``` von der gemeinsamen Elternklasse ```Vehicle```. Mit anderen Worten, alle Autos und Fahrräder sind Fahrzeuge. Die Umkehrrichtung gilt nicht, es kann durchaus Fahrzeuge geben, die weder Autos, noch Fahhräder sind. Durch die Vererbung entsteht daher eine *Klassenhierarchie*. Die Kinder sind in dieser Hierarchie Spezialisierungen der Eltern, bzw. die Eltern Generalisierungen der Kinder. Entsprechend können die Kinder auch alles, was die Eltern können, die Eltern jedoch nicht alles, was die Kinder können. Im ```__init__``` der beiden Kindklassen wird die Methode ```super()``` verwendet. Hiermit wird explizit die Elternklasse refenziert. ```super().__init__(1)``` ruft also die ```__init__()``` Methode der Elternklasse mit dem Parameter 1 auf. "
   ]
  },
  {
   "cell_type": "code",
   "execution_count": 45,
   "metadata": {},
   "outputs": [
    {
     "name": "stdout",
     "output_type": "stream",
     "text": [
      "my_car has 5 seats.\n",
      "my_bicycle has 1 seats.\n",
      "my_other_vehicle has 5000 seats.\n",
      "my_car has 3 doors.\n"
     ]
    }
   ],
   "source": [
    "my_car = Car(3,5)\n",
    "my_bicycle = Bicycle()\n",
    "my_other_vehicle = Vehicle(5000)\n",
    "\n",
    "# get_num_seats can be called on all three objects\n",
    "print(f\"my_car has {my_car.get_num_seats()} seats.\")\n",
    "print(f\"my_bicycle has {my_bicycle.get_num_seats()} seats.\")\n",
    "print(f\"my_other_vehicle has {my_other_vehicle.get_num_seats()} seats.\")\n",
    "\n",
    "# get_num_doors can only be called on the car\n",
    "print(f\"my_car has {my_car.get_num_doors()} doors.\")"
   ]
  },
  {
   "cell_type": "markdown",
   "metadata": {},
   "source": [
    "## Magic Methods\n",
    "\n",
    "Ein weiteres wichtiges Konzept von Python sind *magic methods*. Im bisherigen Verlauf haben wir bereits öfter solche Methoden benutzt, ohne es zu merken, zum Beispiel ```str```, ```len``` und ```init```. Grundsätzlich werden die magic methods als Teil von Klassen definiert und ihre Namen haben die Struktur ```__name__```. Die \"Magie\" dieser Methoden besteht darin, das man sie nicht explizit aufruft. Stattdessen werden Sie von Python direkt aufgerufen. Oben haben wir zum Beispiel schon gelernt, das ```__init__``` aufgerufen wird, wenn eine neue Instanz einer Klasse erstellt wird. Dies geschieht automatisch bei der Objekterstellung. Die Alternative wäre, dass man erst ein Objekt erstellen muss, und dann ```__init__``` explizit aufrufen müsste. Wichtige magic methods sind:\n",
    "- ```__init__``` für die Initialiserung von neuen Objekten.\n",
    "- ```__len__``` für die Länge von Objekten mit ```len(object)```. \n",
    "- ```__str__``` für eine einfache und informelle Stringbeschreibung von Objekten mit ```str(object)```. Dies wird unter anderem auch von der Funktion ```print``` benutzt um Objekte auszugeben.\n",
    "- ```__repr__``` für eine ausführliche und formelle Stringbeschreibung von Objekten mit ```repr(object)```.\n",
    "- ```__del__``` für die Behandlung der Löschung von Objekten. \n",
    "- ```__lt__```, ```__le__```, ```__eq__```, ```__ne__```, ```__ge__```, ```__gt__``` zum Überladen der logischen Operatoren  ```<```, ```<=```, ```==```, ```!=```, ```>=``` und ```>```.\n",
    "- ```__add__``` zum Überladen des ```+``` Operators.\n",
    "\n",
    "Das folgende Beispiel zeigt eine Variante der ```Person``` Klasse, die zeigt wie man Magic Methods benutzt. "
   ]
  },
  {
   "cell_type": "code",
   "execution_count": 62,
   "metadata": {},
   "outputs": [
    {
     "name": "stdout",
     "output_type": "stream",
     "text": [
      "<__main__.Person object at 0x7fe7386f0f60>\n",
      "<__main__.Person object at 0x7fe7386f0f60>\n",
      "False\n",
      "Tell my family that I loved them\n",
      "Jane Doe\n",
      "Jane Doe\n",
      "Person(name=Jane Doe, age=unknown)\n",
      "Person(name=Jane Doe, age=42)\n",
      "True\n",
      "Tell my family that I loved them\n"
     ]
    }
   ],
   "source": [
    "class Person:\n",
    "    \"\"\"A very simple class without magic methods\"\"\"\n",
    "    \n",
    "    def __init__(self, name, age=None):\n",
    "        self._name = name\n",
    "        self._age = age\n",
    "    \n",
    "    def get_name_str(self):\n",
    "        return self._name\n",
    "    \n",
    "    def get_age_str(self):\n",
    "        if self._age is None:\n",
    "            return \"unknown\"\n",
    "        return str(self._age) # cast in case age is a number (this is nowhere specified!)\n",
    "    \n",
    "\n",
    "class MagicPerson:\n",
    "    \"\"\"A very simple class with magic methods\"\"\"\n",
    "    \n",
    "    def __init__(self, name, age=None):\n",
    "        self._name = name\n",
    "        self._age = age\n",
    "    \n",
    "    def get_name_str(self):\n",
    "        return self._name\n",
    "    \n",
    "    def get_age_str(self):\n",
    "        if self._age is None:\n",
    "            return \"unknown\"\n",
    "        return str(self._age) # cast in case age is a number (this is nowhere specified!)\n",
    "    \n",
    "    def __str__(self):\n",
    "        return self.get_name_str();\n",
    "    \n",
    "    def __repr__(self):\n",
    "        return f\"Person(name={self.get_name_str()}, age={self.get_age_str()})\"\n",
    "    \n",
    "    def __eq__(self, other):\n",
    "        return self._name==other._name\n",
    "    \n",
    "    def __del__(self):\n",
    "        print(\"Tell my family that I loved them\")\n",
    "\n",
    "# without magic methods\n",
    "john_smith = Person(\"John Smith\")\n",
    "john_smith2 = Person(\"John Smith\")\n",
    "print(john_smith)\n",
    "print(repr(john_smith))\n",
    "print(john_smith==john_smith2)\n",
    "\n",
    "# with magic methods\n",
    "jane_doe = MagicPerson(\"Jane Doe\")\n",
    "jane_doe2 = MagicPerson(\"Jane Doe\", age=42)\n",
    "print(jane_doe)\n",
    "print(jane_doe2)\n",
    "print(repr(jane_doe))\n",
    "print(repr(jane_doe2))\n",
    "print(jane_doe==jane_doe2)\n",
    "del jane_doe"
   ]
  },
  {
   "cell_type": "markdown",
   "metadata": {},
   "source": [
    "## Weiteres zur Objektorientierung\n",
    "\n",
    "Diese kurze Einführung in die Welt der Klassen berührt nur die Oberfläche der objektorientierten Programmierung, ist aber für diesen Kurs ausreichend und deckt auch die meisten für Python relevanten Aspekte ab. Wenn man sich sehr für Programmierung interesiert und später auch selbst Software entwickeln möchte, ist es sinnvoll sich weiter mit Objektorientierung zu befassen. \n",
    "Themen wie Entwurfsmuster für objektorientierte Sprachen, Unterschiede zwischen Interfaces und Klassen, und Mehrfachvererbung füllen ganze Bücher. "
   ]
  }
 ],
 "metadata": {
  "kernelspec": {
   "display_name": "Python 3",
   "language": "python",
   "name": "python3"
  },
  "language_info": {
   "codemirror_mode": {
    "name": "ipython",
    "version": 3
   },
   "file_extension": ".py",
   "mimetype": "text/x-python",
   "name": "python",
   "nbconvert_exporter": "python",
   "pygments_lexer": "ipython3",
   "version": "3.6.6"
  }
 },
 "nbformat": 4,
 "nbformat_minor": 2
}
